{
  "nbformat": 4,
  "nbformat_minor": 0,
  "metadata": {
    "colab": {
      "name": "Lesson 9 - NLP and Alternative Data.ipynb",
      "provenance": [],
      "collapsed_sections": [
        "j6UQi4PUz-Nw"
      ],
      "include_colab_link": true
    },
    "kernelspec": {
      "name": "python3",
      "display_name": "Python 3"
    }
  },
  "cells": [
    {
      "cell_type": "markdown",
      "metadata": {
        "id": "view-in-github",
        "colab_type": "text"
      },
      "source": [
        "<a href=\"https://colab.research.google.com/github/OscarEngelbrektson/QuantitativeTrading/blob/main/Lesson%209-NLP%20and%20Alternative%20Data.ipynb\" target=\"_parent\"><img src=\"https://colab.research.google.com/assets/colab-badge.svg\" alt=\"Open In Colab\"/></a>"
      ]
    },
    {
      "cell_type": "markdown",
      "metadata": {
        "id": "TCw9NmdUwgQ2"
      },
      "source": [
        "# For this preclass work, you will be working with financial data enlisted on the SEC website. Collecting unstructured data and organizing the data into something useful is certainly the most important step for a successful final strategy.\n",
        "\n",
        "As you follow the code, finish the unfinished cells. "
      ]
    },
    {
      "cell_type": "markdown",
      "metadata": {
        "id": "j6UQi4PUz-Nw"
      },
      "source": [
        "## Some dependency files and stuff"
      ]
    },
    {
      "cell_type": "code",
      "metadata": {
        "id": "U5bpstsIqNSV"
      },
      "source": [
        "!pip -q install wget yfinance"
      ],
      "execution_count": null,
      "outputs": []
    },
    {
      "cell_type": "code",
      "metadata": {
        "colab": {
          "base_uri": "https://localhost:8080/"
        },
        "id": "JpC7q5yQqSQc",
        "outputId": "da599e09-6d55-4316-c0f6-f2bc366ea132"
      },
      "source": [
        "import wget\n",
        "wget.download('https://gist.githubusercontent.com/neila/0184545e7a643ff7c506673b15ac3c2b/raw/3efd37ccb3b04513587b1de06494ea6f17aecaad/project_helper.py', out=\"project_helper.py\")\n",
        "wget.download('http://m.uploadedit.com/busd/1615263226166.txt', out=\"requirements.txt\")\n",
        "wget.download('https://drive.google.com/uc?export=download&id=12ECPJMxV2wSalXG8ykMmkpa1fq_ur0Rf', out='loughran_mcdonald_master_dic.csv')"
      ],
      "execution_count": null,
      "outputs": [
        {
          "output_type": "execute_result",
          "data": {
            "application/vnd.google.colaboratory.intrinsic+json": {
              "type": "string"
            },
            "text/plain": [
              "'loughran_mcdonald_master_dic (4).csv'"
            ]
          },
          "metadata": {
            "tags": []
          },
          "execution_count": 60
        }
      ]
    },
    {
      "cell_type": "code",
      "metadata": {
        "colab": {
          "base_uri": "https://localhost:8080/"
        },
        "id": "ryTaj27mqbnd",
        "outputId": "31d81ccd-6b4e-4f73-c7b8-e156b508cf1b"
      },
      "source": [
        "import sys\n",
        "!{sys.executable} -m pip install -r requirements.txt\n",
        "#ignore all the errors we gucci"
      ],
      "execution_count": null,
      "outputs": [
        {
          "output_type": "stream",
          "text": [
            "Processing /root/.cache/pip/wheels/77/1e/9a/223b4c94d7f564f25d94b48ca5b9c53e3034016ece3fd8c8c1/alphalens-0.3.2-cp37-none-any.whl\n",
            "Processing /root/.cache/pip/wheels/96/86/f6/68ab24c23f207c0077381a5e3904b2815136b879538a24b483/nltk-3.4.5-cp37-none-any.whl\n",
            "Collecting numpy==1.13.3\n",
            "  Using cached https://files.pythonhosted.org/packages/bf/2d/005e45738ab07a26e621c9c12dc97381f372e06678adf7dc3356a69b5960/numpy-1.13.3.zip\n",
            "Requirement already satisfied: ratelimit==2.2.0 in /usr/local/lib/python3.7/dist-packages (from -r requirements.txt (line 4)) (2.2.0)\n",
            "Collecting requests==2.20.0\n",
            "  Using cached https://files.pythonhosted.org/packages/f1/ca/10332a30cb25b627192b4ea272c351bce3ca1091e541245cccbace6051d8/requests-2.20.0-py2.py3-none-any.whl\n",
            "Collecting scikit-learn==0.19.1\n",
            "  Using cached https://files.pythonhosted.org/packages/f5/2c/5edf2488897cad4fb8c4ace86369833552615bf264460ae4ef6e1f258982/scikit-learn-0.19.1.tar.gz\n",
            "Collecting six==1.11.0\n",
            "  Using cached https://files.pythonhosted.org/packages/67/4b/141a581104b1f6397bfa78ac9d43d8ad29a7ca43ea90a2d863fe3056e86a/six-1.11.0-py2.py3-none-any.whl\n",
            "Collecting tqdm==4.19.5\n",
            "  Using cached https://files.pythonhosted.org/packages/71/3c/341b4fa23cb3abc335207dba057c790f3bb329f6757e1fcd5d347bcf8308/tqdm-4.19.5-py2.py3-none-any.whl\n",
            "Requirement already satisfied: scipy>=0.14.0 in /usr/local/lib/python3.7/dist-packages (from alphalens==0.3.2->-r requirements.txt (line 1)) (1.4.1)\n",
            "Requirement already satisfied: pandas>=0.18.0 in /usr/local/lib/python3.7/dist-packages (from alphalens==0.3.2->-r requirements.txt (line 1)) (1.1.5)\n",
            "Requirement already satisfied: statsmodels>=0.6.1 in /usr/local/lib/python3.7/dist-packages (from alphalens==0.3.2->-r requirements.txt (line 1)) (0.10.2)\n",
            "Requirement already satisfied: matplotlib>=1.4.0 in /usr/local/lib/python3.7/dist-packages (from alphalens==0.3.2->-r requirements.txt (line 1)) (3.2.2)\n",
            "Requirement already satisfied: seaborn>=0.6.0 in /usr/local/lib/python3.7/dist-packages (from alphalens==0.3.2->-r requirements.txt (line 1)) (0.11.1)\n",
            "Requirement already satisfied: IPython>=3.2.3 in /usr/local/lib/python3.7/dist-packages (from alphalens==0.3.2->-r requirements.txt (line 1)) (5.5.0)\n",
            "Collecting idna<2.8,>=2.5\n",
            "  Using cached https://files.pythonhosted.org/packages/4b/2a/0276479a4b3caeb8a8c1af2f8e4355746a97fab05a372e4a2c6a6b876165/idna-2.7-py2.py3-none-any.whl\n",
            "Requirement already satisfied: urllib3<1.25,>=1.21.1 in /usr/local/lib/python3.7/dist-packages (from requests==2.20.0->-r requirements.txt (line 5)) (1.24.3)\n",
            "Requirement already satisfied: certifi>=2017.4.17 in /usr/local/lib/python3.7/dist-packages (from requests==2.20.0->-r requirements.txt (line 5)) (2020.12.5)\n",
            "Requirement already satisfied: chardet<3.1.0,>=3.0.2 in /usr/local/lib/python3.7/dist-packages (from requests==2.20.0->-r requirements.txt (line 5)) (3.0.4)\n",
            "Requirement already satisfied: python-dateutil>=2.7.3 in /usr/local/lib/python3.7/dist-packages (from pandas>=0.18.0->alphalens==0.3.2->-r requirements.txt (line 1)) (2.8.1)\n",
            "Requirement already satisfied: pytz>=2017.2 in /usr/local/lib/python3.7/dist-packages (from pandas>=0.18.0->alphalens==0.3.2->-r requirements.txt (line 1)) (2018.9)\n",
            "Requirement already satisfied: patsy>=0.4.0 in /usr/local/lib/python3.7/dist-packages (from statsmodels>=0.6.1->alphalens==0.3.2->-r requirements.txt (line 1)) (0.5.1)\n",
            "Requirement already satisfied: cycler>=0.10 in /usr/local/lib/python3.7/dist-packages (from matplotlib>=1.4.0->alphalens==0.3.2->-r requirements.txt (line 1)) (0.10.0)\n",
            "Requirement already satisfied: pyparsing!=2.0.4,!=2.1.2,!=2.1.6,>=2.0.1 in /usr/local/lib/python3.7/dist-packages (from matplotlib>=1.4.0->alphalens==0.3.2->-r requirements.txt (line 1)) (2.4.7)\n",
            "Requirement already satisfied: kiwisolver>=1.0.1 in /usr/local/lib/python3.7/dist-packages (from matplotlib>=1.4.0->alphalens==0.3.2->-r requirements.txt (line 1)) (1.3.1)\n",
            "Requirement already satisfied: prompt-toolkit<2.0.0,>=1.0.4 in /usr/local/lib/python3.7/dist-packages (from IPython>=3.2.3->alphalens==0.3.2->-r requirements.txt (line 1)) (1.0.18)\n",
            "Requirement already satisfied: setuptools>=18.5 in /usr/local/lib/python3.7/dist-packages (from IPython>=3.2.3->alphalens==0.3.2->-r requirements.txt (line 1)) (54.0.0)\n",
            "Requirement already satisfied: pexpect; sys_platform != \"win32\" in /usr/local/lib/python3.7/dist-packages (from IPython>=3.2.3->alphalens==0.3.2->-r requirements.txt (line 1)) (4.8.0)\n",
            "Requirement already satisfied: simplegeneric>0.8 in /usr/local/lib/python3.7/dist-packages (from IPython>=3.2.3->alphalens==0.3.2->-r requirements.txt (line 1)) (0.8.1)\n",
            "Requirement already satisfied: traitlets>=4.2 in /usr/local/lib/python3.7/dist-packages (from IPython>=3.2.3->alphalens==0.3.2->-r requirements.txt (line 1)) (5.0.5)\n",
            "Requirement already satisfied: decorator in /usr/local/lib/python3.7/dist-packages (from IPython>=3.2.3->alphalens==0.3.2->-r requirements.txt (line 1)) (4.4.2)\n",
            "Requirement already satisfied: pygments in /usr/local/lib/python3.7/dist-packages (from IPython>=3.2.3->alphalens==0.3.2->-r requirements.txt (line 1)) (2.6.1)\n",
            "Requirement already satisfied: pickleshare in /usr/local/lib/python3.7/dist-packages (from IPython>=3.2.3->alphalens==0.3.2->-r requirements.txt (line 1)) (0.7.5)\n",
            "Requirement already satisfied: wcwidth in /usr/local/lib/python3.7/dist-packages (from prompt-toolkit<2.0.0,>=1.0.4->IPython>=3.2.3->alphalens==0.3.2->-r requirements.txt (line 1)) (0.2.5)\n",
            "Requirement already satisfied: ptyprocess>=0.5 in /usr/local/lib/python3.7/dist-packages (from pexpect; sys_platform != \"win32\"->IPython>=3.2.3->alphalens==0.3.2->-r requirements.txt (line 1)) (0.7.0)\n",
            "Requirement already satisfied: ipython-genutils in /usr/local/lib/python3.7/dist-packages (from traitlets>=4.2->IPython>=3.2.3->alphalens==0.3.2->-r requirements.txt (line 1)) (0.2.0)\n",
            "Building wheels for collected packages: numpy, scikit-learn\n",
            "  Building wheel for numpy (setup.py) ... \u001b[?25lerror\n",
            "\u001b[31m  ERROR: Failed building wheel for numpy\u001b[0m\n",
            "\u001b[?25h  Running setup.py clean for numpy\n",
            "\u001b[31m  ERROR: Failed cleaning build dir for numpy\u001b[0m\n",
            "  Building wheel for scikit-learn (setup.py) ... \u001b[?25lerror\n",
            "\u001b[31m  ERROR: Failed building wheel for scikit-learn\u001b[0m\n",
            "\u001b[?25h  Running setup.py clean for scikit-learn\n",
            "Failed to build numpy scikit-learn\n",
            "\u001b[31mERROR: yfinance 0.1.55 has requirement numpy>=1.15, but you'll have numpy 1.13.3 which is incompatible.\u001b[0m\n",
            "\u001b[31mERROR: yellowbrick 0.9.1 has requirement scikit-learn>=0.20, but you'll have scikit-learn 0.19.1 which is incompatible.\u001b[0m\n",
            "\u001b[31mERROR: xarray 0.15.1 has requirement numpy>=1.15, but you'll have numpy 1.13.3 which is incompatible.\u001b[0m\n",
            "\u001b[31mERROR: umap-learn 0.5.1 has requirement numpy>=1.17, but you'll have numpy 1.13.3 which is incompatible.\u001b[0m\n",
            "\u001b[31mERROR: umap-learn 0.5.1 has requirement scikit-learn>=0.22, but you'll have scikit-learn 0.19.1 which is incompatible.\u001b[0m\n",
            "\u001b[31mERROR: tifffile 2021.3.4 has requirement numpy>=1.15.1, but you'll have numpy 1.13.3 which is incompatible.\u001b[0m\n",
            "\u001b[31mERROR: tensorflow 2.4.1 has requirement numpy~=1.19.2, but you'll have numpy 1.13.3 which is incompatible.\u001b[0m\n",
            "\u001b[31mERROR: tensorflow 2.4.1 has requirement six~=1.15.0, but you'll have six 1.11.0 which is incompatible.\u001b[0m\n",
            "\u001b[31mERROR: tensorboard 2.4.1 has requirement requests<3,>=2.21.0, but you'll have requests 2.20.0 which is incompatible.\u001b[0m\n",
            "\u001b[31mERROR: spacy 2.2.4 has requirement numpy>=1.15.0, but you'll have numpy 1.13.3 which is incompatible.\u001b[0m\n",
            "\u001b[31mERROR: spacy 2.2.4 has requirement tqdm<5.0.0,>=4.38.0, but you'll have tqdm 4.19.5 which is incompatible.\u001b[0m\n",
            "\u001b[31mERROR: seaborn 0.11.1 has requirement numpy>=1.15, but you'll have numpy 1.13.3 which is incompatible.\u001b[0m\n",
            "\u001b[31mERROR: pyerfa 1.7.2 has requirement numpy>=1.16, but you'll have numpy 1.13.3 which is incompatible.\u001b[0m\n",
            "\u001b[31mERROR: pyarrow 3.0.0 has requirement numpy>=1.16.6, but you'll have numpy 1.13.3 which is incompatible.\u001b[0m\n",
            "\u001b[31mERROR: plotnine 0.6.0 has requirement numpy>=1.16.0, but you'll have numpy 1.13.3 which is incompatible.\u001b[0m\n",
            "\u001b[31mERROR: pandas 1.1.5 has requirement numpy>=1.15.4, but you'll have numpy 1.13.3 which is incompatible.\u001b[0m\n",
            "\u001b[31mERROR: opencv-python 4.1.2.30 has requirement numpy>=1.14.5, but you'll have numpy 1.13.3 which is incompatible.\u001b[0m\n",
            "\u001b[31mERROR: opencv-contrib-python 4.1.2.30 has requirement numpy>=1.14.5, but you'll have numpy 1.13.3 which is incompatible.\u001b[0m\n",
            "\u001b[31mERROR: numba 0.51.2 has requirement numpy>=1.15, but you'll have numpy 1.13.3 which is incompatible.\u001b[0m\n",
            "\u001b[31mERROR: librosa 0.8.0 has requirement numpy>=1.15.0, but you'll have numpy 1.13.3 which is incompatible.\u001b[0m\n",
            "\u001b[31mERROR: imgaug 0.2.9 has requirement numpy>=1.15.0, but you'll have numpy 1.13.3 which is incompatible.\u001b[0m\n",
            "\u001b[31mERROR: imbalanced-learn 0.4.3 has requirement scikit-learn>=0.20, but you'll have scikit-learn 0.19.1 which is incompatible.\u001b[0m\n",
            "\u001b[31mERROR: google-colab 1.0.0 has requirement requests~=2.23.0, but you'll have requests 2.20.0 which is incompatible.\u001b[0m\n",
            "\u001b[31mERROR: google-colab 1.0.0 has requirement six~=1.15.0, but you'll have six 1.11.0 which is incompatible.\u001b[0m\n",
            "\u001b[31mERROR: google-api-python-client 1.12.8 has requirement six<2dev,>=1.13.0, but you'll have six 1.11.0 which is incompatible.\u001b[0m\n",
            "\u001b[31mERROR: google-api-core 1.26.1 has requirement six>=1.13.0, but you'll have six 1.11.0 which is incompatible.\u001b[0m\n",
            "\u001b[31mERROR: fbprophet 0.7.1 has requirement numpy>=1.15.4, but you'll have numpy 1.13.3 which is incompatible.\u001b[0m\n",
            "\u001b[31mERROR: fbprophet 0.7.1 has requirement tqdm>=4.36.1, but you'll have tqdm 4.19.5 which is incompatible.\u001b[0m\n",
            "\u001b[31mERROR: fastai 1.0.61 has requirement numpy>=1.15, but you'll have numpy 1.13.3 which is incompatible.\u001b[0m\n",
            "\u001b[31mERROR: dm-tree 0.1.5 has requirement six>=1.12.0, but you'll have six 1.11.0 which is incompatible.\u001b[0m\n",
            "\u001b[31mERROR: datascience 0.10.6 has requirement folium==0.2.1, but you'll have folium 0.8.3 which is incompatible.\u001b[0m\n",
            "\u001b[31mERROR: cvxpy 1.0.31 has requirement numpy>=1.15, but you'll have numpy 1.13.3 which is incompatible.\u001b[0m\n",
            "\u001b[31mERROR: blis 0.4.1 has requirement numpy>=1.15.0, but you'll have numpy 1.13.3 which is incompatible.\u001b[0m\n",
            "\u001b[31mERROR: astropy 4.2 has requirement numpy>=1.17, but you'll have numpy 1.13.3 which is incompatible.\u001b[0m\n",
            "\u001b[31mERROR: albumentations 0.1.12 has requirement imgaug<0.2.7,>=0.2.5, but you'll have imgaug 0.2.9 which is incompatible.\u001b[0m\n",
            "Installing collected packages: numpy, alphalens, six, nltk, idna, requests, scikit-learn, tqdm\n",
            "  Found existing installation: numpy 1.19.5\n",
            "    Uninstalling numpy-1.19.5:\n",
            "      Successfully uninstalled numpy-1.19.5\n",
            "    Running setup.py install for numpy ... \u001b[?25l\u001b[?25herror\n",
            "  Rolling back uninstall of numpy\n",
            "  Moving to /usr/bin/f2py\n",
            "   from /tmp/pip-uninstall-q44skhxv/f2py\n",
            "  Moving to /usr/local/bin/f2py\n",
            "   from /tmp/pip-uninstall-2zzeiq30/f2py\n",
            "  Moving to /usr/local/bin/f2py3\n",
            "   from /tmp/pip-uninstall-2zzeiq30/f2py3\n",
            "  Moving to /usr/local/bin/f2py3.7\n",
            "   from /tmp/pip-uninstall-2zzeiq30/f2py3.7\n",
            "  Moving to /usr/local/lib/python3.7/dist-packages/numpy-1.19.5.dist-info/\n",
            "   from /usr/local/lib/python3.7/dist-packages/~umpy-1.19.5.dist-info\n",
            "  Moving to /usr/local/lib/python3.7/dist-packages/numpy.libs/\n",
            "   from /usr/local/lib/python3.7/dist-packages/~umpy.libs\n",
            "  Moving to /usr/local/lib/python3.7/dist-packages/numpy/\n",
            "   from /usr/local/lib/python3.7/dist-packages/~umpy\n",
            "\u001b[31mERROR: Command errored out with exit status 1: /usr/bin/python3 -u -c 'import sys, setuptools, tokenize; sys.argv[0] = '\"'\"'/tmp/pip-install-rda83tdb/numpy/setup.py'\"'\"'; __file__='\"'\"'/tmp/pip-install-rda83tdb/numpy/setup.py'\"'\"';f=getattr(tokenize, '\"'\"'open'\"'\"', open)(__file__);code=f.read().replace('\"'\"'\\r\\n'\"'\"', '\"'\"'\\n'\"'\"');f.close();exec(compile(code, __file__, '\"'\"'exec'\"'\"'))' install --record /tmp/pip-record-uvqdwtut/install-record.txt --single-version-externally-managed --compile Check the logs for full command output.\u001b[0m\n"
          ],
          "name": "stdout"
        }
      ]
    },
    {
      "cell_type": "code",
      "metadata": {
        "id": "0yxEptBxqgL0",
        "colab": {
          "base_uri": "https://localhost:8080/"
        },
        "outputId": "134e8b4c-b005-4691-b6f2-581f9cda4dfa"
      },
      "source": [
        "!pip install ratelimit==2.2.0"
      ],
      "execution_count": null,
      "outputs": [
        {
          "output_type": "stream",
          "text": [
            "Requirement already satisfied: ratelimit==2.2.0 in /usr/local/lib/python3.7/dist-packages (2.2.0)\n"
          ],
          "name": "stdout"
        }
      ]
    },
    {
      "cell_type": "code",
      "metadata": {
        "id": "CqGErxYSq1X9"
      },
      "source": [
        "import urllib\n",
        "import nltk\n",
        "import numpy as np\n",
        "import pandas as pd\n",
        "import pickle\n",
        "import pprint\n",
        "import project_helper\n",
        "\n",
        "from tqdm import tqdm"
      ],
      "execution_count": null,
      "outputs": []
    },
    {
      "cell_type": "code",
      "metadata": {
        "id": "eLXSf8Byq_dT",
        "colab": {
          "base_uri": "https://localhost:8080/"
        },
        "outputId": "e101811d-8646-49c8-8068-0dd8492e1741"
      },
      "source": [
        "nltk.download('stopwords')\n",
        "nltk.download('wordnet')"
      ],
      "execution_count": null,
      "outputs": [
        {
          "output_type": "stream",
          "text": [
            "[nltk_data] Downloading package stopwords to /root/nltk_data...\n",
            "[nltk_data]   Package stopwords is already up-to-date!\n",
            "[nltk_data] Downloading package wordnet to /root/nltk_data...\n",
            "[nltk_data]   Package wordnet is already up-to-date!\n"
          ],
          "name": "stdout"
        },
        {
          "output_type": "execute_result",
          "data": {
            "text/plain": [
              "True"
            ]
          },
          "metadata": {
            "tags": []
          },
          "execution_count": 64
        }
      ]
    },
    {
      "cell_type": "markdown",
      "metadata": {
        "id": "pgkMJGporIj-"
      },
      "source": [
        "## Getting the 10k documents\n",
        "\n",
        "First, write a function to look up the CIK of a company given their tickers."
      ]
    },
    {
      "cell_type": "code",
      "metadata": {
        "id": "t4DljWW1rHTZ"
      },
      "source": [
        "import re, requests\n",
        "\n",
        "def getCIKs(TICKERS):\n",
        "    URL = 'http://www.sec.gov/cgi-bin/browse-edgar?CIK={}&Find=Search&owner=exclude&action=getcompany'\n",
        "    CIK_RE = re.compile(r'.*CIK=(\\d{10}).*')    \n",
        "    cik_dict = {}\n",
        "\n",
        "    for ticker in TICKERS:\n",
        "      #Scrape URL\n",
        "      get_request = requests.get(URL.format(ticker), stream=True);\n",
        "\n",
        "      #Extract CIK from URL\n",
        "      results = CIK_RE.findall(get_request.text)\n",
        "\n",
        "      #Add CIK to dict\n",
        "      cik_dict[ticker] = results[0]\n",
        "\n",
        "    return cik_dict\n",
        "\n",
        "\n",
        "\n",
        "#SHOULD RETURN IN THIS DICTIONARY FORMAT:\n",
        "\n",
        "assert getCIKs(\n",
        "    ['AMZN','BMY','CNP','CVX','FL','FRT','HON']\n",
        "    ) == {\n",
        "        'AMZN': '0001018724','BMY': '0000014272','CNP': '0001130310',\n",
        "         'CVX': '0000093410','FL': '0000850209','FRT': '0000034903', \n",
        "         'HON': '0000773840'}"
      ],
      "execution_count": null,
      "outputs": []
    },
    {
      "cell_type": "code",
      "metadata": {
        "id": "Y27v7OjEmKH3"
      },
      "source": [
        "stocks = [\"A\",\"AA\",\"AAAU\",\"AACG\",\"AADR\",\"AAL\",\"AAMC\",\"AAME\",\"AAN\",\"AAOI\",\"AAON\",\"AAP\",\"AAPL\",\"AAT\",\"AAU\",\"AAWW\",\"AAXJ\",\"AAXN\",\"AB\",\"ABB\",\"ABBV\",\"ABC\",\"ABCB\",\"ABEO\",\"ABEQ\",\"ABEV\",\"ABG\",\"ABIO\",\"ABM\",\"ABMD\",\"ABR\",\"ABR\",\"ABR\",\"ABR\",\"ABT\",\"ABTX\",\"ABUS\",\"AC\",\"ACA\",\"ACAD\",\"ACAM\",\"ACAMU\",\"ACAMW\",\"ACB\",\"ACBI\",\"ACC\",\"ACCO\",\"ACEL\",\"ACEL\",\"ACER\",\"ACES\",\"ACGL\",\"ACGLO\",\"ACGLP\",\"ACH\",\"ACHC\",\"ACHV\",\"ACIA\",\"ACIO\",\"ACIU\",\"ACIW\",\"ACLS\",\"ACM\",\"ACMR\",\"ACN\",\"ACNB\",\"ACOR\",\"ACP\",\"ACRE\",\"ACRS\",\"ACRX\",\"ACSG\",\"ACSI\",\"ACST\",\"ACT\",\"ACTG\",\"ACTT\",\"ACTTU\",\"ACTTW\",\"ACU\",\"ACV\",\"ACWF\",\"ACWI\",\"ACWV\",\"ACWX\",\"ACY\",\"ADAP\",\"ADBE\",\"ADC\",\"ADES\",\"ADI\",\"ADIL\",\"ADILW\",\"ADM\",\"ADMA\",\"ADME\",\"ADMP\",\"ADMS\",\"ADNT\",\"ADP\",\"ADPT\",\"ADRA\",\"ADRD\",\"ADRE\",\"ADRO\",\"ADRU\",\"ADS\",\"ADSK\",\"ADSW\",\"ADT\",\"ADTN\",\"ADUS\",\"ADVM\",\"ADX\",\"ADXN\",\"ADXS\",\"AE\",\"AEB\",\"AEE\",\"AEF\",\"AEFC\",\"AEG\",\"AEGN\",\"AEHR\",\"AEIS\",\"AEL\",\"AEL\",\"AEM\",\"AEMD\",\"AEO\",\"AEP\",\"AEP\",\"AER\",\"AERI\",\"AES\",\"AESE\",\"AESR\",\"AEY\",\"AEYE\",\"AEZS\",\"AFB\",\"AFC\",\"AFG\",\"AFGB\",\"AFGC\",\"AFGH\",\"AFH\",\"AFI\",\"AFIF\",\"AFIN\",\"AFINP\",\"AFK\",\"AFL\",\"AFLG\",\"AFMC\",\"AFMD\",\"AFSM\",\"AFT\",\"AFTY\",\"AFYA\",\"AG\",\"AGBA\",\"AGBAR\",\"AGBAU\",\"AGBAW\",\"AGCO\",\"AGD\",\"AGE\",\"AGEN\",\"AGFS\",\"AGFSW\",\"AGG\",\"AGGP\",\"AGGY\",\"AGI\",\"AGIO\",\"AGLE\",\"AGM\",\"AGM\",\"AGM\",\"AGM\",\"AGM\",\"AGMH\",\"AGN\",\"AGNC\",\"AGNCM\",\"AGNCN\",\"AGNCO\",\"AGNCP\",\"AGND\",\"AGO\",\"AGO\",\"AGO\",\"AGO\",\"AGQ\",\"AGR\",\"AGRO\",\"AGRX\",\"AGS\",\"AGT\",\"AGTC\",\"AGX\",\"AGYS\",\"AGZ\",\"AGZD\",\"AHC\",\"AHCO\",\"AHH\",\"AHH\",\"AHL\",\"AHL\",\"AHL\",\"AHPI\",\"AHT\",\"AHT\",\"AHT\",\"AHT\",\"AHT\",\"AHT\",\"AI\",\"AI\",\"AI\",\"AIA\",\"AIC\",\"AIEQ\",\"AIF\",\"AIG\",\"AIG\",\"AIG\",\"AIH\",\"AIHS\",\"AIIQ\",\"AIM\",\"AIMC\",\"AIMT\",\"AIN\",\"AINC\",\"AINV\",\"AIO\",\"AIQ\",\"AIR\",\"AIRG\",\"AIRI\",\"AIRR\",\"AIRT\",\"AIRTP\",\"AIRTW\",\"AIT\",\"AIV\",\"AIW\",\"AIZ\",\"AIZP\",\"AJG\",\"AJRD\",\"AJX\",\"AJXA\",\"AKAM\",\"AKBA\",\"AKCA\",\"AKER\",\"AKG\",\"AKO\",\"AKO\",\"AKR\",\"AKRO\",\"AKRX\",\"AKS\",\"AKTS\",\"AKTX\",\"AL\",\"AL\",\"ALAC\",\"ALACR\",\"ALACU\",\"ALACW\",\"ALB\",\"ALBO\",\"ALC\",\"ALCO\",\"ALDX\",\"ALE\",\"ALEC\",\"ALEX\",\"ALFA\",\"ALG\",\"ALGN\",\"ALGR\",\"ALGRR\",\"ALGRU\",\"ALGRW\",\"ALGT\",\"ALIM\",\"ALJJ\",\"ALK\",\"ALKS\",\"ALL\",\"ALL\",\"ALL\",\"ALL\",\"ALL\",\"ALLE\",\"ALLK\",\"ALLO\",\"ALLT\",\"ALLY\",\"ALLY\",\"ALNA\",\"ALNY\",\"ALO\",\"ALOT\",\"ALP\",\"ALPN\",\"ALRM\",\"ALRN\",\"ALRS\",\"ALSK\",\"ALSN\",\"ALT\",\"ALTM\",\"ALTR\",\"ALTS\",\"ALTY\",\"ALUS\",\"ALUS\",\"ALUS\",\"ALV\",\"ALX\",\"ALXN\",\"ALYA\",\"AM\",\"AMAG\",\"AMAL\",\"AMAT\",\"AMBA\",\"AMBC\",\"AMBC\",\"AMBO\",\"AMC\",\"AMCA\",\"AMCI\",\"AMCIU\",\"AMCIW\",\"AMCR\",\"AMCX\",\"AMD\",\"AME\",\"AMED\",\"AMEH\",\"AMG\",\"AMGN\",\"AMH\",\"AMH\",\"AMH\",\"AMH\",\"AMH\",\"AMH\",\"AMHC\",\"AMHCU\",\"AMHCW\",\"AMJ\",\"AMJL\",\"AMK\",\"AMKR\",\"AMLP\",\"AMN\",\"AMNB\",\"AMOM\",\"AMOT\",\"AMOV\",\"AMP\",\"AMPE\",\"AMPH\",\"AMPY\",\"AMRB\",\"AMRC\",\"AMRH\",\"AMRHW\",\"AMRK\",\"AMRN\",\"AMRS\",\"AMRX\",\"AMS\",\"AMSC\",\"AMSF\",\"AMSWA\",\"AMT\",\"AMTB\",\"AMTBB\",\"AMTD\",\"AMTX\",\"AMU\",\"AMUB\",\"AMWD\",\"AMX\",\"AMZA\",\"AMZN\",\"AN\",\"ANAB\",\"ANAT\",\"ANCN\",\"ANDA\",\"ANDAR\",\"ANDAU\",\"ANDAW\",\"ANDE\",\"ANET\",\"ANF\",\"ANGI\",\"ANGL\",\"ANGO\",\"ANH\",\"ANH\",\"ANH\",\"ANH\",\"ANIK\",\"ANIP\",\"ANIX\",\"ANPC\",\"ANSS\",\"ANTE\",\"ANTM\",\"ANVS\",\"ANY\",\"AOA\",\"AOBC\",\"AOD\",\"AOIL\",\"AOK\",\"AOM\",\"AON\",\"AOR\",\"AOS\",\"AOSL\",\"AP\",\"APA\",\"APAM\",\"APD\",\"APDN\",\"APEI\",\"APEN\",\"APEX\",\"APH\",\"APHA\",\"APLE\",\"APLS\",\"APLT\",\"APM\",\"APO\",\"APO\",\"APO\",\"APOG\",\"APOP\",\"APOPW\",\"APPF\",\"APPN\",\"APPS\",\"APRE\",\"APRN\",\"APT\",\"APTO\",\"APTS\",\"APTV\",\"APTX\",\"APVO\",\"APWC\",\"APXT\",\"APXTU\",\"APXTW\",\"APY\",\"APYX\",\"AQB\",\"AQMS\",\"AQN\",\"AQNA\",\"AQNB\",\"AQST\",\"AQUA\",\"AR\",\"ARA\",\"ARAV\",\"ARAY\",\"ARC\",\"ARCB\",\"ARCC\",\"ARCE\",\"ARCH\",\"ARCM\",\"ARCO\",\"ARCT\",\"ARD\",\"ARDC\",\"ARDS\",\"ARDX\",\"ARE\",\"AREC\",\"ARES\",\"ARES\",\"ARGD\",\"ARGO\",\"ARGT\",\"ARGX\",\"ARI\",\"ARKF\",\"ARKG\",\"ARKK\",\"ARKQ\",\"ARKR\",\"ARKW\",\"ARL\",\"ARLO\",\"ARLP\",\"ARMK\",\"ARMP\",\"ARMR\",\"ARNA\",\"ARNC\",\"ARNC\",\"AROC\",\"AROW\",\"ARPO\",\"ARQT\",\"ARR\",\"ARR\",\"ARR\",\"ARTL\",\"ARTLW\",\"ARTNA\",\"ARTW\",\"ARVN\",\"ARW\",\"ARWR\",\"ARYA\",\"ARYAU\",\"ARYAW\",\"ASA\",\"ASB\",\"ASB\",\"ASB\",\"ASB\",\"ASC\",\"ASEA\",\"ASET\",\"ASFI\",\"ASG\",\"ASGN\",\"ASH\",\"ASHR\",\"ASHS\",\"ASHX\",\"ASIX\",\"ASLN\",\"ASM\",\"ASMB\",\"ASML\",\"ASNA\",\"ASND\",\"ASPN\",\"ASPS\",\"ASPU\",\"ASR\",\"ASRT\",\"ASRV\",\"ASRVP\",\"ASTC\",\"ASTE\",\"ASUR\",\"ASX\",\"ASYS\",\"AT\",\"ATAX\",\"ATEC\",\"ATEN\",\"ATEST\",\"ATEST\",\"ATEST\",\"ATEST\",\"ATEX\",\"ATGE\",\"ATH\",\"ATH\",\"ATH\",\"ATHE\",\"ATHM\",\"ATHX\",\"ATI\",\"ATIF\",\"ATKR\",\"ATLC\",\"ATLO\",\"ATMP\",\"ATNI\",\"ATNM\",\"ATNX\",\"ATO\",\"ATOM\",\"ATOS\",\"ATR\",\"ATRA\",\"ATRC\",\"ATRI\",\"ATRO\",\"ATRS\",\"ATSG\",\"ATTO\",\"ATUS\",\"ATV\",\"ATVI\",\"ATXI\",\"AU\",\"AUB\",\"AUBN\",\"AUDC\",\"AUG\",\"AUMN\",\"AUPH\",\"AUSF\",\"AUTL\",\"AUTO\",\"AUY\",\"AVA\",\"AVAL\",\"AVAV\",\"AVB\",\"AVCO\",\"AVD\",\"AVDE\",\"AVDL\",\"AVDV\",\"AVEM\",\"AVEO\",\"AVGO\",\"AVGOP\",\"AVGR\",\"AVH\",\"AVID\",\"AVK\",\"AVLR\",\"AVNS\",\"AVNW\",\"AVRO\",\"AVT\",\"AVTR\",\"AVTR\",\"AVUS\",\"AVUV\",\"AVX\",\"AVXL\",\"AVY\",\"AVYA\",\"AWF\",\"AWI\",\"AWK\",\"AWP\",\"AWR\",\"AWRE\",\"AWTM\",\"AWX\",\"AX\",\"AXAS\",\"AXDX\",\"AXE\",\"AXGN\",\"AXGT\",\"AXJL\",\"AXL\",\"AXLA\",\"AXNX\",\"AXO\",\"AXP\",\"AXR\",\"AXS\",\"AXS\",\"AXSM\",\"AXTA\",\"AXTI\",\"AXU\",\"AY\",\"AYI\",\"AYR\",\"AYTU\",\"AYX\",\"AZN\",\"AZO\",\"AZPN\",\"AZRE\",\"AZRX\",\"AZUL\",\"AZZ\",\"B\",\"BA\",\"BAB\",\"BABA\",\"BAC\",\"BAC\",\"BAC\",\"BAC\",\"BAC\",\"BAC\",\"BAC\",\"BAC\",\"BAC\",\"BAF\",\"BAH\",\"BAK\",\"BAL\",\"BAM\",\"BANC\",\"BANC\",\"BANC\",\"BAND\",\"BANF\",\"BANFP\",\"BANR\",\"BANX\",\"BAP\",\"BAPR\",\"BAR\",\"BASI\",\"BATRA\",\"BATRK\",\"BATT\",\"BAUG\",\"BAX\",\"BB\",\"BBAR\",\"BBAX\",\"BBBY\",\"BBC\",\"BBCA\",\"BBCP\",\"BBD\",\"BBDC\",\"BBDO\",\"BBEU\",\"BBF\",\"BBGI\",\"BBH\",\"BBI\",\"BBIN\",\"BBIO\",\"BBJP\",\"BBK\",\"BBL\",\"BBN\",\"BBP\",\"BBQ\",\"BBRE\",\"BBSA\",\"BBSI\",\"BBU\",\"BBUS\",\"BBVA\",\"BBW\",\"BBX\",\"BBY\",\"BC\",\"BC\",\"BC\",\"BC\",\"BCBP\",\"BCC\",\"BCD\",\"BCDA\",\"BCDAW\",\"BCE\",\"BCEI\",\"BCEL\",\"BCH\",\"BCI\",\"BCLI\",\"BCM\",\"BCML\",\"BCO\",\"BCOM\",\"BCOR\",\"BCOV\",\"BCOW\",\"BCPC\",\"BCRH\",\"BCRX\",\"BCS\",\"BCSF\",\"BCTF\",\"BCV\",\"BCV\",\"BCX\",\"BCYC\",\"BDC\",\"BDCL\",\"BDCS\",\"BDCY\",\"BDCZ\",\"BDEC\",\"BDGE\",\"BDJ\",\"BDL\",\"BDN\",\"BDR\",\"BDRY\",\"BDSI\",\"BDTX\",\"BDX\",\"BDXA\",\"BE\",\"BEAM\",\"BEAT\",\"BECN\",\"BEDU\",\"BELFA\",\"BELFB\",\"BEN\",\"BEP\",\"BERY\",\"BEST\",\"BF\",\"BF\",\"BFAM\",\"BFC\",\"BFEB\",\"BFIN\",\"BFIT\",\"BFK\",\"BFO\",\"BFOR\",\"BFRA\",\"BFS\",\"BFS\",\"BFS\",\"BFST\",\"BFY\",\"BFZ\",\"BG\",\"BGB\",\"BGCP\",\"BGFV\",\"BGG\",\"BGH\",\"BGI\",\"BGIO\",\"BGNE\",\"BGR\",\"BGRN\",\"BGS\",\"BGSF\",\"BGT\",\"BGX\",\"BGY\",\"BH\",\"BH\",\"BHAT\",\"BHB\",\"BHC\",\"BHE\",\"BHF\",\"BHFAL\",\"BHFAP\",\"BHK\",\"BHLB\",\"BHP\",\"BHR\",\"BHR\",\"BHR\",\"BHTG\",\"BHV\",\"BHVN\",\"BIB\",\"BIBL\",\"BICK\",\"BIDU\",\"BIF\",\"BIG\",\"BIIB\",\"BIL\",\"BILI\",\"BILL\",\"BIMI\",\"BIO\",\"BIO\",\"BIOC\",\"BIOL\",\"BIOX\",\"BIOX\",\"BIP\",\"BIS\",\"BIT\",\"BITA\",\"BIV\",\"BIZD\",\"BJ\",\"BJAN\",\"BJK\",\"BJRI\",\"BJUL\",\"BJUN\",\"BK\",\"BK\",\"BKCC\",\"BKD\",\"BKE\",\"BKEP\",\"BKEPP\",\"BKF\",\"BKH\",\"BKI\",\"BKK\",\"BKLN\",\"BKN\",\"BKNG\",\"BKR\",\"BKSC\",\"BKT\",\"BKTI\",\"BKU\",\"BKYI\",\"BL\",\"BLBD\",\"BLCM\",\"BLCN\",\"BLD\",\"BLDP\",\"BLDR\",\"BLE\",\"BLES\",\"BLFS\",\"BLHY\",\"BLIN\",\"BLK\",\"BLKB\",\"BLL\",\"BLMN\",\"BLNK\",\"BLNKW\",\"BLOK\",\"BLPH\",\"BLRX\",\"BLU\",\"BLUE\",\"BLV\",\"BLW\",\"BLX\",\"BMA\",\"BMCH\",\"BME\",\"BMEZ\",\"BMI\",\"BML\",\"BML\",\"BML\",\"BML\",\"BMLP\",\"BMO\",\"BMRA\",\"BMRC\",\"BMRN\",\"BMTC\",\"BMY\",\"BMY\",\"BND\",\"BNDC\",\"BNDW\",\"BNDX\",\"BNED\",\"BNFT\",\"BNGO\",\"BNGOW\",\"BNKD\",\"BNKO\",\"BNKU\",\"BNKZ\",\"BNO\",\"BNOV\",\"BNS\",\"BNSO\",\"BNTC\",\"BNTCW\",\"BNTX\",\"BNY\",\"BOCH\",\"BOCT\",\"BOE\",\"BOH\",\"BOIL\",\"BOKF\",\"BOKFL\",\"BOMN\",\"BOND\",\"BOOM\",\"BOOT\",\"BORR\",\"BOSC\",\"BOSS\",\"BOTJ\",\"BOTZ\",\"BOUT\",\"BOX\",\"BOXL\",\"BP\",\"BPFH\",\"BPMC\",\"BPMP\",\"BPMX\",\"BPOP\",\"BPOPM\",\"BPOPN\",\"BPR\",\"BPRAP\",\"BPRN\",\"BPT\",\"BPTH\",\"BPY\",\"BPYPO\",\"BPYPP\",\"BQH\",\"BR\",\"BRBR\",\"BRBS\",\"BRC\",\"BREW\",\"BRF\",\"BRFS\",\"BRG\",\"BRG\",\"BRG\",\"BRG\",\"BRID\",\"BRK\",\"BRK\",\"BRKL\",\"BRKR\",\"BRKS\",\"BRMK\",\"BRMK\",\"BRN\",\"BRO\",\"BROG\",\"BROGW\",\"BRP\",\"BRPA\",\"BRPAR\",\"BRPAU\",\"BRPAW\",\"BRPM\",\"BRPM\",\"BRPM\",\"BRQS\",\"BRT\",\"BRX\",\"BRY\",\"BRZU\",\"BSA\",\"BSAC\",\"BSAE\",\"BSBE\",\"BSBK\",\"BSBR\",\"BSCE\",\"BSCK\",\"BSCL\",\"BSCM\",\"BSCN\",\"BSCO\",\"BSCP\",\"BSCQ\",\"BSCR\",\"BSCS\",\"BSCT\",\"BSD\",\"BSDE\",\"BSE\",\"BSEP\",\"BSET\",\"BSGM\",\"BSIG\",\"BSJK\",\"BSJL\",\"BSJM\",\"BSJN\",\"BSJO\",\"BSJP\",\"BSJQ\",\"BSJR\",\"BSL\",\"BSM\",\"BSML\",\"BSMM\",\"BSMN\",\"BSMO\",\"BSMP\",\"BSMQ\",\"BSMR\",\"BSMS\",\"BSMT\",\"BSMX\",\"BSQR\",\"BSRR\",\"BST\",\"BSTC\",\"BSTZ\",\"BSV\",\"BSVN\",\"BSX\",\"BTA\",\"BTAI\",\"BTAL\",\"BTE\",\"BTEC\",\"BTG\",\"BTI\",\"BTN\",\"BTO\",\"BTT\",\"BTU\",\"BTYS\",\"BTZ\",\"BUD\",\"BUG\",\"BUI\",\"BUL\",\"BURG\",\"BURL\",\"BUSE\",\"BUY\",\"BUYN\",\"BV\",\"BVAL\",\"BVN\",\"BVSN\",\"BVXV\",\"BVXVW\",\"BW\",\"BWA\",\"BWAY\",\"BWB\",\"BWEN\",\"BWFG\",\"BWG\",\"BWL\",\"BWMC\",\"BWMCU\",\"BWMCW\",\"BWX\",\"BWXT\",\"BWZ\",\"BX\",\"BXC\",\"BXG\",\"BXMT\",\"BXMX\",\"BXP\",\"BXP\",\"BXRX\",\"BXS\",\"BXS\",\"BY\",\"BYD\",\"BYFC\",\"BYLD\",\"BYM\",\"BYND\",\"BYSI\",\"BZH\",\"BZM\",\"BZQ\",\"BZUN\",\"C\",\"C\",\"C\",\"C\",\"C\",\"CAAP\",\"CAAS\",\"CABA\",\"CABO\",\"CAC\",\"CACC\",\"CACG\",\"CACI\",\"CADE\",\"CAE\",\"CAF\",\"CAG\",\"CAH\",\"CAI\",\"CAI\",\"CAI\",\"CAJ\",\"CAKE\",\"CAL\",\"CALA\",\"CALF\",\"CALM\",\"CALX\",\"CAMP\",\"CAMT\",\"CAN\",\"CANE\",\"CANF\",\"CANG\",\"CAPE\",\"CAPL\",\"CAPR\",\"CAR\",\"CARA\",\"CARE\",\"CARG\",\"CARO\",\"CARS\",\"CARV\",\"CARZ\",\"CASA\",\"CASH\",\"CASI\",\"CASS\",\"CASY\",\"CAT\",\"CATB\",\"CATC\",\"CATH\",\"CATM\",\"CATO\",\"CATS\",\"CATY\",\"CB\",\"CBAN\",\"CBAT\",\"CBAY\",\"CBB\",\"CBB\",\"CBD\",\"CBFV\",\"CBH\",\"CBIO\",\"CBL\",\"CBL\",\"CBL\",\"CBLI\",\"CBMB\",\"CBMG\",\"CBNK\",\"CBO\",\"CBOE\",\"CBON\",\"CBPO\",\"CBRE\",\"CBRL\",\"CBSH\",\"CBSHP\",\"CBT\",\"CBTX\",\"CBU\",\"CBX\",\"CBZ\",\"CC\",\"CCAC\",\"CCAP\",\"CCB\",\"CCBG\",\"CCC\",\"CCC\",\"CCCL\",\"CCD\",\"CCEP\",\"CCF\",\"CCH\",\"CCH\",\"CCH\",\"CCI\",\"CCI\",\"CCJ\",\"CCK\",\"CCL\",\"CCLP\",\"CCM\",\"CCMP\",\"CCNE\",\"CCO\",\"CCOI\",\"CCOR\",\"CCR\",\"CCRC\",\"CCRN\",\"CCS\",\"CCU\",\"CCX\",\"CCX\",\"CCX\",\"CCXI\",\"CCZ\",\"CDAY\",\"CDC\",\"CDE\",\"CDEV\",\"CDK\",\"CDL\",\"CDLX\",\"CDMO\",\"CDMOP\",\"CDNA\",\"CDNS\",\"CDOR\",\"CDR\",\"CDR\",\"CDR\",\"CDTX\",\"CDW\",\"CDXC\",\"CDXS\",\"CDZI\",\"CE\",\"CEA\",\"CECE\",\"CEE\",\"CEF\",\"CEFL\",\"CEFS\",\"CEFZ\",\"CEI\",\"CEIX\",\"CEL\",\"CELC\",\"CELG\",\"CELH\",\"CELP\",\"CEM\",\"CEMB\",\"CEMI\",\"CEN\",\"CENT\",\"CENTA\",\"CENX\",\"CEO\",\"CEPU\",\"CEQP\",\"CEQP\",\"CERC\",\"CERN\",\"CERS\",\"CET\",\"CETV\",\"CETX\",\"CETXP\",\"CETXW\",\"CEV\",\"CEVA\",\"CEW\",\"CEY\",\"CEZ\",\"CF\",\"CFA\",\"CFB\",\"CFBI\",\"CFBK\",\"CFFA\",\"CFFAU\",\"CFFAW\",\"CFFI\",\"CFFN\",\"CFG\",\"CFG\",\"CFG\",\"CFMS\",\"CFO\",\"CFR\",\"CFR\",\"CFRX\",\"CFX\",\"CFXA\",\"CG\",\"CGA\",\"CGBD\",\"CGC\",\"CGEN\",\"CGIX\",\"CGNX\",\"CGO\",\"CGW\",\"CHA\",\"CHAD\",\"CHAP\",\"CHAU\",\"CHCI\",\"CHCO\",\"CHCT\",\"CHD\",\"CHDN\",\"CHE\",\"CHEF\",\"CHEK\",\"CHEKW\",\"CHEKZ\",\"CHEP\",\"CHFS\",\"CHGG\",\"CHGX\",\"CHH\",\"CHI\",\"CHIC\",\"CHIE\",\"CHIH\",\"CHII\",\"CHIK\",\"CHIL\",\"CHIM\",\"CHIQ\",\"CHIR\",\"CHIS\",\"CHIU\",\"CHIX\",\"CHK\",\"CHK\",\"CHKP\",\"CHKR\",\"CHL\",\"CHMA\",\"CHMG\",\"CHMI\",\"CHMI\",\"CHMI\",\"CHN\",\"CHNA\",\"CHNG\",\"CHNGU\",\"CHNR\",\"CHPM\",\"CHPMU\",\"CHPMW\",\"CHRA\",\"CHRS\",\"CHRW\",\"CHS\",\"CHSCL\",\"CHSCM\",\"CHSCN\",\"CHSCO\",\"CHSCP\",\"CHT\",\"CHTR\",\"CHU\",\"CHUY\",\"CHW\",\"CHWY\",\"CHY\",\"CI\",\"CIA\",\"CIB\",\"CIBR\",\"CID\",\"CIDM\",\"CIEN\",\"CIF\",\"CIFS\",\"CIG\",\"CIG\",\"CIGI\",\"CIH\",\"CII\",\"CIIC\",\"CIICU\",\"CIICW\",\"CIK\",\"CIL\",\"CIM\",\"CIM\",\"CIM\",\"CIM\",\"CIM\",\"CINF\",\"CINR\",\"CIO\",\"CIO\",\"CIR\",\"CIT\",\"CIT\",\"CIVB\",\"CIX\",\"CIZ\",\"CIZN\",\"CJJD\",\"CKH\",\"CKPT\",\"CKX\",\"CL\",\"CLAR\",\"CLB\",\"CLBK\",\"CLBS\",\"CLCT\",\"CLDB\",\"CLDR\",\"CLDT\",\"CLDX\",\"CLF\",\"CLFD\",\"CLGN\",\"CLGX\",\"CLH\",\"CLI\",\"CLIR\",\"CLIX\",\"CLLS\",\"CLM\",\"CLMT\",\"CLNC\",\"CLNE\",\"CLNY\",\"CLNY\",\"CLNY\",\"CLNY\",\"CLNY\",\"CLOU\",\"CLPR\",\"CLPS\",\"CLPT\",\"CLR\",\"CLRB\",\"CLRBZ\",\"CLRG\",\"CLRO\",\"CLS\",\"CLSD\",\"CLSK\",\"CLSN\",\"CLTL\",\"CLUB\",\"CLVS\",\"CLW\",\"CLWT\",\"CLX\",\"CLXT\",\"CM\",\"CMA\",\"CMBM\",\"CMBS\",\"CMC\",\"CMCL\",\"CMCM\",\"CMCO\",\"CMCSA\",\"CMCT\",\"CMCTP\",\"CMD\",\"CMDY\",\"CME\",\"CMF\",\"CMFNL\",\"CMG\",\"CMI\",\"CMLS\",\"CMO\",\"CMO\",\"CMP\",\"CMPR\",\"CMRE\",\"CMRE\",\"CMRE\",\"CMRE\",\"CMRE\",\"CMRX\",\"CMS\",\"CMS\",\"CMSA\",\"CMSC\",\"CMSD\",\"CMT\",\"CMTL\",\"CMU\",\"CN\",\"CNA\",\"CNAT\",\"CNBKA\",\"CNBS\",\"CNC\",\"CNCE\",\"CNCR\",\"CNDT\",\"CNET\",\"CNF\",\"CNFR\",\"CNFRL\",\"CNHI\",\"CNI\",\"CNK\",\"CNMD\",\"CNNB\",\"CNNE\",\"CNO\",\"CNOB\",\"CNP\",\"CNP\",\"CNQ\",\"CNR\",\"CNRG\",\"CNS\",\"CNSL\",\"CNSP\",\"CNST\",\"CNTG\",\"CNTY\",\"CNX\",\"CNXM\",\"CNXN\",\"CNXT\",\"CNY\",\"CNYA\",\"CO\",\"COCP\",\"CODA\",\"CODI\",\"CODI\",\"CODI\",\"CODI\",\"CODX\",\"COE\",\"COF\",\"COF\",\"COF\",\"COF\",\"COF\",\"COF\",\"COF\",\"COFS\",\"COG\",\"COHN\",\"COHR\",\"COHU\",\"COKE\",\"COLB\",\"COLD\",\"COLL\",\"COLM\",\"COM\",\"COMB\",\"COMM\",\"COMT\",\"CONE\",\"CONN\",\"COO\",\"COOP\",\"COP\",\"COPX\",\"COR\",\"CORE\",\"CORN\",\"CORP\",\"CORR\",\"CORR\",\"CORT\",\"CORV\",\"COST\",\"COT\",\"COTY\",\"COUP\",\"COW\",\"COWN\",\"COWNL\",\"COWNZ\",\"COWZ\",\"CP\",\"CPA\",\"CPAA\",\"CPAAU\",\"CPAAW\",\"CPAC\",\"CPAH\",\"CPB\",\"CPE\",\"CPER\",\"CPF\",\"CPG\",\"CPHC\",\"CPHI\",\"CPI\",\"CPIX\",\"CPK\",\"CPLG\",\"CPLP\",\"CPRI\",\"CPRT\",\"CPRX\",\"CPS\",\"CPSH\",\"CPSI\",\"CPSS\",\"CPST\",\"CPT\",\"CPTA\",\"CPTAG\",\"CPTAL\",\"CPZ\",\"CQP\",\"CQQQ\",\"CR\",\"CRAI\",\"CRAK\",\"CRBN\",\"CRBP\",\"CRC\",\"CRD\",\"CRD\",\"CREE\",\"CREG\",\"CRESY\",\"CREX\",\"CREXW\",\"CRF\",\"CRH\",\"CRHM\",\"CRI\",\"CRIS\",\"CRK\",\"CRL\",\"CRM\",\"CRMD\",\"CRMT\",\"CRNC\",\"CRNT\",\"CRNX\",\"CROC\",\"CRON\",\"CROP\",\"CROX\",\"CRS\",\"CRSA\",\"CRSAU\",\"CRSAW\",\"CRSP\",\"CRT\",\"CRTO\",\"CRTX\",\"CRUS\",\"CRVL\",\"CRVS\",\"CRWD\",\"CRWS\",\"CRY\",\"CS\",\"CSA\",\"CSB\",\"CSBR\",\"CSCO\",\"CSD\",\"CSF\",\"CSFL\",\"CSGP\",\"CSGS\",\"CSII\",\"CSIQ\",\"CSL\",\"CSLT\",\"CSM\",\"CSML\",\"CSOD\",\"CSPI\",\"CSPR\",\"CSQ\",\"CSS\",\"CSSE\",\"CSSEP\",\"CSTE\",\"CSTL\",\"CSTM\",\"CSTR\",\"CSU\",\"CSV\",\"CSWC\",\"CSWCL\",\"CSWI\",\"CSX\",\"CTA\",\"CTA\",\"CTAA\",\"CTAC\",\"CTACU\",\"CTACW\",\"CTAS\",\"CTB\",\"CTBB\",\"CTBI\",\"CTDD\",\"CTEK\",\"CTEST\",\"CTEST\",\"CTEST\",\"CTEST\",\"CTEST\",\"CTEST\",\"CTEST\",\"CTG\",\"CTHR\",\"CTIB\",\"CTIC\",\"CTK\",\"CTL\",\"CTLT\",\"CTMX\",\"CTO\",\"CTR\",\"CTRA\",\"CTRC\",\"CTRE\",\"CTRM\",\"CTRN\",\"CTS\",\"CTSH\",\"CTSO\",\"CTST\",\"CTT\",\"CTV\",\"CTVA\",\"CTXR\",\"CTXRW\",\"CTXS\",\"CTY\",\"CTZ\",\"CUB\",\"CUBA\",\"CUBB\",\"CUBE\",\"CUBI\",\"CUBI\",\"CUBI\",\"CUBI\",\"CUBI\",\"CUE\",\"CUI\",\"CUK\",\"CULP\",\"CUO\",\"CURE\",\"CURO\",\"CUT\",\"CUTR\",\"CUZ\",\"CVA\",\"CVBF\",\"CVCO\",\"CVCY\",\"CVE\",\"CVEO\",\"CVET\",\"CVGI\",\"CVGW\",\"CVI\",\"CVIA\",\"CVLT\",\"CVLY\",\"CVM\",\"CVNA\",\"CVR\",\"CVS\",\"CVTI\",\"CVU\",\"CVV\",\"CVX\",\"CVY\",\"CW\",\"CWB\",\"CWBC\",\"CWBR\",\"CWCO\",\"CWEB\",\"CWEN\",\"CWEN\",\"CWH\",\"CWI\",\"CWK\",\"CWS\",\"CWST\",\"CWT\",\"CX\",\"CXDC\",\"CXE\",\"CXH\",\"CXO\",\"CXP\",\"CXSE\",\"CXW\",\"CY\",\"CYAD\",\"CYAN\",\"CYB\",\"CYBE\",\"CYBR\",\"CYCC\",\"CYCCP\",\"CYCN\",\"CYD\",\"CYH\",\"CYOU\",\"CYRN\",\"CYRX\",\"CYRXW\",\"CYTK\",\"CZA\",\"CZNC\",\"CZR\",\"CZWI\",\"CZZ\",\"D\",\"DAC\",\"DAIO\",\"DAKT\",\"DAL\",\"DALI\",\"DALT\",\"DAN\",\"DAO\",\"DAR\",\"DARE\",\"DAUD\",\"DAUG\",\"DAVA\",\"DAX\",\"DB\",\"DBA\",\"DBAW\",\"DBB\",\"DBC\",\"DBD\",\"DBE\",\"DBEF\",\"DBEH\",\"DBEM\",\"DBEU\",\"DBEZ\",\"DBGR\",\"DBI\",\"DBJP\",\"DBL\",\"DBLV\",\"DBMF\",\"DBO\",\"DBP\",\"DBS\",\"DBV\",\"DBVT\",\"DBX\",\"DCAR\",\"DCF\",\"DCHF\",\"DCI\",\"DCIX\",\"DCO\",\"DCOM\",\"DCP\",\"DCP\",\"DCP\",\"DCPH\",\"DCUE\",\"DD\",\"DDD\",\"DDF\",\"DDG\",\"DDIV\",\"DDLS\",\"DDM\",\"DDMX\",\"DDMXU\",\"DDMXW\",\"DDOG\",\"DDS\",\"DDT\",\"DDWM\",\"DE\",\"DEA\",\"DEAC\",\"DEACU\",\"DEACW\",\"DECK\",\"DEEF\",\"DEF\",\"DEFA\",\"DEI\",\"DELL\",\"DEM\",\"DENN\",\"DEO\",\"DERM\",\"DES\",\"DESP\",\"DEUR\",\"DEUS\",\"DEW\",\"DEX\",\"DFE\",\"DFEN\",\"DFFN\",\"DFIN\",\"DFJ\",\"DFND\",\"DFNL\",\"DFNSU\",\"DFP\",\"DFS\",\"DFVL\",\"DFVS\",\"DG\",\"DGAZ\",\"DGBP\",\"DGICA\",\"DGICB\",\"DGII\",\"DGL\",\"DGLD\",\"DGLY\",\"DGP\",\"DGRE\",\"DGRO\",\"DGRS\",\"DGRW\",\"DGS\",\"DGT\",\"DGX\",\"DGZ\",\"DHC\",\"DHCNI\",\"DHCNL\",\"DHDG\",\"DHF\",\"DHI\",\"DHIL\",\"DHR\",\"DHR\",\"DHS\",\"DHT\",\"DHX\",\"DHY\",\"DIA\",\"DIAL\",\"DIAX\",\"DIET\",\"DIG\",\"DIM\",\"DIN\",\"DINT\",\"DIOD\",\"DIS\",\"DISCA\",\"DISCB\",\"DISCK\",\"DISH\",\"DIT\",\"DIV\",\"DIVA\",\"DIVB\",\"DIVC\",\"DIVO\",\"DIVY\",\"DJCB\",\"DJCI\",\"DJCO\",\"DJD\",\"DJP\",\"DJPY\",\"DK\",\"DKL\",\"DKS\",\"DL\",\"DLA\",\"DLB\",\"DLBR\",\"DLBS\",\"DLHC\",\"DLN\",\"DLNG\",\"DLNG\",\"DLNG\",\"DLPH\",\"DLPN\",\"DLPNW\",\"DLR\",\"DLR\",\"DLR\",\"DLR\",\"DLR\",\"DLR\",\"DLR\",\"DLS\",\"DLTH\",\"DLTR\",\"DLX\",\"DMAC\",\"DMB\",\"DMDV\",\"DMF\",\"DMLP\",\"DMO\",\"DMPI\",\"DMRC\",\"DMRE\",\"DMRI\",\"DMRL\",\"DMRM\",\"DMRS\",\"DMTK\",\"DNI\",\"DNJR\",\"DNK\",\"DNKN\",\"DNL\",\"DNLI\",\"DNN\",\"DNOV\",\"DNOW\",\"DNP\",\"DNR\",\"DO\",\"DOC\",\"DOCU\",\"DOG\",\"DOGS\",\"DOGZ\",\"DOL\",\"DOMO\",\"DON\",\"DOO\",\"DOOO\",\"DOOR\",\"DORM\",\"DOV\",\"DOW\",\"DOX\",\"DOYU\",\"DPG\",\"DPHC\",\"DPHCU\",\"DPHCW\",\"DPK\",\"DPST\",\"DPW\",\"DPZ\",\"DQ\",\"DRAD\",\"DRADP\",\"DRD\",\"DRE\",\"DRH\",\"DRI\",\"DRIO\",\"DRIOW\",\"DRIP\",\"DRIV\",\"DRN\",\"DRNA\",\"DRQ\",\"DRR\",\"DRRX\",\"DRSK\",\"DRTT\",\"DRUA\",\"DRV\",\"DRW\",\"DS\",\"DS\",\"DS\",\"DS\",\"DSE\",\"DSGX\",\"DSI\",\"DSKE\",\"DSKEW\",\"DSL\",\"DSLV\",\"DSM\",\"DSPG\",\"DSS\",\"DSSI\",\"DSTL\",\"DSU\",\"DSWL\",\"DSX\",\"DSX\",\"DT\",\"DTD\",\"DTE\",\"DTEA\",\"DTEC\",\"DTF\",\"DTH\",\"DTIL\",\"DTJ\",\"DTLA\",\"DTN\",\"DTO\",\"DTP\",\"DTQ\",\"DTSS\",\"DTUL\",\"DTUS\",\"DTW\",\"DTY\",\"DTYL\",\"DTYS\",\"DUC\",\"DUG\",\"DUK\",\"DUK\",\"DUKB\",\"DUKH\",\"DUO\",\"DURA\",\"DUSA\",\"DUSL\",\"DUST\",\"DVA\",\"DVAX\",\"DVD\",\"DVEM\",\"DVHL\",\"DVLU\",\"DVN\",\"DVOL\",\"DVOP\",\"DVP\",\"DVY\",\"DVYA\",\"DVYE\",\"DVYL\",\"DWAQ\",\"DWAS\",\"DWAT\",\"DWAW\",\"DWCR\",\"DWEQ\",\"DWFI\",\"DWIN\",\"DWLD\",\"DWM\",\"DWMC\",\"DWMF\",\"DWPP\",\"DWSH\",\"DWSN\",\"DWT\",\"DWTR\",\"DWUS\",\"DWX\",\"DX\",\"DX\",\"DX\",\"DXB\",\"DXC\",\"DXCM\",\"DXD\",\"DXF\",\"DXGE\",\"DXJ\",\"DXJS\",\"DXLG\",\"DXPE\",\"DXR\",\"DXYN\",\"DY\",\"DYAI\",\"DYLS\",\"DYNF\",\"DYNT\",\"DZK\",\"DZSI\",\"DZZ\",\"E\",\"EA\",\"EAB\",\"EAD\",\"EAE\",\"EAF\",\"EAGG\",\"EAI\",\"EARN\",\"EARS\",\"EASG\",\"EASI\",\"EAST\",\"EAT\",\"EB\",\"EBAY\",\"EBAYL\",\"EBF\",\"EBIX\",\"EBIZ\",\"EBMT\",\"EBND\",\"EBR\",\"EBR\",\"EBS\",\"EBSB\",\"EBTC\",\"EC\",\"ECC\",\"ECCB\",\"ECCX\",\"ECCY\",\"ECF\",\"ECF\",\"ECH\",\"ECHO\",\"ECL\",\"ECLN\",\"ECNS\",\"ECOL\",\"ECOLW\",\"ECOM\",\"ECON\",\"ECOR\",\"ECOW\",\"ECPG\",\"ECT\",\"ED\",\"EDAP\",\"EDC\",\"EDD\",\"EDEN\",\"EDF\",\"EDI\",\"EDIT\",\"EDIV\",\"EDN\",\"EDNT\",\"EDOG\",\"EDOW\",\"EDRY\",\"EDSA\",\"EDTX\",\"EDTXU\",\"EDTXW\",\"EDU\",\"EDUC\",\"EDV\",\"EDZ\",\"EE\",\"EEA\",\"EEB\",\"EEFT\",\"EEH\",\"EELV\",\"EEM\",\"EEMA\",\"EEMD\",\"EEMO\",\"EEMS\",\"EEMV\",\"EEMX\",\"EES\",\"EET\",\"EEV\",\"EEX\",\"EFA\",\"EFAD\",\"EFAS\",\"EFAV\",\"EFAX\",\"EFC\",\"EFC\",\"EFF\",\"EFG\",\"EFL\",\"EFNL\",\"EFO\",\"EFOI\",\"EFR\",\"EFSC\",\"EFT\",\"EFU\",\"EFV\",\"EFX\",\"EFZ\",\"EGAN\",\"EGBN\",\"EGF\",\"EGHT\",\"EGIF\",\"EGLE\",\"EGO\",\"EGOV\",\"EGP\",\"EGPT\",\"EGRX\",\"EGY\",\"EH\",\"EHC\",\"EHI\",\"EHT\",\"EHTH\",\"EIC\",\"EIDO\",\"EIDX\",\"EIG\",\"EIGI\",\"EIGR\",\"EIM\",\"EINC\",\"EIRL\",\"EIS\",\"EIX\",\"EJAN\",\"EJUL\",\"EKAR\",\"EKSO\",\"EL\",\"ELA\",\"ELAN\",\"ELAT\",\"ELC\",\"ELD\",\"ELF\",\"ELGX\",\"ELJ\",\"ELLO\",\"ELMD\",\"ELOX\",\"ELP\",\"ELS\",\"ELSE\",\"ELTK\",\"ELU\",\"ELVT\",\"ELY\",\"EMAG\",\"EMAN\",\"EMB\",\"EMBH\",\"EMCB\",\"EMCF\",\"EMCG\",\"EMD\",\"EMDV\",\"EME\",\"EMF\",\"EMFM\",\"EMGF\",\"EMHY\",\"EMIF\",\"EMIH\",\"EMKR\",\"EML\",\"EMLC\",\"EMLP\",\"EMMF\",\"EMMS\",\"EMN\",\"EMNT\",\"EMO\",\"EMP\",\"EMQQ\",\"EMR\",\"EMSG\",\"EMSH\",\"EMTL\",\"EMTY\",\"EMX\",\"EMXC\",\"ENB\",\"ENBA\",\"ENBL\",\"ENDP\",\"ENFR\",\"ENG\",\"ENIA\",\"ENIC\",\"ENJ\",\"ENLC\",\"ENLV\",\"ENO\",\"ENOB\",\"ENOR\",\"ENPH\",\"ENR\",\"ENR\",\"ENS\",\"ENSG\",\"ENSV\",\"ENT\",\"ENTA\",\"ENTG\",\"ENTR\",\"ENTX\",\"ENTXW\",\"ENV\",\"ENVA\",\"ENX\",\"ENZ\",\"ENZL\",\"EOD\",\"EOG\",\"EOI\",\"EOLS\",\"EOS\",\"EOT\",\"EP\",\"EPAC\",\"EPAM\",\"EPAY\",\"EPC\",\"EPD\",\"EPHE\",\"EPI\",\"EPIX\",\"EPM\",\"EPOL\",\"EPP\",\"EPR\",\"EPR\",\"EPR\",\"EPR\",\"EPRF\",\"EPRT\",\"EPS\",\"EPSN\",\"EPU\",\"EPV\",\"EPZM\",\"EQ\",\"EQAL\",\"EQBK\",\"EQC\",\"EQC\",\"EQH\",\"EQH\",\"EQIX\",\"EQL\",\"EQM\",\"EQNR\",\"EQR\",\"EQRR\",\"EQS\",\"EQT\",\"EQWL\",\"EQX\",\"ERA\",\"ERC\",\"ERF\",\"ERH\",\"ERI\",\"ERIC\",\"ERIE\",\"ERII\",\"ERJ\",\"ERM\",\"EROS\",\"ERSX\",\"ERUS\",\"ERX\",\"ERY\",\"ERYP\",\"ES\",\"ESBA\",\"ESBK\",\"ESCA\",\"ESE\",\"ESEA\",\"ESG\",\"ESGD\",\"ESGE\",\"ESGF\",\"ESGG\",\"ESGL\",\"ESGN\",\"ESGR\",\"ESGRO\",\"ESGRP\",\"ESGS\",\"ESGU\",\"ESGV\",\"ESGW\",\"ESI\",\"ESLT\",\"ESML\",\"ESNG\",\"ESNT\",\"ESP\",\"ESPO\",\"ESPR\",\"ESQ\",\"ESRT\",\"ESS\",\"ESSA\",\"ESTA\",\"ESTC\",\"ESTE\",\"ESXB\",\"ET\",\"ETB\",\"ETFC\",\"ETG\",\"ETH\",\"ETHO\",\"ETI\",\"ETJ\",\"ETM\",\"ETN\",\"ETNB\",\"ETO\",\"ETON\",\"ETP\",\"ETP\",\"ETP\",\"ETR\",\"ETRN\",\"ETSY\",\"ETTX\",\"ETV\",\"ETW\",\"ETX\",\"ETY\",\"EUDG\",\"EUDV\",\"EUFL\",\"EUFN\",\"EUFX\",\"EUM\",\"EUMF\",\"EUMV\",\"EUO\",\"EURL\",\"EURN\",\"EURZ\",\"EUSA\",\"EUSC\",\"EV\",\"EVA\",\"EVBG\",\"EVBN\",\"EVC\",\"EVER\",\"EVF\",\"EVFM\",\"EVG\",\"EVGBC\",\"EVGN\",\"EVH\",\"EVI\",\"EVIX\",\"EVK\",\"EVLMC\",\"EVLO\",\"EVM\",\"EVN\",\"EVOK\",\"EVOL\",\"EVOP\",\"EVR\",\"EVRG\",\"EVRI\",\"EVSI\",\"EVSIW\",\"EVSTC\",\"EVT\",\"EVTC\",\"EVV\",\"EVX\",\"EVY\",\"EW\",\"EWA\",\"EWBC\",\"EWC\",\"EWCO\",\"EWD\",\"EWEM\",\"EWG\",\"EWGS\",\"EWH\",\"EWI\",\"EWJ\",\"EWJE\",\"EWJV\",\"EWK\",\"EWL\",\"EWM\",\"EWMC\",\"EWN\",\"EWO\",\"EWP\",\"EWQ\",\"EWRE\",\"EWS\",\"EWSC\",\"EWT\",\"EWU\",\"EWUS\",\"EWV\",\"EWW\",\"EWX\",\"EWY\",\"EWZ\",\"EWZS\",\"EXAS\",\"EXC\",\"EXD\",\"EXEL\",\"EXFO\",\"EXG\",\"EXI\",\"EXIV\",\"EXK\",\"EXLS\",\"EXP\",\"EXPC\",\"EXPCU\",\"EXPCW\",\"EXPD\",\"EXPE\",\"EXPI\",\"EXPO\",\"EXPR\",\"EXR\",\"EXT\",\"EXTN\",\"EXTR\",\"EYE\",\"EYEG\",\"EYEGW\",\"EYEN\",\"EYES\",\"EYESW\",\"EYLD\",\"EYPT\",\"EZA\",\"EZJ\",\"EZM\",\"EZPW\",\"EZT\",\"EZU\",\"F\",\"F\",\"F\",\"FAAR\",\"FAB\",\"FAD\",\"FAF\",\"FALN\",\"FAM\",\"FAMI\",\"FAN\",\"FANG\",\"FANH\",\"FARM\",\"FARO\",\"FAS\",\"FAST\",\"FAT\",\"FATE\",\"FAUG\",\"FAUS\",\"FAX\",\"FAZ\",\"FB\",\"FBC\",\"FBGX\",\"FBHS\",\"FBIO\",\"FBIOP\",\"FBIZ\",\"FBK\",\"FBM\",\"FBMS\",\"FBNC\",\"FBND\",\"FBP\",\"FBSS\",\"FBT\",\"FBZ\",\"FC\",\"FCA\",\"FCAL\",\"FCAN\",\"FCAP\",\"FCAU\",\"FCBC\",\"FCBP\",\"FCCO\",\"FCCY\",\"FCEF\",\"FCEL\",\"FCF\",\"FCFS\",\"FCG\",\"FCN\",\"FCNCA\",\"FCO\",\"FCOM\",\"FCOR\",\"FCPI\",\"FCPT\",\"FCT\",\"FCTR\",\"FCVT\",\"FCX\",\"FDBC\",\"FDD\",\"FDEF\",\"FDEM\",\"FDEU\",\"FDEV\",\"FDHY\",\"FDIS\",\"FDIV\",\"FDL\",\"FDLO\",\"FDM\",\"FDMO\",\"FDN\",\"FDNI\",\"FDP\",\"FDRR\",\"FDS\",\"FDT\",\"FDTS\",\"FDUS\",\"FDUSG\",\"FDUSL\",\"FDUSZ\",\"FDVV\",\"FDX\",\"FE\",\"FEDU\",\"FEI\",\"FEIM\",\"FELE\",\"FEM\",\"FEMB\",\"FEMS\",\"FEN\",\"FENC\",\"FENG\",\"FENY\",\"FEO\",\"FEP\",\"FET\",\"FEUL\",\"FEUZ\",\"FEX\",\"FEYE\",\"FEZ\",\"FF\",\"FFA\",\"FFBC\",\"FFBW\",\"FFC\",\"FFEU\",\"FFG\",\"FFHG\",\"FFHL\",\"FFIC\",\"FFIN\",\"FFIU\",\"FFIV\",\"FFNW\",\"FFR\",\"FFSG\",\"FFTG\",\"FFTI\",\"FFTY\",\"FFWM\",\"FG\",\"FG\",\"FGB\",\"FGBI\",\"FGD\",\"FGEN\",\"FGM\",\"FHB\",\"FHI\",\"FHK\",\"FHLC\",\"FHN\",\"FHN\",\"FI\",\"FIBK\",\"FIBR\",\"FICO\",\"FID\",\"FIDI\",\"FIDU\",\"FIEE\",\"FIF\",\"FIHD\",\"FILL\",\"FINS\",\"FINU\",\"FINV\",\"FINX\",\"FINZ\",\"FIS\",\"FISI\",\"FISK\",\"FISR\",\"FISV\",\"FIT\",\"FITB\",\"FITBI\",\"FITBO\",\"FITBP\",\"FITE\",\"FIV\",\"FIVA\",\"FIVE\",\"FIVG\",\"FIVN\",\"FIW\",\"FIX\",\"FIXD\",\"FIXX\",\"FIYY\",\"FIZZ\",\"FJNK\",\"FJP\",\"FKO\",\"FKU\",\"FL\",\"FLAG\",\"FLAT\",\"FLAU\",\"FLAX\",\"FLBL\",\"FLBR\",\"FLC\",\"FLCA\",\"FLCB\",\"FLCH\",\"FLCO\",\"FLDM\",\"FLDR\",\"FLEE\",\"FLEH\",\"FLEU\",\"FLEX\",\"FLFR\",\"FLGB\",\"FLGE\",\"FLGR\",\"FLGT\",\"FLHK\",\"FLHY\",\"FLIA\",\"FLIC\",\"FLIN\",\"FLIO\",\"FLIR\",\"FLIY\",\"FLJH\",\"FLJP\",\"FLKR\",\"FLL\",\"FLLA\",\"FLLC\",\"FLLCR\",\"FLLCU\",\"FLLCW\",\"FLLV\",\"FLM\",\"FLMB\",\"FLMI\",\"FLMN\",\"FLMNW\",\"FLMX\",\"FLN\",\"FLNG\",\"FLNT\",\"FLO\",\"FLOT\",\"FLOW\",\"FLQD\",\"FLQE\",\"FLQG\",\"FLQH\",\"FLQL\",\"FLQM\",\"FLQS\",\"FLR\",\"FLRN\",\"FLRT\",\"FLRU\",\"FLS\",\"FLSA\",\"FLSP\",\"FLSW\",\"FLT\",\"FLTB\",\"FLTR\",\"FLTW\",\"FLWS\",\"FLXN\",\"FLXS\",\"FLY\",\"FLYT\",\"FLZA\",\"FM\",\"FMAO\",\"FMAT\",\"FMB\",\"FMBH\",\"FMBI\",\"FMC\",\"FMCI\",\"FMCIU\",\"FMCIW\",\"FMF\",\"FMHI\",\"FMK\",\"FMN\",\"FMNB\",\"FMO\",\"FMS\",\"FMX\",\"FMY\",\"FN\",\"FNB\",\"FNB\",\"FNCB\",\"FNCL\",\"FND\",\"FNDA\",\"FNDB\",\"FNDC\",\"FNDE\",\"FNDF\",\"FNDX\",\"FNF\",\"FNGD\",\"FNGO\",\"FNGS\",\"FNGU\",\"FNGZ\",\"FNHC\",\"FNI\",\"FNJN\",\"FNK\",\"FNKO\",\"FNLC\",\"FNOV\",\"FNV\",\"FNWB\",\"FNX\",\"FNY\",\"FOCS\",\"FOE\",\"FOF\",\"FOLD\",\"FOMX\",\"FONR\",\"FOR\",\"FORD\",\"FORK\",\"FORM\",\"FORR\",\"FORTY\",\"FOSL\",\"FOVL\",\"FOX\",\"FOXA\",\"FOXF\",\"FPA\",\"FPAC\",\"FPAC\",\"FPAC\",\"FPAY\",\"FPAYW\",\"FPE\",\"FPEI\",\"FPF\",\"FPH\",\"FPI\",\"FPI\",\"FPL\",\"FPRX\",\"FPX\",\"FPXE\",\"FPXI\",\"FQAL\",\"FR\",\"FRA\",\"FRAF\",\"FRAK\",\"FRAN\",\"FRBA\",\"FRBK\",\"FRC\",\"FRC\",\"FRC\",\"FRC\",\"FRC\",\"FRC\",\"FRD\",\"FRDM\",\"FREL\",\"FREQ\",\"FRG\",\"FRGI\",\"FRHC\",\"FRI\",\"FRLG\",\"FRME\",\"FRN\",\"FRO\",\"FRPH\",\"FRPT\",\"FRSX\",\"FRT\",\"FRT\",\"FRTA\",\"FSB\",\"FSBC\",\"FSBW\",\"FSCT\",\"FSD\",\"FSEA\",\"FSFG\",\"FSI\",\"FSK\",\"FSLR\",\"FSLY\",\"FSM\",\"FSMB\",\"FSMD\",\"FSP\",\"FSRV\",\"FSRVU\",\"FSRVW\",\"FSS\",\"FSTA\",\"FSTR\",\"FSV\",\"FSZ\",\"FT\",\"FTA\",\"FTAC\",\"FTACU\",\"FTACW\",\"FTAG\",\"FTAI\",\"FTAI\",\"FTAI\",\"FTC\",\"FTCH\",\"FTCS\",\"FTDR\",\"FTEC\",\"FTEK\",\"FTEO\",\"FTF\",\"FTFT\",\"FTGC\",\"FTHI\",\"FTI\",\"FTK\",\"FTLB\",\"FTLS\",\"FTNT\",\"FTR\",\"FTRI\",\"FTS\",\"FTSD\",\"FTSI\",\"FTSL\",\"FTSM\",\"FTSV\",\"FTV\",\"FTV\",\"FTXD\",\"FTXG\",\"FTXH\",\"FTXL\",\"FTXN\",\"FTXO\",\"FTXR\",\"FUD\",\"FUE\",\"FUL\",\"FULC\",\"FULT\",\"FUMB\",\"FUN\",\"FUNC\",\"FUND\",\"FUSB\",\"FUT\",\"FUTU\",\"FUTY\",\"FUV\",\"FV\",\"FVAL\",\"FVC\",\"FVCB\",\"FVD\",\"FVE\",\"FVL\",\"FVRR\",\"FWDB\",\"FWONA\",\"FWONK\",\"FWP\",\"FWRD\",\"FXA\",\"FXB\",\"FXC\",\"FXCH\",\"FXD\",\"FXE\",\"FXF\",\"FXG\",\"FXH\",\"FXI\",\"FXL\",\"FXN\",\"FXNC\",\"FXO\",\"FXP\",\"FXR\",\"FXS\",\"FXSG\",\"FXU\",\"FXY\",\"FXZ\",\"FYC\",\"FYLD\",\"FYT\",\"FYX\",\"G\",\"GAA\",\"GAB\",\"GAB\",\"GAB\",\"GAB\",\"GAB\",\"GABC\",\"GAIA\",\"GAIN\",\"GAINL\",\"GAINM\",\"GAL\",\"GALT\",\"GAM\",\"GAM\",\"GAMR\",\"GARD\",\"GARS\",\"GASL\",\"GASS\",\"GASX\",\"GATX\",\"GAZ\",\"GBAB\",\"GBCI\",\"GBDC\",\"GBDV\",\"GBF\",\"GBIL\",\"GBL\",\"GBLI\",\"GBLIL\",\"GBLIZ\",\"GBR\",\"GBT\",\"GBUG\",\"GBUY\",\"GBX\",\"GCAP\",\"GCBC\",\"GCC\",\"GCE\",\"GCI\",\"GCO\",\"GCOW\",\"GCP\",\"GCV\",\"GCVRZ\",\"GD\",\"GDAT\",\"GDDY\",\"GDEN\",\"GDI\",\"GDL\",\"GDL\",\"GDMA\",\"GDNA\",\"GDO\",\"GDOT\",\"GDP\",\"GDS\",\"GDV\",\"GDV\",\"GDV\",\"GDV\",\"GDVD\",\"GDX\",\"GDXJ\",\"GE\",\"GEC\",\"GECC\",\"GECCL\",\"GECCM\",\"GECCN\",\"GEF\",\"GEF\",\"GEL\",\"GEM\",\"GEN\",\"GENC\",\"GENE\",\"GENY\",\"GEO\",\"GEOS\",\"GER\",\"GERN\",\"GES\",\"GEVO\",\"GF\",\"GFED\",\"GFF\",\"GFI\",\"GFIN\",\"GFN\",\"GFNCP\",\"GFNSL\",\"GFY\",\"GGAL\",\"GGB\",\"GGG\",\"GGM\",\"GGN\",\"GGN\",\"GGO\",\"GGO\",\"GGT\",\"GGT\",\"GGT\",\"GGZ\",\"GGZ\",\"GH\",\"GHC\",\"GHG\",\"GHII\",\"GHIVU\",\"GHL\",\"GHM\",\"GHSI\",\"GHY\",\"GHYB\",\"GHYG\",\"GIB\",\"GIFI\",\"GIGB\",\"GIGE\",\"GIGM\",\"GII\",\"GIII\",\"GIL\",\"GILD\",\"GILT\",\"GIM\",\"GIS\",\"GIX\",\"GIX\",\"GIX\",\"GIX\",\"GJH\",\"GJO\",\"GJP\",\"GJR\",\"GJS\",\"GJT\",\"GKOS\",\"GL\",\"GL\",\"GLAD\",\"GLADD\",\"GLADL\",\"GLBS\",\"GLBY\",\"GLBZ\",\"GLD\",\"GLDD\",\"GLDI\",\"GLDM\",\"GLEO\",\"GLEO\",\"GLEO\",\"GLG\",\"GLIBA\",\"GLIBP\",\"GLIF\",\"GLL\",\"GLMD\",\"GLNG\",\"GLO\",\"GLOB\",\"GLOG\",\"GLOG\",\"GLOP\",\"GLOP\",\"GLOP\",\"GLOP\",\"GLOW\",\"GLP\",\"GLP\",\"GLPG\",\"GLPI\",\"GLQ\",\"GLRE\",\"GLT\",\"GLTR\",\"GLU\",\"GLU\",\"GLU\",\"GLUU\",\"GLV\",\"GLW\",\"GLYC\",\"GM\",\"GMAB\",\"GMAN\",\"GMDA\",\"GME\",\"GMED\",\"GMF\",\"GMHI\",\"GMHIU\",\"GMHIW\",\"GMLP\",\"GMLPP\",\"GMO\",\"GMOM\",\"GMRE\",\"GMRE\",\"GMS\",\"GMTA\",\"GMZ\",\"GNAF\",\"GNC\",\"GNCA\",\"GNE\",\"GNE\",\"GNFT\",\"GNK\",\"GNL\",\"GNL\",\"GNL\",\"GNLN\",\"GNMA\",\"GNMK\",\"GNOM\",\"GNPX\",\"GNR\",\"GNRC\",\"GNRSU\",\"GNSS\",\"GNT\",\"GNT\",\"GNTX\",\"GNTY\",\"GNUS\",\"GNW\",\"GO\",\"GOAT\",\"GOAU\",\"GOEX\",\"GOF\",\"GOGL\",\"GOGO\",\"GOL\",\"GOLD\",\"GOLF\",\"GOOD\",\"GOODM\",\"GOODN\",\"GOOG\",\"GOOGL\",\"GOOS\",\"GORO\",\"GOSS\",\"GOVT\",\"GPAQ\",\"GPAQU\",\"GPAQW\",\"GPC\",\"GPI\",\"GPJA\",\"GPK\",\"GPL\",\"GPM\",\"GPMT\",\"GPN\",\"GPOR\",\"GPP\",\"GPRE\",\"GPRK\",\"GPRO\",\"GPS\",\"GPX\",\"GQRE\",\"GRA\",\"GRAF\",\"GRAF\",\"GRAF\",\"GRAM\",\"GRBK\",\"GRC\",\"GREK\",\"GRES\",\"GRF\",\"GRFS\",\"GRID\",\"GRIF\",\"GRIN\",\"GRMN\",\"GRN\",\"GRNB\",\"GRNQ\",\"GRNV\",\"GRNVR\",\"GRNVU\",\"GRNVW\",\"GROW\",\"GRP\",\"GRPN\",\"GRTS\",\"GRTX\",\"GRU\",\"GRUB\",\"GRVY\",\"GRWG\",\"GRX\",\"GRX\",\"GRX\",\"GS\",\"GS\",\"GS\",\"GS\",\"GS\",\"GS\",\"GS\",\"GSAT\",\"GSB\",\"GSBC\",\"GSBD\",\"GSC\",\"GSEU\",\"GSEW\",\"GSG\",\"GSH\",\"GSHD\",\"GSIE\",\"GSIT\",\"GSJY\",\"GSK\",\"GSKY\",\"GSL\",\"GSL\",\"GSLC\",\"GSLD\",\"GSM\",\"GSP\",\"GSS\",\"GSSC\",\"GSST\",\"GSUM\",\"GSV\",\"GSX\",\"GSY\",\"GT\",\"GTE\",\"GTEC\",\"GTES\",\"GTHX\",\"GTIM\",\"GTIP\",\"GTLS\",\"GTN\",\"GTN\",\"GTO\",\"GTS\",\"GTT\",\"GTX\",\"GTY\",\"GTYH\",\"GUDB\",\"GULF\",\"GUNR\",\"GURE\",\"GURU\",\"GUSH\",\"GUT\",\"GUT\",\"GUT\",\"GV\",\"GVA\",\"GVAL\",\"GVI\",\"GVIP\",\"GVP\",\"GWB\",\"GWGH\",\"GWPH\",\"GWRE\",\"GWRS\",\"GWW\",\"GWX\",\"GXC\",\"GXF\",\"GXG\",\"GXGX\",\"GXGXU\",\"GXGXW\",\"GXTG\",\"GYC\",\"GYLD\",\"GYRO\",\"H\",\"HA\",\"HABT\",\"HACK\",\"HAE\",\"HAFC\",\"HAIL\",\"HAIN\",\"HAL\",\"HALL\",\"HALO\",\"HAO\",\"HAP\",\"HAPP\",\"HARP\",\"HAS\",\"HASI\",\"HAUD\",\"HAUZ\",\"HAWX\",\"HAYN\",\"HBAN\",\"HBANN\",\"HBANO\",\"HBB\",\"HBCP\",\"HBI\",\"HBIO\",\"HBM\",\"HBMD\",\"HBNC\",\"HBP\",\"HBT\",\"HCA\",\"HCAC\",\"HCACU\",\"HCACW\",\"HCAP\",\"HCAPZ\",\"HCAT\",\"HCC\",\"HCCH\",\"HCCHR\",\"HCCHU\",\"HCCHW\",\"HCCI\",\"HCCO\",\"HCCOU\",\"HCCOW\",\"HCFT\",\"HCHC\",\"HCI\",\"HCKT\",\"HCM\",\"HCR\",\"HCSG\",\"HCXY\",\"HCXZ\",\"HD\",\"HDAW\",\"HDB\",\"HDEF\",\"HDG\",\"HDGE\",\"HDLB\",\"HDLV\",\"HDMV\",\"HDS\",\"HDSN\",\"HDV\",\"HE\",\"HEAR\",\"HEBT\",\"HECO\",\"HEDJ\",\"HEEM\",\"HEES\",\"HEFA\",\"HEI\",\"HEI\",\"HELE\",\"HEP\",\"HEPA\",\"HEQ\",\"HERD\",\"HERO\",\"HES\",\"HESM\",\"HEWC\",\"HEWG\",\"HEWI\",\"HEWJ\",\"HEWL\",\"HEWP\",\"HEWU\",\"HEWW\",\"HEWY\",\"HEXO\",\"HEZU\",\"HFBL\",\"HFC\",\"HFFG\",\"HFRO\",\"HFRO\",\"HFWA\",\"HFXE\",\"HFXI\",\"HFXJ\",\"HGH\",\"HGLB\",\"HGSH\",\"HGV\",\"HHC\",\"HHHH\",\"HHHHR\",\"HHHHU\",\"HHHHW\",\"HHR\",\"HHS\",\"HHT\",\"HI\",\"HIBB\",\"HIBL\",\"HIBS\",\"HIE\",\"HIFS\",\"HIG\",\"HIG\",\"HIHO\",\"HII\",\"HIIQ\",\"HIL\",\"HIMX\",\"HIO\",\"HIPS\",\"HIW\",\"HIX\",\"HJLI\",\"HJLIW\",\"HJPX\",\"HJV\",\"HKIB\",\"HL\",\"HL\",\"HLAL\",\"HLF\",\"HLG\",\"HLI\",\"HLIO\",\"HLIT\",\"HLM\",\"HLNE\",\"HLT\",\"HLX\",\"HMC\",\"HMG\",\"HMHC\",\"HMI\",\"HMLP\",\"HMLP\",\"HMN\",\"HMNF\",\"HMOP\",\"HMST\",\"HMSY\",\"HMTV\",\"HMY\",\"HNDL\",\"HNGR\",\"HNI\",\"HNNA\",\"HNP\",\"HNRG\",\"HNW\",\"HOFT\",\"HOG\",\"HOLD\",\"HOLI\",\"HOLX\",\"HOMB\",\"HOME\",\"HOML\",\"HOMZ\",\"HON\",\"HONE\",\"HOOK\",\"HOPE\",\"HOTH\",\"HOV\",\"HOVNP\",\"HP\",\"HPE\",\"HPF\",\"HPI\",\"HPP\",\"HPQ\",\"HPR\",\"HPS\",\"HQH\",\"HQI\",\"HQL\",\"HQY\",\"HR\",\"HRB\",\"HRC\",\"HRI\",\"HRL\",\"HROW\",\"HRTG\",\"HRTX\",\"HRZN\",\"HSBC\",\"HSBC\",\"HSC\",\"HSCZ\",\"HSDT\",\"HSIC\",\"HSII\",\"HSKA\",\"HSON\",\"HSPX\",\"HSRT\",\"HST\",\"HSTM\",\"HSY\",\"HT\",\"HT\",\"HT\",\"HT\",\"HTA\",\"HTAB\",\"HTBI\",\"HTBK\",\"HTBX\",\"HTD\",\"HTEC\",\"HTFA\",\"HTGC\",\"HTGM\",\"HTH\",\"HTHT\",\"HTIA\",\"HTLD\",\"HTLF\",\"HTRB\",\"HTUS\",\"HTY\",\"HTZ\",\"HUBB\",\"HUBG\",\"HUBS\",\"HUD\",\"HUGE\",\"HUIZ\",\"HUM\",\"HUN\",\"HURC\",\"HURN\",\"HUSA\",\"HUSE\",\"HUSV\",\"HUYA\",\"HVBC\",\"HVT\",\"HVT\",\"HWBK\",\"HWC\",\"HWCC\",\"HWCPL\",\"HWKN\",\"HX\",\"HXL\",\"HY\",\"HYAC\",\"HYACU\",\"HYACW\",\"HYB\",\"HYD\",\"HYDB\",\"HYDW\",\"HYEM\",\"HYG\",\"HYGH\",\"HYGV\",\"HYHG\",\"HYI\",\"HYIH\",\"HYLB\",\"HYLD\",\"HYLS\",\"HYLV\",\"HYMB\",\"HYND\",\"HYRE\",\"HYS\",\"HYT\",\"HYTR\",\"HYUP\",\"HYXE\",\"HYXU\",\"HYZD\",\"HZN\",\"HZNP\",\"HZO\",\"I\",\"IAA\",\"IAC\",\"IAE\",\"IAF\",\"IAG\",\"IAGG\",\"IAI\",\"IAK\",\"IART\",\"IAT\",\"IAU\",\"IAUF\",\"IBA\",\"IBB\",\"IBCD\",\"IBCE\",\"IBCP\",\"IBD\",\"IBDC\",\"IBDD\",\"IBDL\",\"IBDM\",\"IBDN\",\"IBDO\",\"IBDP\",\"IBDQ\",\"IBDR\",\"IBDS\",\"IBDT\",\"IBDU\",\"IBHA\",\"IBHB\",\"IBHC\",\"IBHD\",\"IBHE\",\"IBIO\",\"IBKC\",\"IBKCN\",\"IBKCO\",\"IBKCP\",\"IBKR\",\"IBM\",\"IBMI\",\"IBMJ\",\"IBMK\",\"IBML\",\"IBMM\",\"IBMN\",\"IBMO\",\"IBMP\",\"IBMQ\",\"IBN\",\"IBND\",\"IBO\",\"IBOC\",\"IBP\",\"IBTX\",\"IBUY\",\"ICAD\",\"ICBK\",\"ICCC\",\"ICCH\",\"ICD\",\"ICE\",\"ICF\",\"ICFI\",\"ICHR\",\"ICL\",\"ICLK\",\"ICLN\",\"ICLR\",\"ICMB\",\"ICOL\",\"ICON\",\"ICOW\",\"ICPT\",\"ICSH\",\"ICUI\",\"ICVT\",\"IDA\",\"IDCC\",\"IDE\",\"IDEV\",\"IDEX\",\"IDHD\",\"IDHQ\",\"IDIV\",\"IDLB\",\"IDLV\",\"IDMO\",\"IDN\",\"IDNA\",\"IDOG\",\"IDRA\",\"IDRV\",\"IDT\",\"IDU\",\"IDV\",\"IDX\",\"IDXG\",\"IDXX\",\"IDY\",\"IDYA\",\"IEA\",\"IEAWW\",\"IEC\",\"IECS\",\"IEDI\",\"IEF\",\"IEFA\",\"IEFN\",\"IEHS\",\"IEI\",\"IEIH\",\"IEMD\",\"IEME\",\"IEMG\",\"IEMV\",\"IEO\",\"IEP\",\"IESC\",\"IETC\",\"IEUR\",\"IEUS\",\"IEV\",\"IEX\",\"IEZ\",\"IFEU\",\"IFF\",\"IFFT\",\"IFGL\",\"IFLY\",\"IFMK\",\"IFN\",\"IFRA\",\"IFRX\",\"IFS\",\"IFV\",\"IG\",\"IGA\",\"IGBH\",\"IGC\",\"IGD\",\"IGE\",\"IGEB\",\"IGF\",\"IGHG\",\"IGI\",\"IGIB\",\"IGIH\",\"IGLB\",\"IGM\",\"IGMS\",\"IGN\",\"IGOV\",\"IGR\",\"IGRO\",\"IGSB\",\"IGT\",\"IGV\",\"IGZ\",\"IHAK\",\"IHC\",\"IHD\",\"IHDG\",\"IHE\",\"IHF\",\"IHG\",\"IHI\",\"IHIT\",\"IHRT\",\"IHT\",\"IHTA\",\"IHY\",\"IHYD\",\"IHYV\",\"IID\",\"IIF\",\"IIGD\",\"IIGV\",\"III\",\"IIIN\",\"IIIV\",\"IIM\",\"IIN\",\"IIPR\",\"IIPR\",\"IIVI\",\"IJAN\",\"IJH\",\"IJJ\",\"IJK\",\"IJR\",\"IJS\",\"IJT\",\"IJUL\",\"IKNX\",\"ILF\",\"ILMN\",\"ILPT\",\"ILTB\",\"IMAB\",\"IMAC\",\"IMACW\",\"IMAX\",\"IMBI\",\"IMFC\",\"IMFD\",\"IMFI\",\"IMFP\",\"IMGN\",\"IMH\",\"IMKTA\",\"IMLP\",\"IMMP\",\"IMMR\",\"IMMU\",\"IMO\",\"IMOM\",\"IMOS\",\"IMRN\",\"IMRNW\",\"IMTB\",\"IMTE\",\"IMTM\",\"IMUX\",\"IMV\",\"IMVT\",\"IMVTU\",\"IMVTW\",\"IMXI\",\"INAP\",\"INBK\",\"INBKL\",\"INBKZ\",\"INCO\",\"INCY\",\"INDA\",\"INDB\",\"INDL\",\"INDO\",\"INDS\",\"INDY\",\"INF\",\"INFI\",\"INFN\",\"INFO\",\"INFR\",\"INFU\",\"INFY\",\"ING\",\"INGN\",\"INGR\",\"INKM\",\"INMB\",\"INMD\",\"INN\",\"INN\",\"INN\",\"INNT\",\"INO\",\"INOD\",\"INOV\",\"INPX\",\"INR\",\"INS\",\"INSE\",\"INSG\",\"INSI\",\"INSM\",\"INSP\",\"INST\",\"INSU\",\"INSUU\",\"INSUW\",\"INSW\",\"INSW\",\"INT\",\"INTC\",\"INTF\",\"INTG\",\"INTL\",\"INTT\",\"INTU\",\"INUV\",\"INVA\",\"INVE\",\"INVH\",\"INWK\",\"INXN\",\"IO\",\"IONS\",\"IOO\",\"IOR\",\"IOSP\",\"IOTS\",\"IOVA\",\"IP\",\"IPAC\",\"IPAR\",\"IPAY\",\"IPB\",\"IPDN\",\"IPFF\",\"IPG\",\"IPGP\",\"IPHA\",\"IPHI\",\"IPI\",\"IPKW\",\"IPLDP\",\"IPO\",\"IPOS\",\"IPV\",\"IPWR\",\"IQ\",\"IQDE\",\"IQDF\",\"IQDG\",\"IQDY\",\"IQI\",\"IQIN\",\"IQLT\",\"IQSI\",\"IQSU\",\"IQV\",\"IR\",\"IRBO\",\"IRBT\",\"IRCP\",\"IRDM\",\"IRET\",\"IRET\",\"IRIX\",\"IRL\",\"IRM\",\"IRMD\",\"IROQ\",\"IRR\",\"IRS\",\"IRT\",\"IRTC\",\"IRWD\",\"ISBC\",\"ISCF\",\"ISD\",\"ISDR\",\"ISDS\",\"ISDX\",\"ISEE\",\"ISEM\",\"ISG\",\"ISHG\",\"ISIG\",\"ISMD\",\"ISNS\",\"ISR\",\"ISRA\",\"ISRG\",\"ISSC\",\"ISTB\",\"ISTR\",\"ISZE\",\"IT\",\"ITA\",\"ITB\",\"ITCB\",\"ITCI\",\"ITEQ\",\"ITGR\",\"ITI\",\"ITIC\",\"ITM\",\"ITMR\",\"ITOT\",\"ITP\",\"ITRI\",\"ITRM\",\"ITRN\",\"ITT\",\"ITUB\",\"ITW\",\"IUS\",\"IUSB\",\"IUSG\",\"IUSS\",\"IUSV\",\"IVAC\",\"IVAL\",\"IVC\",\"IVE\",\"IVH\",\"IVLU\",\"IVOG\",\"IVOL\",\"IVOO\",\"IVOV\",\"IVR\",\"IVR\",\"IVR\",\"IVR\",\"IVV\",\"IVW\",\"IVZ\",\"IWB\",\"IWC\",\"IWD\",\"IWF\",\"IWL\",\"IWM\",\"IWN\",\"IWO\",\"IWP\",\"IWR\",\"IWS\",\"IWV\",\"IWX\",\"IWY\",\"IX\",\"IXC\",\"IXG\",\"IXJ\",\"IXN\",\"IXP\",\"IXSE\",\"IXUS\",\"IYC\",\"IYE\",\"IYF\",\"IYG\",\"IYH\",\"IYJ\",\"IYK\",\"IYLD\",\"IYM\",\"IYR\",\"IYT\",\"IYW\",\"IYY\",\"IYZ\",\"IZEA\",\"IZRL\",\"J\",\"JACK\",\"JAGG\",\"JAGX\",\"JAKK\",\"JAN\",\"JAX\",\"JAZZ\",\"JBGS\",\"JBHT\",\"JBK\",\"JBL\",\"JBLU\",\"JBN\",\"JBR\",\"JBSS\",\"JBT\",\"JCAP\",\"JCAP\",\"JCE\",\"JCI\",\"JCO\",\"JCOM\",\"JCP\",\"JCPB\",\"JCS\",\"JCTCF\",\"JD\",\"JDD\",\"JDIV\",\"JDST\",\"JE\",\"JE\",\"JEF\",\"JELD\",\"JEMD\",\"JEQ\",\"JETS\",\"JFIN\",\"JFK\",\"JFKKR\",\"JFKKU\",\"JFKKW\",\"JFR\",\"JFU\",\"JG\",\"JGH\",\"JHAA\",\"JHB\",\"JHCS\",\"JHEM\",\"JHG\",\"JHI\",\"JHMA\",\"JHMC\",\"JHMD\",\"JHME\",\"JHMF\",\"JHMH\",\"JHMI\",\"JHML\",\"JHMM\",\"JHMS\",\"JHMT\",\"JHMU\",\"JHS\",\"JHSC\",\"JHX\",\"JHY\",\"JIGB\",\"JIH\",\"JIH\",\"JIH\",\"JILL\",\"JJA\",\"JJC\",\"JJE\",\"JJG\",\"JJM\",\"JJN\",\"JJP\",\"JJS\",\"JJSF\",\"JJT\",\"JJU\",\"JKD\",\"JKE\",\"JKF\",\"JKG\",\"JKH\",\"JKHY\",\"JKI\",\"JKJ\",\"JKK\",\"JKL\",\"JKS\",\"JLL\",\"JLS\",\"JMBS\",\"JMEI\",\"JMF\",\"JMIA\",\"JMIN\",\"JMLP\",\"JMM\",\"JMOM\",\"JMP\",\"JMPNL\",\"JMPNZ\",\"JMST\",\"JMUB\",\"JNCE\",\"JNJ\",\"JNK\",\"JNMF\",\"JNPR\",\"JNUG\",\"JO\",\"JOB\",\"JOBS\",\"JOE\",\"JOF\",\"JOUT\",\"JOYY\",\"JP\",\"JPC\",\"JPED\",\"JPEM\",\"JPEU\",\"JPGB\",\"JPGE\",\"JPHF\",\"JPHY\",\"JPI\",\"JPIN\",\"JPLS\",\"JPM\",\"JPM\",\"JPM\",\"JPM\",\"JPM\",\"JPM\",\"JPM\",\"JPMB\",\"JPME\",\"JPMF\",\"JPMV\",\"JPN\",\"JPNL\",\"JPS\",\"JPSE\",\"JPST\",\"JPT\",\"JPUS\",\"JPXN\",\"JQC\",\"JQUA\",\"JRI\",\"JRJC\",\"JRO\",\"JRS\",\"JRSH\",\"JRVR\",\"JSD\",\"JSM\",\"JSMD\",\"JSML\",\"JT\",\"JTA\",\"JTD\",\"JUST\",\"JVA\",\"JVAL\",\"JW\",\"JW\",\"JWN\",\"JXI\",\"JYNT\",\"K\",\"KAI\",\"KALA\",\"KALL\",\"KALU\",\"KALV\",\"KAMN\",\"KAR\",\"KARS\",\"KB\",\"KBA\",\"KBAL\",\"KBE\",\"KBH\",\"KBLM\",\"KBLMR\",\"KBLMU\",\"KBLMW\",\"KBR\",\"KBSF\",\"KBWB\",\"KBWD\",\"KBWP\",\"KBWR\",\"KBWY\",\"KCAPL\",\"KCCB\",\"KCE\",\"KCNY\",\"KDFI\",\"KDMN\",\"KDP\",\"KE\",\"KELYA\",\"KELYB\",\"KEM\",\"KEMQ\",\"KEMX\",\"KEN\",\"KEP\",\"KEQU\",\"KERN\",\"KERNW\",\"KEX\",\"KEY\",\"KEY\",\"KEY\",\"KEY\",\"KEYS\",\"KF\",\"KFFB\",\"KFRC\",\"KFS\",\"KFY\",\"KFYP\",\"KGC\",\"KGJI\",\"KGRN\",\"KHC\",\"KIDS\",\"KIE\",\"KIM\",\"KIM\",\"KIM\",\"KIN\",\"KINS\",\"KIO\",\"KIQ\",\"KIRK\",\"KJAN\",\"KKR\",\"KKR\",\"KKR\",\"KL\",\"KLAC\",\"KLCD\",\"KLDO\",\"KLDW\",\"KLIC\",\"KLR\",\"KLR\",\"KLXE\",\"KMB\",\"KMDA\",\"KMED\",\"KMF\",\"KMI\",\"KMPH\",\"KMPR\",\"KMT\",\"KMX\",\"KN\",\"KNAB\",\"KNDI\",\"KNG\",\"KNL\",\"KNOP\",\"KNOW\",\"KNSA\",\"KNSL\",\"KNX\",\"KO\",\"KOCT\",\"KOD\",\"KODK\",\"KOF\",\"KOIN\",\"KOL\",\"KOLD\",\"KOMP\",\"KOP\",\"KOPN\",\"KORP\",\"KORU\",\"KOS\",\"KOSS\",\"KPTI\",\"KR\",\"KRA\",\"KRC\",\"KRE\",\"KREF\",\"KRG\",\"KRKR\",\"KRMA\",\"KRMD\",\"KRNT\",\"KRNY\",\"KRO\",\"KRP\",\"KRTX\",\"KRUS\",\"KRYS\",\"KSA\",\"KSCD\",\"KSM\",\"KSS\",\"KSU\",\"KSU\",\"KT\",\"KTB\",\"KTCC\",\"KTF\",\"KTH\",\"KTN\",\"KTOS\",\"KTOV\",\"KTOVW\",\"KTP\",\"KURA\",\"KURE\",\"KVHI\",\"KW\",\"KWEB\",\"KWR\",\"KXI\",\"KXIN\",\"KYN\",\"KYN\",\"KZIA\",\"KZR\",\"L\",\"LABD\",\"LABU\",\"LAC\",\"LACK\",\"LACQ\",\"LACQU\",\"LACQW\",\"LAD\",\"LADR\",\"LAIX\",\"LAKE\",\"LAMR\",\"LANC\",\"LAND\",\"LANDP\",\"LARK\",\"LASR\",\"LATN\",\"LATNU\",\"LATNW\",\"LAUR\",\"LAWS\",\"LAZ\",\"LAZY\",\"LB\",\"LBAI\",\"LBC\",\"LBDC\",\"LBJ\",\"LBRDA\",\"LBRDK\",\"LBRT\",\"LBTYA\",\"LBTYB\",\"LBTYK\",\"LBY\",\"LC\",\"LCA\",\"LCAHU\",\"LCAHW\",\"LCI\",\"LCII\",\"LCNB\",\"LCR\",\"LCTX\",\"LCUT\",\"LD\",\"LDEM\",\"LDL\",\"LDOS\",\"LDP\",\"LDRI\",\"LDRS\",\"LDSF\",\"LDUR\",\"LE\",\"LEA\",\"LEAD\",\"LEAF\",\"LECO\",\"LEDS\",\"LEE\",\"LEG\",\"LEGH\",\"LEGR\",\"LEJU\",\"LEMB\",\"LEN\",\"LEN\",\"LEND\",\"LEO\",\"LEU\",\"LEVI\",\"LEVL\",\"LFAC\",\"LFACU\",\"LFACW\",\"LFC\",\"LFEQ\",\"LFUS\",\"LFVN\",\"LGC\",\"LGC\",\"LGC\",\"LGF\",\"LGF\",\"LGH\",\"LGI\",\"LGIH\",\"LGL\",\"LGLV\",\"LGND\",\"LGOV\",\"LH\",\"LHC\",\"LHC\",\"LHC\",\"LHCG\",\"LHX\",\"LIFE\",\"LII\",\"LILA\",\"LILAK\",\"LIN\",\"LINC\",\"LIND\",\"LINX\",\"LIQT\",\"LIT\",\"LITB\",\"LITE\",\"LIVE\",\"LIVK\",\"LIVKU\",\"LIVKW\",\"LIVN\",\"LIVX\",\"LIZI\",\"LJPC\",\"LK\",\"LKCO\",\"LKFN\",\"LKOR\",\"LKQ\",\"LL\",\"LLEX\",\"LLIT\",\"LLNW\",\"LLY\",\"LM\",\"LMAT\",\"LMB\",\"LMBS\",\"LMFA\",\"LMFAW\",\"LMHA\",\"LMHB\",\"LMLB\",\"LMLP\",\"LMNL\",\"LMNR\",\"LMNX\",\"LMPX\",\"LMRK\",\"LMRKN\",\"LMRKO\",\"LMRKP\",\"LMST\",\"LMT\",\"LN\",\"LNC\",\"LND\",\"LNDC\",\"LNG\",\"LNGR\",\"LNN\",\"LNT\",\"LNTH\",\"LOAC\",\"LOACR\",\"LOACU\",\"LOACW\",\"LOAN\",\"LOB\",\"LOCO\",\"LODE\",\"LOGC\",\"LOGI\",\"LOGM\",\"LOMA\",\"LONE\",\"LOOP\",\"LOPE\",\"LORL\",\"LOUP\",\"LOV\",\"LOVE\",\"LOW\",\"LOWC\",\"LPCN\",\"LPG\",\"LPI\",\"LPL\",\"LPLA\",\"LPSN\",\"LPTH\",\"LPTX\",\"LPX\",\"LQD\",\"LQDA\",\"LQDH\",\"LQDI\",\"LQDT\",\"LRCX\",\"LRET\",\"LRGE\",\"LRGF\",\"LRN\",\"LSAF\",\"LSBK\",\"LSCC\",\"LSI\",\"LSLT\",\"LSST\",\"LSTR\",\"LSXMA\",\"LSXMB\",\"LSXMK\",\"LTBR\",\"LTC\",\"LTHM\",\"LTL\",\"LTM\",\"LTPZ\",\"LTRPA\",\"LTRPB\",\"LTRX\",\"LTS\",\"LTS\",\"LTSF\",\"LTSH\",\"LTSK\",\"LTSL\",\"LUB\",\"LULU\",\"LUNA\",\"LUV\",\"LVGO\",\"LVHB\",\"LVHD\",\"LVHE\",\"LVHI\",\"LVL\",\"LVS\",\"LVUS\",\"LW\",\"LWAY\",\"LX\",\"LXFR\",\"LXP\",\"LXP\",\"LXRX\",\"LXU\",\"LYB\",\"LYFT\",\"LYG\",\"LYL\",\"LYTS\",\"LYV\",\"LZB\",\"M\",\"MA\",\"MAA\",\"MAA\",\"MAAX\",\"MAC\",\"MACK\",\"MAG\",\"MAGA\",\"MAGS\",\"MAIN\",\"MAN\",\"MANH\",\"MANT\",\"MANU\",\"MAR\",\"MARA\",\"MARB\",\"MARK\",\"MARPS\",\"MAS\",\"MASI\",\"MAT\",\"MATW\",\"MATX\",\"MAV\",\"MAXR\",\"MAYS\",\"MBB\",\"MBCN\",\"MBI\",\"MBII\",\"MBIN\",\"MBINO\",\"MBINP\",\"MBIO\",\"MBNKP\",\"MBOT\",\"MBRX\",\"MBSD\",\"MBT\",\"MBUU\",\"MBWM\",\"MC\",\"MCA\",\"MCB\",\"MCBC\",\"MCBS\",\"MCC\",\"MCD\",\"MCEF\",\"MCEP\",\"MCF\",\"MCFT\",\"MCHI\",\"MCHP\",\"MCHX\",\"MCI\",\"MCK\",\"MCMJ\",\"MCMJW\",\"MCN\",\"MCO\",\"MCR\",\"MCRB\",\"MCRI\",\"MCRO\",\"MCS\",\"MCV\",\"MCX\",\"MCY\",\"MD\",\"MDB\",\"MDC\",\"MDCA\",\"MDGL\",\"MDGS\",\"MDGSW\",\"MDIA\",\"MDIV\",\"MDJH\",\"MDLA\",\"MDLQ\",\"MDLX\",\"MDLY\",\"MDLZ\",\"MDP\",\"MDRR\",\"MDRX\",\"MDT\",\"MDU\",\"MDWD\",\"MDY\",\"MDYG\",\"MDYV\",\"MEAR\",\"MEC\",\"MED\",\"MEDP\",\"MEET\",\"MEI\",\"MEIP\",\"MELI\",\"MEN\",\"MEOH\",\"MER\",\"MERC\",\"MESA\",\"MESO\",\"MET\",\"MET\",\"MET\",\"MET\",\"METC\",\"MEXX\",\"MFA\",\"MFA\",\"MFAC\",\"MFAC\",\"MFAC\",\"MFC\",\"MFD\",\"MFDX\",\"MFEM\",\"MFG\",\"MFGP\",\"MFH\",\"MFIN\",\"MFINL\",\"MFL\",\"MFM\",\"MFMS\",\"MFNC\",\"MFO\",\"MFSF\",\"MFT\",\"MFUS\",\"MFV\",\"MG\",\"MGA\",\"MGC\",\"MGEE\",\"MGEN\",\"MGF\",\"MGI\",\"MGIC\",\"MGK\",\"MGLN\",\"MGM\",\"MGNX\",\"MGP\",\"MGPI\",\"MGR\",\"MGRC\",\"MGTA\",\"MGTX\",\"MGU\",\"MGV\",\"MGY\",\"MGYR\",\"MH\",\"MH\",\"MH\",\"MHD\",\"MHE\",\"MHF\",\"MHH\",\"MHI\",\"MHK\",\"MHLA\",\"MHLD\",\"MHN\",\"MHNC\",\"MHO\",\"MIC\",\"MICR\",\"MICT\",\"MIDD\",\"MIDF\",\"MIDU\",\"MIDZ\",\"MIE\",\"MIK\",\"MILN\",\"MIME\",\"MIN\",\"MINC\",\"MIND\",\"MINDP\",\"MINI\",\"MINT\",\"MIRM\",\"MIST\",\"MITK\",\"MITO\",\"MITT\",\"MITT\",\"MITT\",\"MITT\",\"MIXT\",\"MIY\",\"MJ\",\"MJCO\",\"MJJ\",\"MJO\",\"MKC\",\"MKC\",\"MKD\",\"MKGI\",\"MKL\",\"MKSI\",\"MKTX\",\"MLAB\",\"MLCO\",\"MLHR\",\"MLI\",\"MLM\",\"MLN\",\"MLND\",\"MLNX\",\"MLP\",\"MLPA\",\"MLPB\",\"MLPC\",\"MLPE\",\"MLPG\",\"MLPI\",\"MLPO\",\"MLPQ\",\"MLPX\",\"MLPY\",\"MLPZ\",\"MLR\",\"MLSS\",\"MLTI\",\"MLVF\",\"MMAC\",\"MMC\",\"MMD\",\"MMI\",\"MMIN\",\"MMIT\",\"MMLP\",\"MMM\",\"MMP\",\"MMS\",\"MMSI\",\"MMT\",\"MMTM\",\"MMU\",\"MMX\",\"MMYT\",\"MN\",\"MNA\",\"MNCL\",\"MNCLU\",\"MNCLW\",\"MNDO\",\"MNE\",\"MNI\",\"MNK\",\"MNKD\",\"MNLO\",\"MNOV\",\"MNP\",\"MNPR\",\"MNR\",\"MNR\",\"MNRL\",\"MNRO\",\"MNSB\",\"MNST\",\"MNTA\",\"MNTX\",\"MO\",\"MOAT\",\"MOBL\",\"MOD\",\"MODN\",\"MOFG\",\"MOG\",\"MOG\",\"MOGO\",\"MOGU\",\"MOH\",\"MOHO\",\"MOM\",\"MOMO\",\"MOO\",\"MOR\",\"MORF\",\"MORL\",\"MORN\",\"MORT\",\"MOS\",\"MOSY\",\"MOTI\",\"MOTO\",\"MOTS\",\"MOV\",\"MOXC\",\"MPA\",\"MPAA\",\"MPB\",\"MPC\",\"MPLX\",\"MPV\",\"MPW\",\"MPWR\",\"MPX\",\"MQT\",\"MQY\",\"MR\",\"MRAM\",\"MRBK\",\"MRC\",\"MRCC\",\"MRCCL\",\"MRCY\",\"MREO\",\"MRGR\",\"MRIN\",\"MRK\",\"MRKR\",\"MRLN\",\"MRNA\",\"MRNS\",\"MRO\",\"MRRL\",\"MRSN\",\"MRTN\",\"MRTX\",\"MRUS\",\"MRVL\",\"MS\",\"MS\",\"MS\",\"MS\",\"MS\",\"MS\",\"MS\",\"MSA\",\"MSB\",\"MSBF\",\"MSBI\",\"MSC\",\"MSCI\",\"MSD\",\"MSEX\",\"MSFT\",\"MSG\",\"MSGN\",\"MSI\",\"MSM\",\"MSN\",\"MSON\",\"MSTR\",\"MSUS\",\"MSVB\",\"MT\",\"MTA\",\"MTB\",\"MTBC\",\"MTBCP\",\"MTC\",\"MTCH\",\"MTD\",\"MTDR\",\"MTEM\",\"MTEX\",\"MTG\",\"MTGP\",\"MTH\",\"MTL\",\"MTL\",\"MTLS\",\"MTN\",\"MTNB\",\"MTOR\",\"MTP\",\"MTR\",\"MTRN\",\"MTRX\",\"MTSC\",\"MTSI\",\"MTSL\",\"MTT\",\"MTUM\",\"MTW\",\"MTX\",\"MTZ\",\"MU\",\"MUA\",\"MUB\",\"MUC\",\"MUDS\",\"MUDSU\",\"MUDSW\",\"MUE\",\"MUFG\",\"MUH\",\"MUI\",\"MUJ\",\"MUNI\",\"MUR\",\"MUS\",\"MUSA\",\"MUST\",\"MUTE\",\"MUX\",\"MVBF\",\"MVC\",\"MVCD\",\"MVF\",\"MVIN\",\"MVIS\",\"MVO\",\"MVT\",\"MVV\",\"MWA\",\"MWK\",\"MX\",\"MXC\",\"MXDE\",\"MXDU\",\"MXE\",\"MXF\",\"MXI\",\"MXIM\",\"MXL\",\"MYC\",\"MYD\",\"MYE\",\"MYF\",\"MYFW\",\"MYGN\",\"MYI\",\"MYJ\",\"MYL\",\"MYN\",\"MYO\",\"MYOK\",\"MYOS\",\"MYOV\",\"MYRG\",\"MYSZ\",\"MYT\",\"MYY\",\"MZA\",\"MZZ\",\"NAC\",\"NACP\",\"NAD\",\"NAII\",\"NAIL\",\"NAK\",\"NAKD\",\"NAN\",\"NANR\",\"NAOV\",\"NAT\",\"NATH\",\"NATI\",\"NATR\",\"NAV\",\"NAV\",\"NAVB\",\"NAVI\",\"NAZ\",\"NBB\",\"NBEV\",\"NBH\",\"NBHC\",\"NBIX\",\"NBL\",\"NBLX\",\"NBN\",\"NBO\",\"NBR\",\"NBR\",\"NBRV\",\"NBSE\",\"NBTB\",\"NBW\",\"NBY\",\"NC\",\"NCA\",\"NCB\",\"NCBS\",\"NCLH\",\"NCMI\",\"NCNA\",\"NCR\",\"NCSM\",\"NCTY\",\"NCV\",\"NCV\",\"NCZ\",\"NCZ\",\"NDAQ\",\"NDLS\",\"NDP\",\"NDRA\",\"NDRAW\",\"NDSN\",\"NE\",\"NEA\",\"NEAR\",\"NEBU\",\"NEBUU\",\"NEBUW\",\"NEE\",\"NEE\",\"NEE\",\"NEE\",\"NEE\",\"NEE\",\"NEED\",\"NEM\",\"NEN\",\"NEO\",\"NEOG\",\"NEON\",\"NEOS\",\"NEP\",\"NEPH\",\"NEPT\",\"NERD\",\"NERV\",\"NES\",\"NESR\",\"NESRW\",\"NET\",\"NETE\",\"NETL\",\"NEU\",\"NEV\",\"NEW\",\"NEWA\",\"NEWR\",\"NEWT\",\"NEWTI\",\"NEWTL\",\"NEX\",\"NEXA\",\"NEXT\",\"NFBK\",\"NFE\",\"NFG\",\"NFH\",\"NFH\",\"NFIN\",\"NFINU\",\"NFINW\",\"NFJ\",\"NFLT\",\"NFLX\",\"NFO\",\"NFRA\",\"NFTY\",\"NG\",\"NGD\",\"NGE\",\"NGG\",\"NGHC\",\"NGHCN\",\"NGHCO\",\"NGHCP\",\"NGHCZ\",\"NGL\",\"NGL\",\"NGL\",\"NGLS\",\"NGM\",\"NGS\",\"NGVC\",\"NGVT\",\"NH\",\"NHA\",\"NHC\",\"NHF\",\"NHI\",\"NHLD\",\"NHLDW\",\"NHS\",\"NHTC\",\"NI\",\"NI\",\"NIB\",\"NICE\",\"NICK\",\"NID\",\"NIE\",\"NIM\",\"NINE\",\"NIO\",\"NIQ\",\"NIU\",\"NJAN\",\"NJR\",\"NJV\",\"NK\",\"NKE\",\"NKG\",\"NKSH\",\"NKTR\",\"NKX\",\"NL\",\"NLNK\",\"NLOK\",\"NLR\",\"NLS\",\"NLSN\",\"NLTX\",\"NLY\",\"NLY\",\"NLY\",\"NLY\",\"NLY\",\"NM\",\"NM\",\"NM\",\"NMCI\",\"NMCO\",\"NMFC\",\"NMFX\",\"NMI\",\"NMIH\",\"NMK\",\"NMK\",\"NML\",\"NMM\",\"NMR\",\"NMRD\",\"NMRK\",\"NMS\",\"NMT\",\"NMY\",\"NMZ\",\"NNA\",\"NNBR\",\"NNDM\",\"NNI\",\"NNN\",\"NNN\",\"NNVC\",\"NNY\",\"NOA\",\"NOAH\",\"NOBL\",\"NOC\",\"NOCT\",\"NODK\",\"NOG\",\"NOK\",\"NOM\",\"NOMD\",\"NORW\",\"NOV\",\"NOVA\",\"NOVN\",\"NOVT\",\"NOW\",\"NP\",\"NPA\",\"NPAUU\",\"NPAWW\",\"NPK\",\"NPN\",\"NPO\",\"NPTN\",\"NPV\",\"NQP\",\"NR\",\"NRBO\",\"NRC\",\"NREF\",\"NRG\",\"NRGD\",\"NRGO\",\"NRGU\",\"NRGX\",\"NRGZ\",\"NRIM\",\"NRK\",\"NRO\",\"NRP\",\"NRT\",\"NRUC\",\"NRZ\",\"NRZ\",\"NRZ\",\"NS\",\"NS\",\"NS\",\"NS\",\"NSA\",\"NSA\",\"NSC\",\"NSCO\",\"NSCO\",\"NSEC\",\"NSIT\",\"NSL\",\"NSP\",\"NSPR\",\"NSPR\",\"NSPR\",\"NSS\",\"NSSC\",\"NSTG\",\"NSYS\",\"NTAP\",\"NTB\",\"NTCO\",\"NTCT\",\"NTEC\",\"NTES\",\"NTEST\",\"NTEST\",\"NTEST\",\"NTEST\",\"NTG\",\"NTGN\",\"NTGR\",\"NTIC\",\"NTIP\",\"NTLA\",\"NTN\",\"NTNX\",\"NTP\",\"NTR\",\"NTRA\",\"NTRP\",\"NTRS\",\"NTRSO\",\"NTSX\",\"NTUS\",\"NTWK\",\"NTX\",\"NTZ\",\"NUAG\",\"NUAN\",\"NUBD\",\"NUDM\",\"NUE\",\"NUEM\",\"NUGT\",\"NUHY\",\"NULC\",\"NULG\",\"NULV\",\"NUM\",\"NUMG\",\"NUMV\",\"NUO\",\"NURE\",\"NURO\",\"NUROW\",\"NUS\",\"NUSA\",\"NUSC\",\"NUSI\",\"NUV\",\"NUVA\",\"NUW\",\"NVAX\",\"NVCN\",\"NVCR\",\"NVDA\",\"NVEC\",\"NVEE\",\"NVFY\",\"NVG\",\"NVGS\",\"NVIV\",\"NVMI\",\"NVO\",\"NVR\",\"NVRO\",\"NVS\",\"NVST\",\"NVT\",\"NVTA\",\"NVUS\",\"NWBI\",\"NWE\",\"NWFL\",\"NWGI\",\"NWHM\",\"NWL\",\"NWLI\",\"NWN\",\"NWPX\",\"NWS\",\"NWSA\",\"NX\",\"NXC\",\"NXE\",\"NXGN\",\"NXJ\",\"NXN\",\"NXP\",\"NXPI\",\"NXQ\",\"NXR\",\"NXRT\",\"NXST\",\"NXTC\",\"NXTD\",\"NXTG\",\"NYCB\",\"NYCB\",\"NYCB\",\"NYF\",\"NYMT\",\"NYMTM\",\"NYMTN\",\"NYMTO\",\"NYMTP\",\"NYMX\",\"NYT\",\"NYV\",\"NZF\",\"O\",\"OAC\",\"OAC\",\"OAC\",\"OAK\",\"OAK\",\"OAS\",\"OBAS\",\"OBCI\",\"OBE\",\"OBLN\",\"OBNK\",\"OBOR\",\"OBSV\",\"OC\",\"OCC\",\"OCCI\",\"OCCIP\",\"OCFC\",\"OCFT\",\"OCGN\",\"OCIO\",\"OCN\",\"OCSI\",\"OCSL\",\"OCSLL\",\"OCUL\",\"OCX\",\"ODC\",\"ODFL\",\"ODP\",\"ODT\",\"OEC\",\"OEF\",\"OESX\",\"OEUR\",\"OFC\",\"OFED\",\"OFG\",\"OFG\",\"OFG\",\"OFG\",\"OFIX\",\"OFLX\",\"OFS\",\"OFSSI\",\"OFSSL\",\"OFSSZ\",\"OGCP\",\"OGE\",\"OGEN\",\"OGI\",\"OGIG\",\"OGS\",\"OHI\",\"OI\",\"OIA\",\"OIBR\",\"OIH\",\"OII\",\"OIIM\",\"OIL\",\"OILD\",\"OILK\",\"OILU\",\"OILX\",\"OIS\",\"OKE\",\"OKTA\",\"OLD\",\"OLED\",\"OLEM\",\"OLLI\",\"OLN\",\"OLP\",\"OMAB\",\"OMC\",\"OMCL\",\"OMER\",\"OMEX\",\"OMF\",\"OMFL\",\"OMFS\",\"OMI\",\"OMN\",\"OMOM\",\"OMP\",\"ON\",\"ONB\",\"ONCS\",\"ONCT\",\"ONCY\",\"ONDK\",\"ONE\",\"ONEM\",\"ONEO\",\"ONEQ\",\"ONEV\",\"ONEW\",\"ONEY\",\"ONLN\",\"ONTO\",\"ONTX\",\"ONTXW\",\"ONVO\",\"OOMA\",\"OPB\",\"OPBK\",\"OPCH\",\"OPER\",\"OPES\",\"OPESU\",\"OPESW\",\"OPGN\",\"OPGNW\",\"OPHC\",\"OPI\",\"OPINI\",\"OPK\",\"OPNT\",\"OPOF\",\"OPP\",\"OPRA\",\"OPRT\",\"OPRX\",\"OPTN\",\"OPTT\",\"OPY\",\"OQAL\",\"OR\",\"ORA\",\"ORAN\",\"ORBC\",\"ORC\",\"ORCC\",\"ORCL\",\"ORG\",\"ORGO\",\"ORGS\",\"ORI\",\"ORLY\",\"ORMP\",\"ORN\",\"ORRF\",\"ORSN\",\"ORSNR\",\"ORSNU\",\"ORSNW\",\"ORTX\",\"OSB\",\"OSBC\",\"OSBCP\",\"OSCV\",\"OSG\",\"OSIS\",\"OSIZ\",\"OSK\",\"OSLE\",\"OSMT\",\"OSN\",\"OSPN\",\"OSS\",\"OSTK\",\"OSUR\",\"OSW\",\"OTEL\",\"OTEX\",\"OTIC\",\"OTLK\",\"OTLKW\",\"OTTR\",\"OTTW\",\"OUNZ\",\"OUSA\",\"OUSM\",\"OUT\",\"OVB\",\"OVBC\",\"OVF\",\"OVID\",\"OVL\",\"OVLU\",\"OVLY\",\"OVM\",\"OVOL\",\"OVS\",\"OVV\",\"OXBR\",\"OXBRW\",\"OXFD\",\"OXLC\",\"OXLCM\",\"OXLCO\",\"OXM\",\"OXSQ\",\"OXSQL\",\"OXSQZ\",\"OXY\",\"OYLD\",\"OYST\",\"OZK\",\"PAA\",\"PAAC\",\"PAACR\",\"PAACU\",\"PAACW\",\"PAAS\",\"PAC\",\"PACA\",\"PACB\",\"PACD\",\"PACK\",\"PACK\",\"PACQ\",\"PACQU\",\"PACQW\",\"PACW\",\"PAE\",\"PAEWW\",\"PAG\",\"PAGP\",\"PAGS\",\"PAHC\",\"PAI\",\"PAK\",\"PALL\",\"PAM\",\"PANL\",\"PANW\",\"PAPR\",\"PAR\",\"PARR\",\"PASS\",\"PATI\",\"PATK\",\"PAUG\",\"PAVE\",\"PAVM\",\"PAVMW\",\"PAVMZ\",\"PAWZ\",\"PAYC\",\"PAYS\",\"PAYX\",\"PB\",\"PBA\",\"PBB\",\"PBBI\",\"PBC\",\"PBCT\",\"PBCTP\",\"PBD\",\"PBDM\",\"PBE\",\"PBEE\",\"PBF\",\"PBFS\",\"PBFX\",\"PBH\",\"PBHC\",\"PBI\",\"PBI\",\"PBIP\",\"PBJ\",\"PBND\",\"PBP\",\"PBPB\",\"PBR\",\"PBR\",\"PBS\",\"PBSM\",\"PBT\",\"PBTP\",\"PBTS\",\"PBUS\",\"PBW\",\"PBY\",\"PBYI\",\"PCAR\",\"PCB\",\"PCEF\",\"PCF\",\"PCG\",\"PCG\",\"PCG\",\"PCG\",\"PCG\",\"PCG\",\"PCG\",\"PCG\",\"PCG\",\"PCH\",\"PCI\",\"PCK\",\"PCM\",\"PCN\",\"PCOM\",\"PCQ\",\"PCRX\",\"PCSB\",\"PCTI\",\"PCTY\",\"PCY\",\"PCYG\",\"PCYO\",\"PD\",\"PDBC\",\"PDCE\",\"PDCO\",\"PDD\",\"PDEC\",\"PDEV\",\"PDEX\",\"PDFS\",\"PDI\",\"PDLB\",\"PDLI\",\"PDM\",\"PDN\",\"PDP\",\"PDS\",\"PDSB\",\"PDT\",\"PE\",\"PEAK\",\"PEB\",\"PEB\",\"PEB\",\"PEB\",\"PEB\",\"PEBK\",\"PEBO\",\"PECK\",\"PED\",\"PEG\",\"PEGA\",\"PEGI\",\"PEI\",\"PEI\",\"PEI\",\"PEI\",\"PEIX\",\"PEJ\",\"PEK\",\"PEN\",\"PENN\",\"PEO\",\"PEP\",\"PER\",\"PERI\",\"PESI\",\"PETQ\",\"PETS\",\"PETZ\",\"PEX\",\"PEXL\",\"PEY\",\"PEZ\",\"PFBC\",\"PFBI\",\"PFD\",\"PFE\",\"PFEB\",\"PFF\",\"PFFA\",\"PFFD\",\"PFFL\",\"PFFR\",\"PFG\",\"PFGC\",\"PFH\",\"PFHD\",\"PFI\",\"PFIE\",\"PFIG\",\"PFIN\",\"PFIS\",\"PFL\",\"PFLD\",\"PFLT\",\"PFM\",\"PFMT\",\"PFN\",\"PFNX\",\"PFO\",\"PFPT\",\"PFS\",\"PFSI\",\"PFSW\",\"PFXF\",\"PG\",\"PGAL\",\"PGC\",\"PGEN\",\"PGF\",\"PGHY\",\"PGJ\",\"PGM\",\"PGNX\",\"PGNY\",\"PGP\",\"PGR\",\"PGRE\",\"PGTI\",\"PGX\",\"PGZ\",\"PH\",\"PHAS\",\"PHAT\",\"PHB\",\"PHCF\",\"PHD\",\"PHDG\",\"PHG\",\"PHGE\",\"PHGE\",\"PHGE\",\"PHI\",\"PHIO\",\"PHIOW\",\"PHK\",\"PHM\",\"PHO\",\"PHR\",\"PHT\",\"PHUN\",\"PHUNW\",\"PHX\",\"PHYL\",\"PHYS\",\"PI\",\"PIC\",\"PIC\",\"PIC\",\"PICB\",\"PICK\",\"PICO\",\"PID\",\"PIE\",\"PIH\",\"PIHPP\",\"PII\",\"PILL\",\"PIM\",\"PIN\",\"PINC\",\"PINE\",\"PING\",\"PINS\",\"PIO\",\"PIPR\",\"PIR\",\"PIRS\",\"PIXY\",\"PIY\",\"PIZ\",\"PJAN\",\"PJH\",\"PJP\",\"PJT\",\"PJUL\",\"PJUN\",\"PK\",\"PKB\",\"PKBK\",\"PKE\",\"PKG\",\"PKI\",\"PKO\",\"PKOH\",\"PKW\",\"PKX\",\"PLAB\",\"PLAG\",\"PLAN\",\"PLAT\",\"PLAY\",\"PLBC\",\"PLC\",\"PLCE\",\"PLCY\",\"PLD\",\"PLG\",\"PLIN\",\"PLL\",\"PLM\",\"PLMR\",\"PLNT\",\"PLOW\",\"PLPC\",\"PLSE\",\"PLT\",\"PLTM\",\"PLUG\",\"PLUS\",\"PLW\",\"PLX\",\"PLXP\",\"PLXS\",\"PLYA\",\"PLYM\",\"PLYM\",\"PM\",\"PMBC\",\"PMD\",\"PME\",\"PMF\",\"PML\",\"PMM\",\"PMO\",\"PMOM\",\"PMR\",\"PMT\",\"PMT\",\"PMT\",\"PMX\",\"PNBK\",\"PNC\",\"PNC\",\"PNC\",\"PNF\",\"PNFP\",\"PNI\",\"PNM\",\"PNNT\",\"PNNTG\",\"PNOV\",\"PNQI\",\"PNR\",\"PNRG\",\"PNRL\",\"PNTG\",\"PNW\",\"POAI\",\"POCT\",\"PODD\",\"POL\",\"POLA\",\"POOL\",\"POPE\",\"POR\",\"POST\",\"POTX\",\"POWI\",\"POWL\",\"PPA\",\"PPBI\",\"PPC\",\"PPD\",\"PPDM\",\"PPEM\",\"PPG\",\"PPH\",\"PPHI\",\"PPIH\",\"PPL\",\"PPLC\",\"PPLT\",\"PPMC\",\"PPR\",\"PPSC\",\"PPSI\",\"PPT\",\"PPTY\",\"PPX\",\"PQG\",\"PQIN\",\"PQLC\",\"PQSG\",\"PQSV\",\"PRA\",\"PRAA\",\"PRAH\",\"PRCP\",\"PRDO\",\"PRE\",\"PRE\",\"PRE\",\"PRE\",\"PREF\",\"PRF\",\"PRFT\",\"PRFZ\",\"PRGO\",\"PRGS\",\"PRGX\",\"PRH\",\"PRI\",\"PRIF\",\"PRIF\",\"PRIF\",\"PRIF\",\"PRIF\",\"PRIM\",\"PRK\",\"PRLB\",\"PRMW\",\"PRN\",\"PRNB\",\"PRNT\",\"PRO\",\"PROF\",\"PROS\",\"PROV\",\"PRPH\",\"PRPL\",\"PRPO\",\"PRQR\",\"PRS\",\"PRSC\",\"PRSP\",\"PRT\",\"PRTA\",\"PRTH\",\"PRTK\",\"PRTS\",\"PRTY\",\"PRU\",\"PRVB\",\"PRVL\",\"PS\",\"PSA\",\"PSA\",\"PSA\",\"PSA\",\"PSA\",\"PSA\",\"PSA\",\"PSA\",\"PSA\",\"PSA\",\"PSA\",\"PSA\",\"PSA\",\"PSA\",\"PSB\",\"PSB\",\"PSB\",\"PSB\",\"PSB\",\"PSC\",\"PSCC\",\"PSCD\",\"PSCE\",\"PSCF\",\"PSCH\",\"PSCI\",\"PSCM\",\"PSCT\",\"PSCU\",\"PSEC\",\"PSEP\",\"PSET\",\"PSF\",\"PSI\",\"PSJ\",\"PSK\",\"PSL\",\"PSLV\",\"PSM\",\"PSMB\",\"PSMC\",\"PSMG\",\"PSMM\",\"PSMT\",\"PSN\",\"PSNL\",\"PSO\",\"PSP\",\"PSQ\",\"PSR\",\"PST\",\"PSTG\",\"PSTI\",\"PSTL\",\"PSTV\",\"PSTVZ\",\"PSV\",\"PSX\",\"PSXP\",\"PT\",\"PTAC\",\"PTACU\",\"PTACW\",\"PTBD\",\"PTC\",\"PTCT\",\"PTE\",\"PTEN\",\"PTEU\",\"PTF\",\"PTGX\",\"PTH\",\"PTI\",\"PTIN\",\"PTLA\",\"PTLC\",\"PTMC\",\"PTMN\",\"PTN\",\"PTNQ\",\"PTNR\",\"PTON\",\"PTR\",\"PTSI\",\"PTVCA\",\"PTVCB\",\"PTY\",\"PUB\",\"PUI\",\"PUK\",\"PUK\",\"PUK\",\"PULM\",\"PULS\",\"PUMP\",\"PUTW\",\"PUYI\",\"PVAC\",\"PVAL\",\"PVBC\",\"PVG\",\"PVH\",\"PVI\",\"PVL\",\"PW\",\"PW\",\"PWB\",\"PWC\",\"PWFL\",\"PWOD\",\"PWR\",\"PWS\",\"PWV\",\"PWZ\",\"PXD\",\"PXE\",\"PXF\",\"PXH\",\"PXI\",\"PXJ\",\"PXLW\",\"PXQ\",\"PXS\",\"PY\",\"PYN\",\"PYPE\",\"PYPL\",\"PYS\",\"PYT\",\"PYX\",\"PYZ\",\"PZA\",\"PZC\",\"PZD\",\"PZG\",\"PZN\",\"PZT\",\"PZZA\",\"QABA\",\"QADA\",\"QADB\",\"QAI\",\"QARP\",\"QAT\",\"QBAK\",\"QCLN\",\"QCOM\",\"QCRH\",\"QD\",\"QDEF\",\"QDEL\",\"QDF\",\"QDIV\",\"QDYN\",\"QED\",\"QEFA\",\"QEMM\",\"QEP\",\"QES\",\"QFIN\",\"QGEN\",\"QGRO\",\"QGTA\",\"QHC\",\"QID\",\"QINT\",\"QIWI\",\"QK\",\"QLC\",\"QLD\",\"QLS\",\"QLTA\",\"QLV\",\"QLVD\",\"QLVE\",\"QLYS\",\"QMCO\",\"QMJ\",\"QMN\",\"QMOM\",\"QNST\",\"QQEW\",\"QQH\",\"QQQ\",\"QQQE\",\"QQQX\",\"QQXT\",\"QRFT\",\"QRHC\",\"QRTEA\",\"QRTEB\",\"QRVO\",\"QSR\",\"QSY\",\"QTEC\",\"QTNT\",\"QTRX\",\"QTS\",\"QTS\",\"QTS\",\"QTT\",\"QTUM\",\"QTWO\",\"QUAD\",\"QUAL\",\"QUIK\",\"QUMU\",\"QUOT\",\"QURE\",\"QUS\",\"QVAL\",\"QVCC\",\"QVCD\",\"QVM\",\"QWLD\",\"QYLD\",\"R\",\"RA\",\"RAAX\",\"RACE\",\"RAD\",\"RADA\",\"RAFE\",\"RAIL\",\"RALS\",\"RAMP\",\"RAND\",\"RAPT\",\"RARE\",\"RARX\",\"RAVE\",\"RAVI\",\"RAVN\",\"RBA\",\"RBB\",\"RBBN\",\"RBC\",\"RBCAA\",\"RBCN\",\"RBIN\",\"RBKB\",\"RBNC\",\"RBS\",\"RBUS\",\"RBZ\",\"RC\",\"RCA\",\"RCB\",\"RCD\",\"RCEL\",\"RCG\",\"RCI\",\"RCII\",\"RCKT\",\"RCKY\",\"RCL\",\"RCM\",\"RCMT\",\"RCON\",\"RCP\",\"RCS\",\"RCUS\",\"RDCM\",\"RDFN\",\"RDHL\",\"RDI\",\"RDIB\",\"RDIV\",\"RDN\",\"RDNT\",\"RDOG\",\"RDS\",\"RDS\",\"RDUS\",\"RDVT\",\"RDVY\",\"RDWR\",\"RDY\",\"RE\",\"REAL\",\"RECN\",\"RECS\",\"REDU\",\"REDV\",\"REED\",\"REEM\",\"REET\",\"REFA\",\"REFR\",\"REG\",\"REGI\",\"REGL\",\"REGN\",\"REI\",\"REK\",\"REKR\",\"RELL\",\"RELV\",\"RELX\",\"REM\",\"REML\",\"REMX\",\"RENN\",\"REPH\",\"REPL\",\"RES\",\"RESI\",\"RESN\",\"RETA\",\"RETL\",\"RETO\",\"REV\",\"REVG\",\"REVS\",\"REW\",\"REX\",\"REXN\",\"REXR\",\"REXR\",\"REXR\",\"REXR\",\"REYN\",\"REZ\",\"REZI\",\"RF\",\"RF\",\"RF\",\"RF\",\"RFAP\",\"RFCI\",\"RFDA\",\"RFDI\",\"RFEM\",\"RFEU\",\"RFFC\",\"RFG\",\"RFI\",\"RFIL\",\"RFL\",\"RFP\",\"RFUN\",\"RFV\",\"RGA\",\"RGCO\",\"RGEN\",\"RGI\",\"RGLB\",\"RGLD\",\"RGLS\",\"RGNX\",\"RGR\",\"RGS\",\"RGT\",\"RH\",\"RHE\",\"RHE\",\"RHI\",\"RHP\",\"RHS\",\"RIBT\",\"RICK\",\"RIDV\",\"RIF\",\"RIG\",\"RIGL\",\"RIGS\",\"RILY\",\"RILYG\",\"RILYH\",\"RILYI\",\"RILYN\",\"RILYO\",\"RILYP\",\"RILYZ\",\"RINF\",\"RING\",\"RIO\",\"RIOT\",\"RISE\",\"RIV\",\"RIVE\",\"RJA\",\"RJF\",\"RJI\",\"RJN\",\"RJZ\",\"RKDA\",\"RL\",\"RLGT\",\"RLGY\",\"RLH\",\"RLI\",\"RLJ\",\"RLJ\",\"RLMD\",\"RLY\",\"RM\",\"RMAX\",\"RMBI\",\"RMBL\",\"RMBS\",\"RMCF\",\"RMD\",\"RMED\",\"RMG\",\"RMG\",\"RMG\",\"RMI\",\"RMM\",\"RMNI\",\"RMPL\",\"RMR\",\"RMT\",\"RMTI\",\"RNDB\",\"RNDM\",\"RNDV\",\"RNEM\",\"RNET\",\"RNG\",\"RNGR\",\"RNLC\",\"RNMC\",\"RNP\",\"RNR\",\"RNR\",\"RNR\",\"RNR\",\"RNSC\",\"RNST\",\"RNWK\",\"ROAD\",\"ROAM\",\"ROBO\",\"ROBT\",\"ROCK\",\"RODE\",\"RODI\",\"RODM\",\"ROG\",\"ROIC\",\"ROK\",\"ROKT\",\"ROKU\",\"ROL\",\"ROLL\",\"ROM\",\"ROMO\",\"ROOF\",\"ROP\",\"RORE\",\"ROSC\",\"ROSE\",\"ROSEU\",\"ROSEW\",\"ROST\",\"ROUS\",\"ROYT\",\"RP\",\"RPAI\",\"RPAR\",\"RPAY\",\"RPD\",\"RPG\",\"RPLA\",\"RPLA\",\"RPLA\",\"RPM\",\"RPT\",\"RPT\",\"RPV\",\"RQI\",\"RQI\",\"RRBI\",\"RRC\",\"RRD\",\"RRGB\",\"RRR\",\"RRTS\",\"RS\",\"RSF\",\"RSG\",\"RSP\",\"RST\",\"RSX\",\"RSXJ\",\"RTH\",\"RTIX\",\"RTL\",\"RTLR\",\"RTM\",\"RTN\",\"RTRX\",\"RTTR\",\"RTW\",\"RUBI\",\"RUBY\",\"RUHN\",\"RUN\",\"RUSHA\",\"RUSHB\",\"RUSL\",\"RUSS\",\"RUTH\",\"RVI\",\"RVLV\",\"RVNC\",\"RVNU\",\"RVP\",\"RVRS\",\"RVSB\",\"RVT\",\"RWCD\",\"RWDC\",\"RWDE\",\"RWED\",\"RWGV\",\"RWIU\",\"RWJ\",\"RWK\",\"RWL\",\"RWLK\",\"RWLS\",\"RWM\",\"RWO\",\"RWR\",\"RWSL\",\"RWT\",\"RWUI\",\"RWVG\",\"RWW\",\"RWX\",\"RXD\",\"RXI\",\"RXL\",\"RXN\",\"RY\",\"RY\",\"RYAAY\",\"RYAM\",\"RYB\",\"RYCE\",\"RYE\",\"RYF\",\"RYH\",\"RYI\",\"RYJ\",\"RYLD\",\"RYN\",\"RYT\",\"RYTM\",\"RYU\",\"RYZZ\",\"RZA\",\"RZB\",\"RZG\",\"RZV\",\"S\",\"SA\",\"SAA\",\"SABR\",\"SACC\",\"SACH\",\"SAEX\",\"SAF\",\"SAFE\",\"SAFM\",\"SAFT\",\"SAGE\",\"SAGG\",\"SAH\",\"SAIA\",\"SAIC\",\"SAIL\",\"SAL\",\"SALM\",\"SALT\",\"SAM\",\"SAMA\",\"SAMAU\",\"SAMAW\",\"SAMG\",\"SAN\",\"SAN\",\"SAND\",\"SANM\",\"SANW\",\"SAP\",\"SAQN\",\"SAQNU\",\"SAQNW\",\"SAR\",\"SASR\",\"SATS\",\"SAUC\",\"SAVA\",\"SAVE\",\"SB\",\"SB\",\"SB\",\"SBAC\",\"SBB\",\"SBBP\",\"SBBX\",\"SBCF\",\"SBE\",\"SBE\",\"SBE\",\"SBFG\",\"SBGI\",\"SBGL\",\"SBH\",\"SBI\",\"SBIO\",\"SBLK\",\"SBLKZ\",\"SBM\",\"SBNA\",\"SBNY\",\"SBOW\",\"SBPH\",\"SBR\",\"SBRA\",\"SBS\",\"SBSI\",\"SBT\",\"SBUG\",\"SBUX\",\"SC\",\"SCA\",\"SCAP\",\"SCC\",\"SCCB\",\"SCCO\",\"SCD\",\"SCE\",\"SCE\",\"SCE\",\"SCE\",\"SCE\",\"SCE\",\"SCE\",\"SCE\",\"SCE\",\"SCHA\",\"SCHB\",\"SCHC\",\"SCHD\",\"SCHE\",\"SCHF\",\"SCHG\",\"SCHH\",\"SCHI\",\"SCHJ\",\"SCHK\",\"SCHL\",\"SCHM\",\"SCHN\",\"SCHO\",\"SCHP\",\"SCHQ\",\"SCHR\",\"SCHV\",\"SCHW\",\"SCHW\",\"SCHW\",\"SCHX\",\"SCHZ\",\"SCI\",\"SCID\",\"SCIF\",\"SCIJ\",\"SCIU\",\"SCIX\",\"SCJ\",\"SCKT\",\"SCL\",\"SCM\",\"SCO\",\"SCOM\",\"SCON\",\"SCOR\",\"SCPE\",\"SCPE\",\"SCPE\",\"SCPH\",\"SCPL\",\"SCS\",\"SCSC\",\"SCU\",\"SCVL\",\"SCVX\",\"SCWX\",\"SCX\",\"SCYX\",\"SCZ\",\"SD\",\"SDAG\",\"SDC\",\"SDCI\",\"SDD\",\"SDEM\",\"SDG\",\"SDGA\",\"SDGR\",\"SDI\",\"SDIV\",\"SDOG\",\"SDOW\",\"SDP\",\"SDPI\",\"SDRL\",\"SDS\",\"SDVY\",\"SDY\",\"SDYL\",\"SE\",\"SEA\",\"SEAC\",\"SEAS\",\"SEB\",\"SECO\",\"SECT\",\"SEDG\",\"SEE\",\"SEED\",\"SEEL\",\"SEF\",\"SEIC\",\"SEIX\",\"SELB\",\"SELF\",\"SEM\",\"SENEA\",\"SENEB\",\"SENS\",\"SERV\",\"SES\",\"SESN\",\"SF\",\"SF\",\"SF\",\"SFB\",\"SFBC\",\"SFBS\",\"SFE\",\"SFET\",\"SFHY\",\"SFIG\",\"SFIX\",\"SFL\",\"SFM\",\"SFNC\",\"SFST\",\"SFTW\",\"SFTW\",\"SFTW\",\"SFUN\",\"SFY\",\"SFYF\",\"SFYX\",\"SG\",\"SGA\",\"SGB\",\"SGBX\",\"SGC\",\"SGDJ\",\"SGDM\",\"SGEN\",\"SGG\",\"SGH\",\"SGLB\",\"SGLBW\",\"SGMA\",\"SGMO\",\"SGMS\",\"SGOC\",\"SGOL\",\"SGRP\",\"SGRY\",\"SGU\",\"SH\",\"SHAG\",\"SHAK\",\"SHBI\",\"SHE\",\"SHEN\",\"SHG\",\"SHI\",\"SHIP\",\"SHIPW\",\"SHIPZ\",\"SHLL\",\"SHLL\",\"SHLL\",\"SHLO\",\"SHLX\",\"SHM\",\"SHO\",\"SHO\",\"SHO\",\"SHOO\",\"SHOP\",\"SHSP\",\"SHV\",\"SHW\",\"SHY\",\"SHYD\",\"SHYG\",\"SHYL\",\"SI\",\"SIBN\",\"SIC\",\"SID\",\"SIEB\",\"SIEN\",\"SIF\",\"SIFY\",\"SIG\",\"SIGA\",\"SIGI\",\"SIJ\",\"SIL\",\"SILC\",\"SILJ\",\"SILK\",\"SILV\",\"SIM\",\"SIMO\",\"SIMS\",\"SINA\",\"SINO\",\"SINT\",\"SIRI\",\"SITC\",\"SITC\",\"SITC\",\"SITE\",\"SITM\",\"SITO\",\"SIVB\",\"SIVBP\",\"SIVR\",\"SIX\",\"SIZE\",\"SJB\",\"SJI\",\"SJIJ\",\"SJIU\",\"SJM\",\"SJNK\",\"SJR\",\"SJT\",\"SJW\",\"SKF\",\"SKM\",\"SKOR\",\"SKT\",\"SKX\",\"SKY\",\"SKYS\",\"SKYW\",\"SKYY\",\"SLAB\",\"SLB\",\"SLCA\",\"SLCT\",\"SLDB\",\"SLF\",\"SLG\",\"SLG\",\"SLGG\",\"SLGL\",\"SLGN\",\"SLIM\",\"SLM\",\"SLMBP\",\"SLNO\",\"SLP\",\"SLQD\",\"SLRC\",\"SLRX\",\"SLS\",\"SLT\",\"SLV\",\"SLVO\",\"SLVP\",\"SLX\",\"SLY\",\"SLYG\",\"SLYV\",\"SM\",\"SMAR\",\"SMB\",\"SMBC\",\"SMBK\",\"SMCI\",\"SMCP\",\"SMDD\",\"SMDV\",\"SMDY\",\"SMED\",\"SMEZ\",\"SMFG\",\"SMG\",\"SMH\",\"SMHB\",\"SMHD\",\"SMHI\",\"SMIN\",\"SMIT\",\"SMLF\",\"SMLL\",\"SMLP\",\"SMLV\",\"SMM\",\"SMMC\",\"SMMCU\",\"SMMCW\",\"SMMD\",\"SMMF\",\"SMMT\",\"SMMU\",\"SMMV\",\"SMN\",\"SMOG\",\"SMP\",\"SMPL\",\"SMRT\",\"SMSI\",\"SMTC\",\"SMTS\",\"SMTX\",\"SNA\",\"SNAP\",\"SNBR\",\"SNCA\",\"SNCR\",\"SND\",\"SNDE\",\"SNDL\",\"SNDR\",\"SNDX\",\"SNE\",\"SNES\",\"SNFCA\",\"SNGX\",\"SNGXW\",\"SNLN\",\"SNMP\",\"SNN\",\"SNOA\",\"SNP\",\"SNPE\",\"SNPS\",\"SNR\",\"SNSR\",\"SNSS\",\"SNV\",\"SNV\",\"SNV\",\"SNX\",\"SNY\",\"SO\",\"SOCL\",\"SOGO\",\"SOHO\",\"SOHOB\",\"SOHON\",\"SOHOO\",\"SOHU\",\"SOI\",\"SOIL\",\"SOJA\",\"SOJB\",\"SOJC\",\"SOJD\",\"SOL\",\"SOLN\",\"SOLO\",\"SOLOW\",\"SOLY\",\"SON\",\"SONA\",\"SONG\",\"SONGW\",\"SONM\",\"SONO\",\"SOR\",\"SORL\",\"SOVB\",\"SOXL\",\"SOXS\",\"SOXX\",\"SOYB\",\"SP\",\"SPAB\",\"SPAQ\",\"SPAQ\",\"SPAQ\",\"SPAR\",\"SPB\",\"SPBO\",\"SPCB\",\"SPCE\",\"SPCE\",\"SPCE\",\"SPDN\",\"SPDV\",\"SPDW\",\"SPE\",\"SPE\",\"SPEM\",\"SPEU\",\"SPEX\",\"SPFF\",\"SPFI\",\"SPG\",\"SPG\",\"SPGI\",\"SPGM\",\"SPGP\",\"SPH\",\"SPHB\",\"SPHD\",\"SPHQ\",\"SPHS\",\"SPHY\",\"SPI\",\"SPIB\",\"SPIP\",\"SPKE\",\"SPKEP\",\"SPLB\",\"SPLG\",\"SPLK\",\"SPLP\",\"SPLP\",\"SPLV\",\"SPMB\",\"SPMD\",\"SPMO\",\"SPMV\",\"SPN\",\"SPNE\",\"SPNS\",\"SPOK\",\"SPOT\",\"SPPI\",\"SPPP\",\"SPR\",\"SPRO\",\"SPRT\",\"SPSB\",\"SPSC\",\"SPSK\",\"SPSM\",\"SPT\",\"SPTI\",\"SPTL\",\"SPTM\",\"SPTN\",\"SPTS\",\"SPUS\",\"SPUU\",\"SPVM\",\"SPVU\",\"SPWH\",\"SPWR\",\"SPXB\",\"SPXC\",\"SPXE\",\"SPXL\",\"SPXN\",\"SPXS\",\"SPXT\",\"SPXU\",\"SPXV\",\"SPXX\",\"SPY\",\"SPYB\",\"SPYD\",\"SPYG\",\"SPYV\",\"SPYX\",\"SQ\",\"SQBG\",\"SQLV\",\"SQM\",\"SQNS\",\"SQQQ\",\"SR\",\"SR\",\"SRAC\",\"SRACU\",\"SRACW\",\"SRAX\",\"SRC\",\"SRC\",\"SRCE\",\"SRCL\",\"SRDX\",\"SRE\",\"SRE\",\"SRE\",\"SREA\",\"SRET\",\"SREV\",\"SRF\",\"SRG\",\"SRG\",\"SRI\",\"SRL\",\"SRLN\",\"SRLP\",\"SRNE\",\"SRPT\",\"SRRA\",\"SRRK\",\"SRS\",\"SRT\",\"SRTS\",\"SRTSW\",\"SRTY\",\"SRV\",\"SRVR\",\"SSB\",\"SSBI\",\"SSD\",\"SSG\",\"SSI\",\"SSKN\",\"SSL\",\"SSNC\",\"SSNT\",\"SSO\",\"SSP\",\"SSPK\",\"SSPKU\",\"SSPKW\",\"SSPY\",\"SSRM\",\"SSSS\",\"SSTI\",\"SSTK\",\"SSUS\",\"SSW\",\"SSW\",\"SSW\",\"SSW\",\"SSW\",\"SSW\",\"SSWA\",\"SSY\",\"SSYS\",\"ST\",\"STAA\",\"STAF\",\"STAG\",\"STAG\",\"STAR\",\"STAR\",\"STAR\",\"STAR\",\"STAY\",\"STBA\",\"STC\",\"STCN\",\"STE\",\"STFC\",\"STG\",\"STIM\",\"STIP\",\"STK\",\"STKL\",\"STKS\",\"STL\",\"STL\",\"STLD\",\"STLG\",\"STLV\",\"STM\",\"STML\",\"STMP\",\"STN\",\"STND\",\"STNE\",\"STNG\",\"STOK\",\"STON\",\"STOR\",\"STOT\",\"STPP\",\"STPZ\",\"STRA\",\"STRL\",\"STRM\",\"STRO\",\"STRS\",\"STRT\",\"STSA\",\"STT\",\"STT\",\"STT\",\"STT\",\"STWD\",\"STX\",\"STXB\",\"STXS\",\"STZ\",\"STZ\",\"SU\",\"SUB\",\"SUI\",\"SUM\",\"SUMR\",\"SUN\",\"SUNS\",\"SUNW\",\"SUP\",\"SUPN\",\"SUPV\",\"SURF\",\"SUSA\",\"SUSB\",\"SUSC\",\"SUSL\",\"SUZ\",\"SVA\",\"SVBI\",\"SVC\",\"SVM\",\"SVMK\",\"SVRA\",\"SVT\",\"SVVC\",\"SVXY\",\"SWAN\",\"SWAV\",\"SWCH\",\"SWI\",\"SWIR\",\"SWK\",\"SWKH\",\"SWKS\",\"SWM\",\"SWN\",\"SWP\",\"SWT\",\"SWTX\",\"SWX\",\"SWZ\",\"SXC\",\"SXI\",\"SXT\",\"SXTC\",\"SY\",\"SYBT\",\"SYBX\",\"SYE\",\"SYF\",\"SYF\",\"SYG\",\"SYK\",\"SYKE\",\"SYLD\",\"SYN\",\"SYNA\",\"SYNC\",\"SYNH\",\"SYNL\",\"SYPR\",\"SYRS\",\"SYV\",\"SYX\",\"SYY\",\"SZC\",\"SZK\",\"SZNE\",\"T\",\"T\",\"TA\",\"TAC\",\"TACO\",\"TACOW\",\"TACT\",\"TAGS\",\"TAIL\",\"TAIT\",\"TAK\",\"TAL\",\"TALO\",\"TALO\",\"TAN\",\"TANH\",\"TANNI\",\"TANNL\",\"TANNZ\",\"TAO\",\"TAOP\",\"TAP\",\"TAP\",\"TAPR\",\"TARA\",\"TARO\",\"TAST\",\"TAT\",\"TATT\",\"TAWK\",\"TAXF\",\"TAYD\",\"TBB\",\"TBBK\",\"TBC\",\"TBF\",\"TBI\",\"TBIO\",\"TBK\",\"TBLT\",\"TBLTW\",\"TBLU\",\"TBND\",\"TBNK\",\"TBPH\",\"TBT\",\"TBX\",\"TC\",\"TCBI\",\"TCBIL\",\"TCBIP\",\"TCBK\",\"TCCO\",\"TCDA\",\"TCF\",\"TCFC\",\"TCFCP\",\"TCI\",\"TCMD\",\"TCO\",\"TCO\",\"TCO\",\"TCOM\",\"TCON\",\"TCP\",\"TCPC\",\"TCRD\",\"TCRR\",\"TCRW\",\"TCRZ\",\"TCS\",\"TCTL\",\"TCX\",\"TD\",\"TDA\",\"TDAC\",\"TDACU\",\"TDACW\",\"TDC\",\"TDE\",\"TDF\",\"TDG\",\"TDI\",\"TDIV\",\"TDJ\",\"TDOC\",\"TDS\",\"TDTF\",\"TDTT\",\"TDV\",\"TDW\",\"TDW\",\"TDW\",\"TDW\",\"TDY\",\"TEAF\",\"TEAM\",\"TECB\",\"TECD\",\"TECH\",\"TECK\",\"TECL\",\"TECS\",\"TECTP\",\"TEDU\",\"TEF\",\"TEI\",\"TEL\",\"TELA\",\"TELL\",\"TEN\",\"TENB\",\"TENX\",\"TEO\",\"TER\",\"TERM\",\"TERP\",\"TESS\",\"TEUM\",\"TEVA\",\"TEX\",\"TFC\",\"TFC\",\"TFC\",\"TFC\",\"TFC\",\"TFFP\",\"TFI\",\"TFIV\",\"TFLO\",\"TFLT\",\"TFSL\",\"TFX\",\"TG\",\"TGA\",\"TGB\",\"TGC\",\"TGE\",\"TGEN\",\"TGH\",\"TGI\",\"TGLS\",\"TGNA\",\"TGP\",\"TGP\",\"TGP\",\"TGS\",\"TGT\",\"TGTX\",\"TH\",\"THBR\",\"THBRU\",\"THBRW\",\"THC\",\"THCA\",\"THCAU\",\"THCAW\",\"THCB\",\"THCBU\",\"THCBW\",\"THCX\",\"THD\",\"THFF\",\"THG\",\"THGA\",\"THM\",\"THMO\",\"THO\",\"THQ\",\"THR\",\"THRM\",\"THS\",\"THTX\",\"THW\",\"THWWW\",\"TIBR\",\"TIBRU\",\"TIBRW\",\"TIF\",\"TIGO\",\"TIGR\",\"TILE\",\"TILT\",\"TIP\",\"TIPT\",\"TIPX\",\"TIPZ\",\"TISI\",\"TITN\",\"TIVO\",\"TJX\",\"TK\",\"TKAT\",\"TKC\",\"TKKS\",\"TKKSR\",\"TKKSU\",\"TKKSW\",\"TKR\",\"TLC\",\"TLDH\",\"TLEH\",\"TLF\",\"TLGT\",\"TLH\",\"TLI\",\"TLK\",\"TLND\",\"TLRA\",\"TLRD\",\"TLRY\",\"TLSA\",\"TLT\",\"TLTD\",\"TLTE\",\"TLYS\",\"TM\",\"TMDI\",\"TMDV\",\"TMDX\",\"TME\",\"TMF\",\"TMFC\",\"TMHC\",\"TMO\",\"TMP\",\"TMQ\",\"TMSR\",\"TMST\",\"TMUS\",\"TMV\",\"TNA\",\"TNAV\",\"TNC\",\"TNDM\",\"TNET\",\"TNK\",\"TNP\",\"TNP\",\"TNP\",\"TNP\",\"TNP\",\"TNXP\",\"TOCA\",\"TOK\",\"TOKE\",\"TOL\",\"TOLZ\",\"TOO\",\"TOO\",\"TOO\",\"TOPS\",\"TORC\",\"TOT\",\"TOTA\",\"TOTAR\",\"TOTAU\",\"TOTAW\",\"TOTL\",\"TOUR\",\"TOWN\",\"TPAY\",\"TPB\",\"TPC\",\"TPCO\",\"TPH\",\"TPHD\",\"TPHS\",\"TPIC\",\"TPIF\",\"TPL\",\"TPLC\",\"TPOR\",\"TPR\",\"TPRE\",\"TPSC\",\"TPTX\",\"TPVG\",\"TPVY\",\"TPX\",\"TPYP\",\"TPZ\",\"TQQQ\",\"TR\",\"TRC\",\"TRCH\",\"TREC\",\"TREE\",\"TREX\",\"TRGP\",\"TRHC\",\"TRI\",\"TRIB\",\"TRIL\",\"TRIP\",\"TRMB\",\"TRMD\",\"TRMK\",\"TRMT\",\"TRN\",\"TRND\",\"TRNE\",\"TRNE\",\"TRNE\",\"TRNO\",\"TRNS\",\"TRNX\",\"TROV\",\"TROW\",\"TROX\",\"TRP\",\"TRPX\",\"TRQ\",\"TRS\",\"TRST\",\"TRT\",\"TRTN\",\"TRTN\",\"TRTN\",\"TRTN\",\"TRTN\",\"TRTX\",\"TRTY\",\"TRU\",\"TRUE\",\"TRUP\",\"TRV\",\"TRVG\",\"TRVI\",\"TRVN\",\"TRWH\",\"TRX\",\"TRXC\",\"TS\",\"TSBK\",\"TSC\",\"TSCAP\",\"TSCBP\",\"TSCO\",\"TSE\",\"TSEM\",\"TSG\",\"TSI\",\"TSLA\",\"TSLF\",\"TSLX\",\"TSM\",\"TSN\",\"TSQ\",\"TSRI\",\"TSU\",\"TTAC\",\"TTAI\",\"TTC\",\"TTD\",\"TTEC\",\"TTEK\",\"TTGT\",\"TTI\",\"TTM\",\"TTMI\",\"TTNP\",\"TTOO\",\"TTP\",\"TTPH\",\"TTT\",\"TTTN\",\"TTWO\",\"TU\",\"TUES\",\"TUFN\",\"TUP\",\"TUR\",\"TURN\",\"TUSA\",\"TUSK\",\"TV\",\"TVC\",\"TVE\",\"TVIX\",\"TVTY\",\"TW\",\"TWI\",\"TWIN\",\"TWLO\",\"TWM\",\"TWMC\",\"TWN\",\"TWNK\",\"TWNKW\",\"TWO\",\"TWO\",\"TWO\",\"TWO\",\"TWO\",\"TWO\",\"TWOU\",\"TWST\",\"TWTR\",\"TX\",\"TXG\",\"TXMD\",\"TXN\",\"TXRH\",\"TXT\",\"TY\",\"TY\",\"TYBS\",\"TYD\",\"TYG\",\"TYHT\",\"TYL\",\"TYME\",\"TYO\",\"TZA\",\"TZAC\",\"TZACU\",\"TZACW\",\"TZOO\",\"UA\",\"UAA\",\"UAE\",\"UAG\",\"UAL\",\"UAMY\",\"UAN\",\"UAPR\",\"UAUD\",\"UAUG\",\"UAVS\",\"UBA\",\"UBCP\",\"UBER\",\"UBFO\",\"UBG\",\"UBIO\",\"UBOH\",\"UBOT\",\"UBP\",\"UBP\",\"UBP\",\"UBR\",\"UBS\",\"UBSI\",\"UBT\",\"UBX\",\"UCBI\",\"UCC\",\"UCHF\",\"UCI\",\"UCIB\",\"UCO\",\"UCOM\",\"UCON\",\"UCTT\",\"UDEC\",\"UDN\",\"UDOW\",\"UDR\",\"UE\",\"UEC\",\"UEIC\",\"UEPS\",\"UEUR\",\"UEVM\",\"UFAB\",\"UFCS\",\"UFEB\",\"UFI\",\"UFO\",\"UFPI\",\"UFPT\",\"UFS\",\"UG\",\"UGA\",\"UGAZ\",\"UGBP\",\"UGE\",\"UGI\",\"UGL\",\"UGLD\",\"UGP\",\"UHAL\",\"UHS\",\"UHT\",\"UI\",\"UIHC\",\"UIS\",\"UITB\",\"UIVM\",\"UJAN\",\"UJB\",\"UJPY\",\"UJUL\",\"UJUN\",\"UL\",\"ULBI\",\"ULBR\",\"ULE\",\"ULH\",\"ULST\",\"ULTA\",\"ULTR\",\"ULVM\",\"UMBF\",\"UMC\",\"UMDD\",\"UMH\",\"UMH\",\"UMH\",\"UMH\",\"UMPQ\",\"UMRX\",\"UN\",\"UNAM\",\"UNB\",\"UNF\",\"UNFI\",\"UNG\",\"UNH\",\"UNIT\",\"UNL\",\"UNM\",\"UNMA\",\"UNOV\",\"UNP\",\"UNT\",\"UNTY\",\"UNVR\",\"UOCT\",\"UONE\",\"UONEK\",\"UPLD\",\"UPRO\",\"UPS\",\"UPV\",\"UPW\",\"UPWK\",\"URA\",\"URBN\",\"URE\",\"URG\",\"URGN\",\"URI\",\"URNM\",\"UROV\",\"URR\",\"URTH\",\"URTY\",\"USA\",\"USAC\",\"USAI\",\"USAK\",\"USAP\",\"USAS\",\"USAU\",\"USB\",\"USB\",\"USB\",\"USB\",\"USB\",\"USB\",\"USCI\",\"USCR\",\"USD\",\"USDP\",\"USDU\",\"USDY\",\"USEG\",\"USEP\",\"USEQ\",\"USFD\",\"USFR\",\"USHG\",\"USHY\",\"USI\",\"USIG\",\"USIO\",\"USL\",\"USLB\",\"USLM\",\"USLV\",\"USM\",\"USMC\",\"USMF\",\"USMV\",\"USNA\",\"USO\",\"USOI\",\"USPH\",\"USRT\",\"USSG\",\"UST\",\"USTB\",\"USV\",\"USVM\",\"USWS\",\"USWSW\",\"USX\",\"UTES\",\"UTF\",\"UTG\",\"UTHR\",\"UTI\",\"UTL\",\"UTMD\",\"UTRN\",\"UTSI\",\"UTSL\",\"UTX\",\"UUP\",\"UUU\",\"UUUU\",\"UUUU\",\"UVE\",\"UVSP\",\"UVV\",\"UVXY\",\"UWM\",\"UWT\",\"UXI\",\"UXIN\",\"UYG\",\"UYM\",\"UZA\",\"UZB\",\"UZC\",\"V\",\"VAC\",\"VAL\",\"VALE\",\"VALQ\",\"VALT\",\"VALU\",\"VALX\",\"VAM\",\"VAMO\",\"VAPO\",\"VAR\",\"VAW\",\"VB\",\"VBF\",\"VBFC\",\"VBIV\",\"VBK\",\"VBLT\",\"VBND\",\"VBR\",\"VBTX\",\"VC\",\"VCEL\",\"VCF\",\"VCIF\",\"VCIT\",\"VCLT\",\"VCNX\",\"VCR\",\"VCRA\",\"VCSH\",\"VCTR\",\"VCV\",\"VCYT\",\"VDC\",\"VDE\",\"VEA\",\"VEC\",\"VECO\",\"VEDL\",\"VEEV\",\"VEGA\",\"VEGI\",\"VEGN\",\"VEL\",\"VEON\",\"VER\",\"VER\",\"VERB\",\"VERBW\",\"VERI\",\"VERO\",\"VERT\",\"VERU\",\"VERY\",\"VET\",\"VETS\",\"VEU\",\"VFC\",\"VFF\",\"VFH\",\"VFL\",\"VFLQ\",\"VFMF\",\"VFMO\",\"VFMV\",\"VFQY\",\"VFVA\",\"VG\",\"VGFO\",\"VGI\",\"VGIT\",\"VGK\",\"VGLT\",\"VGM\",\"VGR\",\"VGSH\",\"VGT\",\"VGZ\",\"VHC\",\"VHI\",\"VHT\",\"VIAC\",\"VIACA\",\"VIAV\",\"VICI\",\"VICR\",\"VIDI\",\"VIE\",\"VIG\",\"VIGI\",\"VIIX\",\"VIOG\",\"VIOO\",\"VIOT\",\"VIOV\",\"VIPS\",\"VIR\",\"VIRC\",\"VIRT\",\"VIS\",\"VISL\",\"VIST\",\"VIV\",\"VIVE\",\"VIVO\",\"VIXM\",\"VIXY\",\"VJET\",\"VKI\",\"VKQ\",\"VKTX\",\"VKTXW\",\"VLGEA\",\"VLO\",\"VLRS\",\"VLRX\",\"VLT\",\"VLU\",\"VLUE\",\"VLY\",\"VLYPO\",\"VLYPP\",\"VMBS\",\"VMC\",\"VMD\",\"VMI\",\"VMM\",\"VMO\",\"VMOT\",\"VMW\",\"VNCE\",\"VNDA\",\"VNE\",\"VNET\",\"VNLA\",\"VNM\",\"VNO\",\"VNO\",\"VNO\",\"VNO\",\"VNOM\",\"VNQ\",\"VNQI\",\"VNRX\",\"VNTR\",\"VO\",\"VOC\",\"VOD\",\"VOE\",\"VOLT\",\"VONE\",\"VONG\",\"VONV\",\"VOO\",\"VOOG\",\"VOOV\",\"VOT\",\"VOX\",\"VOXX\",\"VOYA\",\"VOYA\",\"VPC\",\"VPG\",\"VPL\",\"VPU\",\"VPV\",\"VQT\",\"VRA\",\"VRAI\",\"VRAY\",\"VRCA\",\"VREX\",\"VRIG\",\"VRML\",\"VRNA\",\"VRNS\",\"VRNT\",\"VRP\",\"VRRM\",\"VRS\",\"VRSK\",\"VRSN\",\"VRT\",\"VRT\",\"VRTS\",\"VRTU\",\"VRTV\",\"VRTX\",\"VSAT\",\"VSDA\",\"VSEC\",\"VSGX\",\"VSH\",\"VSL\",\"VSLR\",\"VSMV\",\"VSS\",\"VST\",\"VST\",\"VSTM\",\"VSTO\",\"VT\",\"VTA\",\"VTC\",\"VTEB\",\"VTGN\",\"VTHR\",\"VTI\",\"VTIP\",\"VTIQ\",\"VTIQU\",\"VTIQW\",\"VTN\",\"VTNR\",\"VTR\",\"VTSI\",\"VTV\",\"VTVT\",\"VTWG\",\"VTWO\",\"VTWV\",\"VUG\",\"VUSE\",\"VUZI\",\"VV\",\"VVI\",\"VVNT\",\"VVNT\",\"VVPR\",\"VVR\",\"VVUS\",\"VVV\",\"VWO\",\"VWOB\",\"VXF\",\"VXRT\",\"VXUS\",\"VXX\",\"VXZ\",\"VYGR\",\"VYM\",\"VYMI\",\"VZ\",\"W\",\"WAAS\",\"WAB\",\"WABC\",\"WAFD\",\"WAFU\",\"WAL\",\"WALA\",\"WANT\",\"WASH\",\"WAT\",\"WATT\",\"WB\",\"WBA\",\"WBAI\",\"WBC\",\"WBIE\",\"WBIF\",\"WBIG\",\"WBII\",\"WBIL\",\"WBIN\",\"WBIT\",\"WBIY\",\"WBK\",\"WBND\",\"WBS\",\"WBS\",\"WBT\",\"WCC\",\"WCHN\",\"WCLD\",\"WCN\",\"WD\",\"WDAY\",\"WDC\",\"WDFC\",\"WDIV\",\"WDR\",\"WDRW\",\"WEA\",\"WEAT\",\"WEBK\",\"WEBL\",\"WEBS\",\"WEC\",\"WEI\",\"WELL\",\"WEN\",\"WERN\",\"WES\",\"WETF\",\"WEX\",\"WEYS\",\"WF\",\"WFC\",\"WFC\",\"WFC\",\"WFC\",\"WFC\",\"WFC\",\"WFC\",\"WFC\",\"WFC\",\"WFC\",\"WFC\",\"WFC\",\"WFC\",\"WFHY\",\"WFIG\",\"WGO\",\"WH\",\"WHD\",\"WHF\",\"WHFBZ\",\"WHG\",\"WHLM\",\"WHLR\",\"WHLRD\",\"WHLRP\",\"WHR\",\"WIA\",\"WIFI\",\"WIL\",\"WILC\",\"WINA\",\"WINC\",\"WING\",\"WINS\",\"WIP\",\"WIRE\",\"WISA\",\"WIT\",\"WIW\",\"WIX\",\"WIZ\",\"WK\",\"WKEY\",\"WKHS\",\"WLDN\",\"WLDR\",\"WLFC\",\"WLK\",\"WLKP\",\"WLL\",\"WLTW\",\"WM\",\"WMB\",\"WMC\",\"WMGI\",\"WMK\",\"WMS\",\"WMT\",\"WNC\",\"WNEB\",\"WNS\",\"WOMN\",\"WOOD\",\"WOR\",\"WORK\",\"WORX\",\"WOW\",\"WPC\",\"WPG\",\"WPG\",\"WPG\",\"WPM\",\"WPP\",\"WPRT\",\"WPS\",\"WPX\",\"WRB\",\"WRB\",\"WRB\",\"WRB\",\"WRB\",\"WRB\",\"WRE\",\"WRI\",\"WRK\",\"WRLD\",\"WRLS\",\"WRLSR\",\"WRLSU\",\"WRLSW\",\"WRN\",\"WRTC\",\"WSBC\",\"WSBF\",\"WSC\",\"WSFS\",\"WSG\",\"WSM\",\"WSO\",\"WSO\",\"WSR\",\"WST\",\"WSTG\",\"WSTL\",\"WTBA\",\"WTER\",\"WTFC\",\"WTFCM\",\"WTI\",\"WTID\",\"WTIU\",\"WTM\",\"WTMF\",\"WTRE\",\"WTREP\",\"WTRG\",\"WTRH\",\"WTRU\",\"WTS\",\"WTT\",\"WTTR\",\"WU\",\"WUBA\",\"WVE\",\"WVFC\",\"WVVI\",\"WVVIP\",\"WW\",\"WWD\",\"WWE\",\"WWJD\",\"WWR\",\"WWW\",\"WY\",\"WYND\",\"WYNN\",\"WYY\",\"X\",\"XAIR\",\"XAN\",\"XAN\",\"XAR\",\"XBI\",\"XBIO\",\"XBIOW\",\"XBIT\",\"XBUY\",\"XCEM\",\"XCOM\",\"XCUR\",\"XDIV\",\"XEC\",\"XEL\",\"XELA\",\"XELB\",\"XENE\",\"XENT\",\"XERS\",\"XES\",\"XFLT\",\"XFOR\",\"XGN\",\"XHB\",\"XHE\",\"XHR\",\"XHS\",\"XIN\",\"XITK\",\"XLB\",\"XLC\",\"XLE\",\"XLF\",\"XLG\",\"XLI\",\"XLK\",\"XLNX\",\"XLP\",\"XLRE\",\"XLRN\",\"XLSR\",\"XLU\",\"XLV\",\"XLY\",\"XME\",\"XMHQ\",\"XMLV\",\"XMMO\",\"XMPT\",\"XMVM\",\"XNCR\",\"XNET\",\"XNTK\",\"XOG\",\"XOM\",\"XOMA\",\"XONE\",\"XOP\",\"XOUT\",\"XP\",\"XPEL\",\"XPER\",\"XPH\",\"XPL\",\"XPO\",\"XPP\",\"XRAY\",\"XRF\",\"XRLV\",\"XRT\",\"XRX\",\"XSD\",\"XSHD\",\"XSHQ\",\"XSLV\",\"XSMO\",\"XSOE\",\"XSPA\",\"XSVM\",\"XSW\",\"XT\",\"XTH\",\"XTL\",\"XTLB\",\"XTN\",\"XTNT\",\"XVZ\",\"XWEB\",\"XXII\",\"XYF\",\"XYL\",\"Y\",\"YANG\",\"YAYO\",\"YCBD\",\"YCBD\",\"YCL\",\"YCOM\",\"YCS\",\"YELP\",\"YETI\",\"YEXT\",\"YGRN\",\"YGYI\",\"YGYIP\",\"YI\",\"YIN\",\"YINN\",\"YJ\",\"YLCO\",\"YLD\",\"YLDE\",\"YMAB\",\"YNDX\",\"YOLO\",\"YORW\",\"YPF\",\"YRCW\",\"YRD\",\"YTEN\",\"YTRA\",\"YUM\",\"YUMA\",\"YUMC\",\"YVR\",\"YXI\",\"YY\",\"YYY\",\"Z\",\"ZAGG\",\"ZAYO\",\"ZAZZT\",\"ZBH\",\"ZBIO\",\"ZBRA\",\"ZBZX\",\"ZBZZT\",\"ZCAN\",\"ZCZZT\",\"ZDEU\",\"ZDGE\",\"ZEAL\",\"ZEN\",\"ZEUS\",\"ZEXIT\",\"ZFGN\",\"ZG\",\"ZGBR\",\"ZGNX\",\"ZHOK\",\"ZIEXT\",\"ZIG\",\"ZION\",\"ZIONL\",\"ZIONN\",\"ZIONO\",\"ZIONP\",\"ZIONW\",\"ZIOP\",\"ZIV\",\"ZIXI\",\"ZJPN\",\"ZJZZT\",\"ZKIN\",\"ZLAB\",\"ZM\",\"ZMLP\",\"ZN\",\"ZNGA\",\"ZNH\",\"ZNWAA\",\"ZOM\",\"ZROZ\",\"ZS\",\"ZSAN\",\"ZSL\",\"ZTEST\",\"ZTO\",\"ZTR\",\"ZTS\",\"ZUMZ\",\"ZUO\",\"ZVO\",\"ZVV\",\"ZVZZC\",\"ZVZZT\",\"ZWZZT\",\"ZXIET\",\"ZXYZ\",\"ZXZZT\",\"ZYME\",\"ZYNE\",\"ZYXI\"]\n",
        "#source: https://raw.githubusercontent.com/RayBB/random-stock-picker/master/stocks.json"
      ],
      "execution_count": null,
      "outputs": []
    },
    {
      "cell_type": "markdown",
      "metadata": {
        "id": "kWX1capzkavq"
      },
      "source": [
        "### Get 5 random stocks and their data from the SEC website"
      ]
    },
    {
      "cell_type": "code",
      "metadata": {
        "id": "jnCPc4MarUO1"
      },
      "source": [
        "np.random.seed(1)\n",
        "stockchoices = [\"AMZN\", \"GOOG\"]#np.random.choice(stocks, 2, replace=False)\n",
        "cik_lookup = getCIKs(stockchoices)"
      ],
      "execution_count": null,
      "outputs": []
    },
    {
      "cell_type": "markdown",
      "metadata": {
        "id": "3knbQfQkrYRc"
      },
      "source": [
        "Use SecAPI to prevent website call limit"
      ]
    },
    {
      "cell_type": "code",
      "metadata": {
        "id": "4GiQOPGHrpc_"
      },
      "source": [
        "sec_api = project_helper.SecAPI()"
      ],
      "execution_count": null,
      "outputs": []
    },
    {
      "cell_type": "code",
      "metadata": {
        "id": "n8mOZGUHrXB6"
      },
      "source": [
        "from bs4 import BeautifulSoup\n",
        "\n",
        "def get_sec_data(cik, doc_type, start=0, count=60):\n",
        "    rss_url = 'https://www.sec.gov/cgi-bin/browse-edgar?action=getcompany' \\\n",
        "        '&CIK={}&type={}&start={}&count={}&owner=exclude&output=atom' \\\n",
        "        .format(cik, doc_type, start, count)\n",
        "    sec_data = sec_api.get(rss_url)\n",
        "    feed = BeautifulSoup(sec_data.encode('ascii'), 'xml').feed\n",
        "    entries = [\n",
        "        (\n",
        "            entry.content.find('filing-href').getText(),\n",
        "            entry.content.find('filing-type').getText(),\n",
        "            entry.content.find('filing-date').getText())\n",
        "        for entry in feed.find_all('entry', recursive=False)]\n",
        "\n",
        "    return entries"
      ],
      "execution_count": null,
      "outputs": []
    },
    {
      "cell_type": "code",
      "metadata": {
        "id": "3CbocPWarnaA",
        "colab": {
          "base_uri": "https://localhost:8080/"
        },
        "outputId": "15070c06-18a5-410a-dbb6-14a11e5b69cf"
      },
      "source": [
        "sec_data = {}\n",
        "\n",
        "for ticker, cik in cik_lookup.items():\n",
        "    sec_data[ticker] = get_sec_data(cik, '10-K')\n",
        "\n",
        "example_ticker = stockchoices[0]\n",
        "print(\"example ticker:\", example_ticker)\n",
        "pprint.pprint(sec_data[example_ticker][:5])"
      ],
      "execution_count": null,
      "outputs": [
        {
          "output_type": "stream",
          "text": [
            "example ticker: AMZN\n",
            "[('https://www.sec.gov/Archives/edgar/data/1018724/000101872421000004/0001018724-21-000004-index.htm',\n",
            "  '10-K',\n",
            "  '2021-02-03'),\n",
            " ('https://www.sec.gov/Archives/edgar/data/1018724/000101872420000004/0001018724-20-000004-index.htm',\n",
            "  '10-K',\n",
            "  '2020-01-31'),\n",
            " ('https://www.sec.gov/Archives/edgar/data/1018724/000101872419000004/0001018724-19-000004-index.htm',\n",
            "  '10-K',\n",
            "  '2019-02-01'),\n",
            " ('https://www.sec.gov/Archives/edgar/data/1018724/000101872418000005/0001018724-18-000005-index.htm',\n",
            "  '10-K',\n",
            "  '2018-02-02'),\n",
            " ('https://www.sec.gov/Archives/edgar/data/1018724/000101872417000011/0001018724-17-000011-index.htm',\n",
            "  '10-K',\n",
            "  '2017-02-10')]\n"
          ],
          "name": "stdout"
        }
      ]
    },
    {
      "cell_type": "code",
      "metadata": {
        "id": "Fn_ZSuuBrvdd",
        "colab": {
          "base_uri": "https://localhost:8080/"
        },
        "outputId": "c58c4937-7cb7-44ca-997d-994095def345"
      },
      "source": [
        "raw_fillings_by_ticker = {}\n",
        "\n",
        "for ticker, data in sec_data.items():\n",
        "    raw_fillings_by_ticker[ticker] = {}\n",
        "    for index_url, file_type, file_date in tqdm(data, desc='Downloading {} Fillings'.format(ticker), unit='filling'):\n",
        "        if (file_type == '10-K'):\n",
        "            file_url = index_url.replace('-index.htm', '.txt').replace('.txtl', '.txt')            \n",
        "            \n",
        "            raw_fillings_by_ticker[ticker][file_date] = sec_api.get(file_url)\n"
      ],
      "execution_count": null,
      "outputs": [
        {
          "output_type": "stream",
          "text": [
            "Downloading AMZN Fillings: 100%|██████████| 26/26 [00:04<00:00,  5.76filling/s]\n",
            "Downloading GOOG Fillings: 100%|██████████| 8/8 [00:01<00:00,  5.15filling/s]\n"
          ],
          "name": "stderr"
        }
      ]
    },
    {
      "cell_type": "code",
      "metadata": {
        "colab": {
          "base_uri": "https://localhost:8080/"
        },
        "id": "nXN2qFr3E5b_",
        "outputId": "d26ed8c4-e114-46c9-abc9-3808eee10ed1"
      },
      "source": [
        "print('Example Document:\\n\\n{}...'.format(next(iter(raw_fillings_by_ticker[example_ticker].values()))[:1000]))"
      ],
      "execution_count": null,
      "outputs": [
        {
          "output_type": "stream",
          "text": [
            "Example Document:\n",
            "\n",
            "<SEC-DOCUMENT>0001018724-21-000004.txt : 20210203\n",
            "<SEC-HEADER>0001018724-21-000004.hdr.sgml : 20210203\n",
            "<ACCEPTANCE-DATETIME>20210202194410\n",
            "ACCESSION NUMBER:\t\t0001018724-21-000004\n",
            "CONFORMED SUBMISSION TYPE:\t10-K\n",
            "PUBLIC DOCUMENT COUNT:\t\t107\n",
            "CONFORMED PERIOD OF REPORT:\t20201231\n",
            "FILED AS OF DATE:\t\t20210203\n",
            "DATE AS OF CHANGE:\t\t20210202\n",
            "\n",
            "FILER:\n",
            "\n",
            "\tCOMPANY DATA:\t\n",
            "\t\tCOMPANY CONFORMED NAME:\t\t\tAMAZON COM INC\n",
            "\t\tCENTRAL INDEX KEY:\t\t\t0001018724\n",
            "\t\tSTANDARD INDUSTRIAL CLASSIFICATION:\tRETAIL-CATALOG & MAIL-ORDER HOUSES [5961]\n",
            "\t\tIRS NUMBER:\t\t\t\t911646860\n",
            "\t\tSTATE OF INCORPORATION:\t\t\tDE\n",
            "\t\tFISCAL YEAR END:\t\t\t1231\n",
            "\n",
            "\tFILING VALUES:\n",
            "\t\tFORM TYPE:\t\t10-K\n",
            "\t\tSEC ACT:\t\t1934 Act\n",
            "\t\tSEC FILE NUMBER:\t000-22513\n",
            "\t\tFILM NUMBER:\t\t21583589\n",
            "\n",
            "\tBUSINESS ADDRESS:\t\n",
            "\t\tSTREET 1:\t\t410 TERRY AVENUE NORTH\n",
            "\t\tCITY:\t\t\tSEATTLE\n",
            "\t\tSTATE:\t\t\tWA\n",
            "\t\tZIP:\t\t\t98109\n",
            "\t\tBUSINESS PHONE:\t\t2062661000\n",
            "\n",
            "\tMAIL ADDRESS:\t\n",
            "\t\tSTREET 1:\t\t410 TERRY AVENUE NORTH\n",
            "\t\tCITY:\t\t\tSEATTLE\n",
            "\t\tSTATE:\t\t\tWA\n",
            "\t\tZIP:\t\t\t98109\n",
            "</SEC-HEADER>\n",
            "<DOCUMENT>\n",
            "<TYPE>10-K\n",
            "<SEQUENCE>1\n",
            "<FILENAM...\n"
          ],
          "name": "stdout"
        }
      ]
    },
    {
      "cell_type": "markdown",
      "metadata": {
        "id": "3NrCp7b7r9K_"
      },
      "source": [
        "## Breaking down the fillings into their associated documents"
      ]
    },
    {
      "cell_type": "code",
      "metadata": {
        "id": "_yBJN_G6r7YF"
      },
      "source": [
        "import re\n",
        "\n",
        "def get_documents(text):\n",
        "    \"\"\"\n",
        "    Extract the documents from the text\n",
        "\n",
        "    Parameters\n",
        "    ----------\n",
        "    text : str\n",
        "        The text with the document strings inside\n",
        "\n",
        "    Returns\n",
        "    -------\n",
        "    extracted_docs : list of str\n",
        "        The document strings found in `text`\n",
        "    \"\"\"\n",
        "    \n",
        "    extracted_docs = []\n",
        "    \n",
        "    doc_start_pattern = re.compile(r'<DOCUMENT>')\n",
        "    doc_end_pattern = re.compile(r'</DOCUMENT>')   \n",
        "    \n",
        "    doc_start_is = [x.end() for x in doc_start_pattern.finditer(text)]\n",
        "    doc_end_is = [x.start() for x in doc_end_pattern.finditer(text)]\n",
        "    \n",
        "    for doc_start_i, doc_end_i in zip(doc_start_is, doc_end_is):\n",
        "            extracted_docs.append(text[doc_start_i:doc_end_i])\n",
        "    \n",
        "    return extracted_docs"
      ],
      "execution_count": null,
      "outputs": []
    },
    {
      "cell_type": "code",
      "metadata": {
        "id": "svDoLUKRsFE9",
        "colab": {
          "base_uri": "https://localhost:8080/"
        },
        "outputId": "89dbbd46-8387-4573-af09-b8c515284476"
      },
      "source": [
        "filling_documents_by_ticker = {}\n",
        "\n",
        "for ticker, raw_fillings in raw_fillings_by_ticker.items():\n",
        "    filling_documents_by_ticker[ticker] = {}\n",
        "    for file_date, filling in tqdm(raw_fillings.items(), desc='Getting Documents from {} Fillings'.format(ticker), unit='filling'):\n",
        "        filling_documents_by_ticker[ticker][file_date] = get_documents(filling)\n",
        "\n",
        "\n",
        "print('\\n\\n'.join([\n",
        "    'Document {} Filed on {}:\\n{}...'.format(doc_i, file_date, doc[:200])\n",
        "    for file_date, docs in filling_documents_by_ticker[example_ticker].items()\n",
        "    for doc_i, doc in enumerate(docs)][:3]))"
      ],
      "execution_count": null,
      "outputs": [
        {
          "output_type": "stream",
          "text": [
            "Getting Documents from AMZN Fillings: 100%|██████████| 21/21 [00:00<00:00, 70.35filling/s]\n",
            "Getting Documents from GOOG Fillings: 100%|██████████| 6/6 [00:00<00:00, 34.32filling/s]"
          ],
          "name": "stderr"
        },
        {
          "output_type": "stream",
          "text": [
            "Document 0 Filed on 2021-02-03:\n",
            "\n",
            "<TYPE>10-K\n",
            "<SEQUENCE>1\n",
            "<FILENAME>amzn-20201231.htm\n",
            "<DESCRIPTION>10-K\n",
            "<TEXT>\n",
            "<XBRL>\n",
            "<?xml version=\"1.0\" ?><!--XBRL Document Created with Wdesk from Workiva--><!--Copyright 2021 Workiva--><!--r:552820d...\n",
            "\n",
            "Document 1 Filed on 2021-02-03:\n",
            "\n",
            "<TYPE>EX-21.1\n",
            "<SEQUENCE>2\n",
            "<FILENAME>amzn-20201231xex211.htm\n",
            "<DESCRIPTION>EXHIBIT 21.1\n",
            "<TEXT>\n",
            "<!DOCTYPE html PUBLIC \"-//W3C//DTD HTML 4.01 Transitional//EN\" \"http://www.w3.org/TR/html4/loose.dtd\"><htm...\n",
            "\n",
            "Document 2 Filed on 2021-02-03:\n",
            "\n",
            "<TYPE>EX-23.1\n",
            "<SEQUENCE>3\n",
            "<FILENAME>amzn-20201231xex231.htm\n",
            "<DESCRIPTION>EXHIBIT 23.1\n",
            "<TEXT>\n",
            "<!DOCTYPE html PUBLIC \"-//W3C//DTD HTML 4.01 Transitional//EN\" \"http://www.w3.org/TR/html4/loose.dtd\"><htm...\n"
          ],
          "name": "stdout"
        },
        {
          "output_type": "stream",
          "text": [
            "\n"
          ],
          "name": "stderr"
        }
      ]
    },
    {
      "cell_type": "markdown",
      "metadata": {
        "id": "IAEI71OmsOK7"
      },
      "source": [
        "Filtering out all the non 10-k forms in the 10-k filling"
      ]
    },
    {
      "cell_type": "code",
      "metadata": {
        "id": "fGqghu5WsJXr"
      },
      "source": [
        "def get_document_type(doc):\n",
        "    \"\"\"\n",
        "    Return the document type lowercased\n",
        "\n",
        "    Parameters\n",
        "    ----------\n",
        "    doc : str\n",
        "        The document string\n",
        "\n",
        "    Returns\n",
        "    -------\n",
        "    doc_type : str\n",
        "        The document type lowercased\n",
        "    \"\"\"\n",
        "    \n",
        "    #This seems to already work fine\n",
        "    type_pattern = re.compile(r'<TYPE>[^\\n]+')\n",
        "    \n",
        "    doc_type = type_pattern.findall(doc)[0][len('<TYPE>'):] \n",
        "    \n",
        "    return doc_type.lower()"
      ],
      "execution_count": null,
      "outputs": []
    },
    {
      "cell_type": "code",
      "metadata": {
        "id": "OsVFXbkJsXkF",
        "colab": {
          "base_uri": "https://localhost:8080/"
        },
        "outputId": "045792a1-9975-4c0b-c7b9-36ad157cf905"
      },
      "source": [
        "ten_ks_by_ticker = {}\n",
        "\n",
        "for ticker, filling_documents in filling_documents_by_ticker.items():\n",
        "    ten_ks_by_ticker[ticker] = []\n",
        "    for file_date, documents in filling_documents.items():\n",
        "        for document in documents:\n",
        "            if get_document_type(document) == '10-k':\n",
        "                ten_ks_by_ticker[ticker].append({\n",
        "                    'cik': cik_lookup[ticker],\n",
        "                    'file': document,\n",
        "                    'file_date': file_date})\n",
        "\n",
        "\n",
        "project_helper.print_ten_k_data(ten_ks_by_ticker[example_ticker][:5], ['cik', 'file', 'file_date'])"
      ],
      "execution_count": null,
      "outputs": [
        {
          "output_type": "stream",
          "text": [
            "[\n",
            "  {\n",
            "    cik: '0001018724'\n",
            "    file: '\\n<TYPE>10-K\\n<SEQUENCE>1\\n<FILENAME>amzn-2020123...\n",
            "    file_date: '2021-02-03'},\n",
            "  {\n",
            "    cik: '0001018724'\n",
            "    file: '\\n<TYPE>10-K\\n<SEQUENCE>1\\n<FILENAME>amzn-2019123...\n",
            "    file_date: '2020-01-31'},\n",
            "  {\n",
            "    cik: '0001018724'\n",
            "    file: '\\n<TYPE>10-K\\n<SEQUENCE>1\\n<FILENAME>amzn-2018123...\n",
            "    file_date: '2019-02-01'},\n",
            "  {\n",
            "    cik: '0001018724'\n",
            "    file: '\\n<TYPE>10-K\\n<SEQUENCE>1\\n<FILENAME>amzn-2017123...\n",
            "    file_date: '2018-02-02'},\n",
            "  {\n",
            "    cik: '0001018724'\n",
            "    file: '\\n<TYPE>10-K\\n<SEQUENCE>1\\n<FILENAME>amzn-2016123...\n",
            "    file_date: '2017-02-10'},\n",
            "]\n"
          ],
          "name": "stdout"
        }
      ]
    },
    {
      "cell_type": "markdown",
      "metadata": {
        "id": "8a2RW1MLsdrn"
      },
      "source": [
        "## Cleaning the data\n",
        "\n",
        "Now, we must clean the data. Implement a function clean_text to do just that. \n",
        "\n",
        "Perhaps it is easier to create several helper functions for readability."
      ]
    },
    {
      "cell_type": "code",
      "metadata": {
        "id": "QSUC61hzsZnv"
      },
      "source": [
        "def remove_html_tags(text): #example\n",
        "    text = BeautifulSoup(text, 'html.parser').get_text()\n",
        "    return text\n",
        "\n",
        "\n",
        "def clean_text(text):\n",
        "    '''\n",
        "    As we lemmatize and remove stopwords later, \n",
        "    here I will only remove html tags and make lower case.\n",
        "    '''\n",
        "    text = remove_html_tags(text)\n",
        "\n",
        "    text = text.lower()\n",
        "\n",
        "    return text"
      ],
      "execution_count": 88,
      "outputs": []
    },
    {
      "cell_type": "code",
      "metadata": {
        "id": "pFWrEqpznIUV"
      },
      "source": [
        "project_helper.print_ten_k_data("
      ],
      "execution_count": null,
      "outputs": []
    },
    {
      "cell_type": "code",
      "metadata": {
        "colab": {
          "base_uri": "https://localhost:8080/"
        },
        "id": "UqLKcYishUol",
        "outputId": "961f9a82-6439-4a75-feca-ef7c60cf1c35"
      },
      "source": [
        "project_helper.print_ten_k_data(ten_ks_by_ticker[example_ticker][:1], ['file'])"
      ],
      "execution_count": 87,
      "outputs": [
        {
          "output_type": "stream",
          "text": [
            "[\n",
            "  {\n",
            "    file: '\\n<TYPE>10-K\\n<SEQUENCE>1\\n<FILENAME>amzn-2020123...},\n",
            "]\n"
          ],
          "name": "stdout"
        }
      ]
    },
    {
      "cell_type": "code",
      "metadata": {
        "id": "xgvGmHGrsg3m",
        "colab": {
          "base_uri": "https://localhost:8080/"
        },
        "outputId": "db34973c-b2a1-46c8-9625-077f90cc6cac"
      },
      "source": [
        "for ticker, ten_ks in ten_ks_by_ticker.items():\n",
        "    for ten_k in tqdm(ten_ks, desc='Cleaning {} 10-Ks'.format(ticker), unit='document'):\n",
        "        ten_k['file_clean'] = clean_text(ten_k['file'])\n",
        "\n",
        "project_helper.print_ten_k_data(ten_ks_by_ticker[example_ticker][:5], ['file_clean'])"
      ],
      "execution_count": 89,
      "outputs": [
        {
          "output_type": "stream",
          "text": [
            "Cleaning AMZN 10-Ks: 100%|██████████| 21/21 [00:32<00:00,  1.53s/document]\n",
            "Cleaning GOOG 10-Ks: 100%|██████████| 6/6 [00:13<00:00,  2.26s/document]"
          ],
          "name": "stderr"
        },
        {
          "output_type": "stream",
          "text": [
            "[\n",
            "  {\n",
            "    file_clean: '\\n10-k\\n1\\namzn-20201231.htm\\n10-k\\n\\n\\n\\namzn-20...},\n",
            "  {\n",
            "    file_clean: '\\n10-k\\n1\\namzn-20191231x10k.htm\\n10-k\\n\\n\\n\\n\\n\\...},\n",
            "  {\n",
            "    file_clean: '\\n10-k\\n1\\namzn-20181231x10k.htm\\n10-k\\n\\n\\n\\n\\n\\...},\n",
            "  {\n",
            "    file_clean: '\\n10-k\\n1\\namzn-20171231x10k.htm\\n10-k\\n\\n\\n\\n\\n\\...},\n",
            "  {\n",
            "    file_clean: '\\n10-k\\n1\\namzn-20161231x10k.htm\\nform 10-k\\n\\n\\n...},\n",
            "]\n"
          ],
          "name": "stdout"
        },
        {
          "output_type": "stream",
          "text": [
            "\n"
          ],
          "name": "stderr"
        }
      ]
    },
    {
      "cell_type": "markdown",
      "metadata": {
        "id": "bRqO7_x_sln9"
      },
      "source": [
        "## Lemmatization\n",
        "\n",
        "Now let's start processing the text for analysis. First, lemmatize all words in the text."
      ]
    },
    {
      "cell_type": "code",
      "metadata": {
        "id": "TOzuWiM2sjYZ"
      },
      "source": [
        "from nltk.stem import WordNetLemmatizer\n",
        "from nltk.corpus import wordnet\n",
        "\n",
        "def lemmatize_words(words):\n",
        "    \"\"\"\n",
        "    Lemmatize words \n",
        "\n",
        "    Parameters\n",
        "    ----------\n",
        "    words : list of str\n",
        "        List of words\n",
        "\n",
        "    Returns\n",
        "    -------\n",
        "    lemmatized_words : 1d list of str\n",
        "        List of lemmatized words\n",
        "    \"\"\"\n",
        "    \n",
        "    lemmatized_words = [WordNetLemmatizer().lemmatize(word, 'v') for word in words]\n",
        "\n",
        "    return lemmatized_words"
      ],
      "execution_count": 90,
      "outputs": []
    },
    {
      "cell_type": "code",
      "metadata": {
        "id": "GoTcuO6kso5k",
        "colab": {
          "base_uri": "https://localhost:8080/"
        },
        "outputId": "605744c6-7f66-4bde-a999-79dc50f2ff14"
      },
      "source": [
        "word_pattern = re.compile('\\w+')\n",
        "\n",
        "for ticker, ten_ks in ten_ks_by_ticker.items():\n",
        "    for ten_k in tqdm(ten_ks, desc='Lemmatize {} 10-Ks'.format(ticker), unit='document'):\n",
        "        ten_k['file_lemma'] = lemmatize_words(word_pattern.findall(ten_k['file_clean']))\n",
        "\n",
        "project_helper.print_ten_k_data(ten_ks_by_ticker[example_ticker][:5], ['file_lemma'])"
      ],
      "execution_count": 91,
      "outputs": [
        {
          "output_type": "stream",
          "text": [
            "Lemmatize AMZN 10-Ks: 100%|██████████| 21/21 [00:03<00:00,  5.29document/s]\n",
            "Lemmatize GOOG 10-Ks: 100%|██████████| 6/6 [00:01<00:00,  4.05document/s]"
          ],
          "name": "stderr"
        },
        {
          "output_type": "stream",
          "text": [
            "[\n",
            "  {\n",
            "    file_lemma: '['10', 'k', '1', 'amzn', '20201231', 'htm', '10',...},\n",
            "  {\n",
            "    file_lemma: '['10', 'k', '1', 'amzn', '20191231x10k', 'htm', '...},\n",
            "  {\n",
            "    file_lemma: '['10', 'k', '1', 'amzn', '20181231x10k', 'htm', '...},\n",
            "  {\n",
            "    file_lemma: '['10', 'k', '1', 'amzn', '20171231x10k', 'htm', '...},\n",
            "  {\n",
            "    file_lemma: '['10', 'k', '1', 'amzn', '20161231x10k', 'htm', '...},\n",
            "]\n"
          ],
          "name": "stdout"
        },
        {
          "output_type": "stream",
          "text": [
            "\n"
          ],
          "name": "stderr"
        }
      ]
    },
    {
      "cell_type": "markdown",
      "metadata": {
        "id": "s19y95MXssK4"
      },
      "source": [
        "## Remove stopwords "
      ]
    },
    {
      "cell_type": "code",
      "metadata": {
        "id": "EEwSIkxOsrAh",
        "colab": {
          "base_uri": "https://localhost:8080/"
        },
        "outputId": "4bfeaf99-ac15-4580-a62c-7ebae69dd78e"
      },
      "source": [
        "from nltk.corpus import stopwords\n",
        "\n",
        "lemma_english_stopwords = lemmatize_words(stopwords.words('english'))\n",
        "\n",
        "for ticker, ten_ks in ten_ks_by_ticker.items():\n",
        "    for ten_k in tqdm(ten_ks, desc='Remove Stop Words for {} 10-Ks'.format(ticker), unit='10-K'):\n",
        "        ten_k['file_lemma'] = [word for word in ten_k['file_lemma'] if word not in lemma_english_stopwords]\n",
        "\n",
        "print('Stop Words Removed')"
      ],
      "execution_count": 92,
      "outputs": [
        {
          "output_type": "stream",
          "text": [
            "Remove Stop Words for AMZN 10-Ks: 100%|██████████| 21/21 [00:02<00:00, 10.0110-K/s]\n",
            "Remove Stop Words for GOOG 10-Ks: 100%|██████████| 6/6 [00:00<00:00,  7.2010-K/s]"
          ],
          "name": "stderr"
        },
        {
          "output_type": "stream",
          "text": [
            "Stop Words Removed\n"
          ],
          "name": "stdout"
        },
        {
          "output_type": "stream",
          "text": [
            "\n"
          ],
          "name": "stderr"
        }
      ]
    },
    {
      "cell_type": "markdown",
      "metadata": {
        "id": "kuP1QymAsx73"
      },
      "source": [
        "## Text Analysis\n",
        "\n",
        "### Loughran McDonald Sentiment Word Lists\n",
        "\n",
        "\n",
        "We'll be using the Loughran and McDonald sentiment word lists. These word lists cover the following sentiment:\n",
        "\n",
        "- Negative\n",
        "- Positive\n",
        "- Uncertainty\n",
        "- Litigious\n",
        "- Constraining\n",
        "- Superfluous\n",
        "- Modal\n",
        "\n",
        "Let's conduct a sentiment analysis on the 10-ks. First load these word lists."
      ]
    },
    {
      "cell_type": "code",
      "metadata": {
        "id": "7hEQYGPHswFC",
        "colab": {
          "base_uri": "https://localhost:8080/",
          "height": 204
        },
        "outputId": "16eefd85-94c6-4c5f-f3d4-d1db1ae0fa71"
      },
      "source": [
        "import os\n",
        "\n",
        "\n",
        "sentiments = ['negative', 'positive', 'uncertainty', 'litigious', 'constraining', 'interesting']\n",
        "\n",
        "sentiment_df = pd.read_csv('loughran_mcdonald_master_dic.csv')\n",
        "sentiment_df.columns = [column.lower() for column in sentiment_df.columns]\n",
        "\n",
        "# Remove unused information\n",
        "sentiment_df = sentiment_df[sentiments + ['word']]\n",
        "sentiment_df[sentiments] = sentiment_df[sentiments].astype(bool)\n",
        "sentiment_df = sentiment_df[(sentiment_df[sentiments]).any(1)]\n",
        "\n",
        "# Apply the same preprocessing to these words as the 10-k words\n",
        "sentiment_df['word'] = lemmatize_words(sentiment_df['word'].str.lower())\n",
        "sentiment_df = sentiment_df.drop_duplicates('word')\n",
        "\n",
        "sentiment_df.head()"
      ],
      "execution_count": 93,
      "outputs": [
        {
          "output_type": "execute_result",
          "data": {
            "text/html": [
              "<div>\n",
              "<style scoped>\n",
              "    .dataframe tbody tr th:only-of-type {\n",
              "        vertical-align: middle;\n",
              "    }\n",
              "\n",
              "    .dataframe tbody tr th {\n",
              "        vertical-align: top;\n",
              "    }\n",
              "\n",
              "    .dataframe thead th {\n",
              "        text-align: right;\n",
              "    }\n",
              "</style>\n",
              "<table border=\"1\" class=\"dataframe\">\n",
              "  <thead>\n",
              "    <tr style=\"text-align: right;\">\n",
              "      <th></th>\n",
              "      <th>negative</th>\n",
              "      <th>positive</th>\n",
              "      <th>uncertainty</th>\n",
              "      <th>litigious</th>\n",
              "      <th>constraining</th>\n",
              "      <th>interesting</th>\n",
              "      <th>word</th>\n",
              "    </tr>\n",
              "  </thead>\n",
              "  <tbody>\n",
              "    <tr>\n",
              "      <th>9</th>\n",
              "      <td>True</td>\n",
              "      <td>False</td>\n",
              "      <td>False</td>\n",
              "      <td>False</td>\n",
              "      <td>False</td>\n",
              "      <td>False</td>\n",
              "      <td>abandon</td>\n",
              "    </tr>\n",
              "    <tr>\n",
              "      <th>12</th>\n",
              "      <td>True</td>\n",
              "      <td>False</td>\n",
              "      <td>False</td>\n",
              "      <td>False</td>\n",
              "      <td>False</td>\n",
              "      <td>False</td>\n",
              "      <td>abandonment</td>\n",
              "    </tr>\n",
              "    <tr>\n",
              "      <th>13</th>\n",
              "      <td>True</td>\n",
              "      <td>False</td>\n",
              "      <td>False</td>\n",
              "      <td>False</td>\n",
              "      <td>False</td>\n",
              "      <td>False</td>\n",
              "      <td>abandonments</td>\n",
              "    </tr>\n",
              "    <tr>\n",
              "      <th>51</th>\n",
              "      <td>True</td>\n",
              "      <td>False</td>\n",
              "      <td>False</td>\n",
              "      <td>False</td>\n",
              "      <td>False</td>\n",
              "      <td>False</td>\n",
              "      <td>abdicate</td>\n",
              "    </tr>\n",
              "    <tr>\n",
              "      <th>54</th>\n",
              "      <td>True</td>\n",
              "      <td>False</td>\n",
              "      <td>False</td>\n",
              "      <td>False</td>\n",
              "      <td>False</td>\n",
              "      <td>False</td>\n",
              "      <td>abdication</td>\n",
              "    </tr>\n",
              "  </tbody>\n",
              "</table>\n",
              "</div>"
            ],
            "text/plain": [
              "    negative  positive  uncertainty  ...  constraining  interesting          word\n",
              "9       True     False        False  ...         False        False       abandon\n",
              "12      True     False        False  ...         False        False   abandonment\n",
              "13      True     False        False  ...         False        False  abandonments\n",
              "51      True     False        False  ...         False        False      abdicate\n",
              "54      True     False        False  ...         False        False    abdication\n",
              "\n",
              "[5 rows x 7 columns]"
            ]
          },
          "metadata": {
            "tags": []
          },
          "execution_count": 93
        }
      ]
    },
    {
      "cell_type": "markdown",
      "metadata": {
        "id": "p3OeU1R9tPEs"
      },
      "source": [
        "## Bag of Words\n",
        "\n",
        "Using the sentiment word lists, we can generate a sentiment bag-of-words from the 10-k documents. (Here, we ignore words that are not in sentiment word list for simplicity. Optional: try coming up with an improved system if you can.)"
      ]
    },
    {
      "cell_type": "code",
      "metadata": {
        "id": "RSzPjMXxtKwu"
      },
      "source": [
        "from collections import defaultdict, Counter\n",
        "from sklearn.feature_extraction.text import CountVectorizer\n",
        "\n",
        "\n",
        "def get_bag_of_words(sentiment_words, docs):\n",
        "    \"\"\"\n",
        "    Generate a bag of words from documents for a certain sentiment\n",
        "\n",
        "    Parameters\n",
        "    ----------\n",
        "    sentiment_words: Pandas Series\n",
        "        Words that signify a certain sentiment\n",
        "    docs : list of str\n",
        "        List of documents used to generate bag of words\n",
        "\n",
        "    Returns\n",
        "    -------\n",
        "    bag_of_words : 2-d Numpy Ndarray of int\n",
        "        Bag of words sentiment for each document\n",
        "        The first dimension is the document.\n",
        "        The second dimension is the word.\n",
        "    \"\"\"\n",
        "    \n",
        "    vec = CountVectorizer(vocabulary=sentiment_words)\n",
        "    vectors = vec.fit_transform(docs)\n",
        "    words_list = vec.get_feature_names()\n",
        "    bag_of_words = np.zeros([len(docs), len(words_list)])\n",
        "    \n",
        "    for i in range(len(docs)):\n",
        "        bag_of_words[i] = vectors[i].toarray()[0]\n",
        "\n",
        "    return bag_of_words.astype(int)"
      ],
      "execution_count": 94,
      "outputs": []
    },
    {
      "cell_type": "code",
      "metadata": {
        "id": "edoVzZTUtqUm",
        "colab": {
          "base_uri": "https://localhost:8080/"
        },
        "outputId": "c72371f9-a78e-4f0b-eda5-b14bdba07325"
      },
      "source": [
        "sentiment_bow_ten_ks = {}\n",
        "\n",
        "for ticker, ten_ks in ten_ks_by_ticker.items():\n",
        "    lemma_docs = [' '.join(ten_k['file_lemma']) for ten_k in ten_ks]\n",
        "    \n",
        "    sentiment_bow_ten_ks[ticker] = {\n",
        "        sentiment: get_bag_of_words(sentiment_df[sentiment_df[sentiment]]['word'], lemma_docs)\n",
        "        for sentiment in sentiments}\n",
        "\n",
        "\n",
        "project_helper.print_ten_k_data([sentiment_bow_ten_ks[example_ticker]], sentiments)"
      ],
      "execution_count": 95,
      "outputs": [
        {
          "output_type": "stream",
          "text": [
            "[\n",
            "  {\n",
            "    negative: '[[0 1 0 ... 0 0 0]\\n [0 0 0 ... 0 0 0]\\n [0 0 0 ....\n",
            "    positive: '[[13  0  0 ...  0  0  0]\\n [12  0  0 ...  0  0  0...\n",
            "    uncertainty: '[[0 0 0 ... 1 1 4]\\n [0 0 0 ... 1 1 2]\\n [0 0 0 ....\n",
            "    litigious: '[[0 0 0 ... 0 0 0]\\n [0 0 0 ... 0 0 0]\\n [0 0 0 ....\n",
            "    constraining: '[[0 0 0 ... 0 0 2]\\n [0 0 0 ... 0 0 2]\\n [0 0 0 ....\n",
            "    interesting: '[[2 0 0 ... 0 0 0]\\n [2 0 0 ... 0 0 0]\\n [2 0 0 ....},\n",
            "]\n"
          ],
          "name": "stdout"
        }
      ]
    },
    {
      "cell_type": "markdown",
      "metadata": {
        "id": "aOZC5uH6vJU9"
      },
      "source": [
        "## Jaccard Similarity\n",
        "\n",
        "Using the bag of words, implement `get_jaccard_similarity` to return the jaccard similarities between each tick in time. Make sure to turn the bag of words into a boolean array when calculating the jaccard similarity.\n",
        "\n",
        "\n",
        "(there are several other metrics, such as the Dice index, Simpson index, and cosine similarity. They all differ slightly in how they are calculated, each with their strengths and weaknesses. Optional: Try implementing other metrics and see how they differ from each other.)"
      ]
    },
    {
      "cell_type": "code",
      "metadata": {
        "id": "GHxLF-kMtqrn"
      },
      "source": [
        "# A little cheaty to import instead of implement,\n",
        "# but hey, these are efficiently implemented and convenient\n",
        "# Reinventing the wheel, and so on.\n",
        "from sklearn.metrics import jaccard_similarity_score\n",
        "\n",
        "def get_jaccard_similarity(bag_of_words_matrix):\n",
        "    \"\"\"\n",
        "    Get jaccard similarities for neighboring documents\n",
        "\n",
        "    Parameters\n",
        "    ----------\n",
        "    bag_of_words : 2-d Numpy Ndarray of int\n",
        "        Bag of words sentiment for each document\n",
        "        The first dimension is the document.\n",
        "        The second dimension is the word.\n",
        "\n",
        "    Returns\n",
        "    -------\n",
        "    jaccard_similarities : list of float\n",
        "        Jaccard similarities for neighboring documents\n",
        "    \"\"\"\n",
        "    \n",
        "    jaccard_similarities = []\n",
        "    bag_of_words_matrix = np.array(bag_of_words_matrix, dtype=bool)\n",
        "    \n",
        "    #Iterate over each element, computing jaccard similarity to the next element\n",
        "    for i in range(len(bag_of_words_matrix)-1):\n",
        "\n",
        "            current = bag_of_words_matrix[i]\n",
        "            next = bag_of_words_matrix[i+1]\n",
        "              \n",
        "            jaccard_similarities.append(jaccard_similarity_score(current,next))    \n",
        "    \n",
        "    return jaccard_similarities\n"
      ],
      "execution_count": 96,
      "outputs": []
    },
    {
      "cell_type": "code",
      "metadata": {
        "id": "7pO1xjz2vcJY",
        "colab": {
          "base_uri": "https://localhost:8080/",
          "height": 546
        },
        "outputId": "e41e3334-ec3b-4d41-e989-f9ca86776b7f"
      },
      "source": [
        "file_dates = {\n",
        "    ticker: [ten_k['file_date'] for ten_k in ten_ks]\n",
        "    for ticker, ten_ks in ten_ks_by_ticker.items()}  \n",
        "\n",
        "jaccard_similarities = {\n",
        "    ticker: {\n",
        "        sentiment_name: get_jaccard_similarity(sentiment_values)\n",
        "        for sentiment_name, sentiment_values in ten_k_sentiments.items()}\n",
        "    for ticker, ten_k_sentiments in sentiment_bow_ten_ks.items()}\n",
        "\n",
        "\n",
        "project_helper.plot_similarities(\n",
        "    [jaccard_similarities[example_ticker][sentiment][::-1] for sentiment in sentiments],\n",
        "    file_dates[example_ticker][1:][::-1],\n",
        "    'Jaccard Similarities for {} Sentiment'.format(example_ticker),\n",
        "    sentiments)"
      ],
      "execution_count": 97,
      "outputs": [
        {
          "output_type": "stream",
          "text": [
            "/usr/local/lib/python3.7/dist-packages/sklearn/metrics/_classification.py:664: FutureWarning: jaccard_similarity_score has been deprecated and replaced with jaccard_score. It will be removed in version 0.23. This implementation has surprising behavior for binary and multiclass classification tasks.\n",
            "  FutureWarning)\n"
          ],
          "name": "stderr"
        },
        {
          "output_type": "display_data",
          "data": {
            "image/png": "[encoded data removed]",
            "text/plain": [
              "<Figure size 720x504 with 1 Axes>"
            ]
          },
          "metadata": {
            "tags": [],
            "needs_background": "light"
          }
        }
      ]
    },
    {
      "cell_type": "markdown",
      "metadata": {
        "id": "kk1h8T_B08JY"
      },
      "source": [
        "Let's leave it at that for now. What do you see in the final plot? Are there any patterns that can potentially be exploited? Think about a possible strategy you can implement. I will ask this for the prep poll."
      ]
    }
  ]
}